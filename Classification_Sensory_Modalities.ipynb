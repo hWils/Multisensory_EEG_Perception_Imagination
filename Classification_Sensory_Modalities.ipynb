{
 "cells": [
  {
   "cell_type": "code",
   "execution_count": 13,
   "id": "f15b8f51",
   "metadata": {},
   "outputs": [],
   "source": [
    "import mne\n",
    "import numpy as np\n",
    "import pandas as pd\n",
    "from mne.decoding import CSP\n",
    "from sklearn.model_selection import train_test_split\n",
    "\n",
    "from sklearn.pipeline import Pipeline\n",
    "from sklearn.discriminant_analysis import LinearDiscriminantAnalysis\n",
    "from sklearn.model_selection import ShuffleSplit, cross_val_score, cross_val_predict "
   ]
  },
  {
   "cell_type": "code",
   "execution_count": 2,
   "id": "56409f33",
   "metadata": {
    "tags": [
     "parameters"
    ]
   },
   "outputs": [],
   "source": [
    "subject = '15'\n",
    "session = '1'\n",
    "task = 'perception'\n",
    "iterations = 50"
   ]
  },
  {
   "cell_type": "code",
   "execution_count": 3,
   "id": "f05150e3",
   "metadata": {},
   "outputs": [],
   "source": [
    "datapoint = subject+'_'+session+ '_epo.fif'\n",
    "modality_1 = 'audio'\n",
    "modality_2 = 'pictorial'\n",
    "modality_3 = 'orthographic'\n",
    "if task == 'perception':\n",
    "    event_tag = 'perc'\n",
    "elif task == 'imagine':\n",
    "    event_tag = 'imag'"
   ]
  },
  {
   "cell_type": "code",
   "execution_count": 4,
   "id": "9c58c956",
   "metadata": {
    "scrolled": true
   },
   "outputs": [
    {
     "name": "stdout",
     "output_type": "stream",
     "text": [
      "Reading X:\\CompSci\\ResearchProjects\\EJONeill\\Neuroimaging\\multisensoryeeg\\processed_eeg\\epochs\\perception_audio\\15_1_epo.fif ...\n",
      "    Found the data of interest:\n",
      "        t =       0.00 ...    2000.00 ms\n",
      "        0 CTF compensation matrices available\n",
      "Not setting metadata\n",
      "87 matching events found\n",
      "No baseline correction applied\n",
      "0 projection items activated\n",
      "Reading X:\\CompSci\\ResearchProjects\\EJONeill\\Neuroimaging\\multisensoryeeg\\processed_eeg\\epochs\\perception_pictorial\\15_1_epo.fif ...\n"
     ]
    },
    {
     "name": "stderr",
     "output_type": "stream",
     "text": [
      "C:\\Users\\hlw69\\AppData\\Local\\Temp\\ipykernel_16624\\2488082779.py:13: RuntimeWarning: This filename (X:\\CompSci\\ResearchProjects\\EJONeill\\Neuroimaging\\multisensoryeeg\\processed_eeg\\epochs\\perception_audio\\15_1_epo.fif) does not conform to MNE naming conventions. All events files should end with .eve, -eve.fif, -eve.fif.gz, -eve.lst, -eve.txt, _eve.fif, _eve.fif.gz, _eve.lst, _eve.txt or -annot.fif\n",
      "  audio_events = mne.read_events(path_audio+ datapoint)\n"
     ]
    },
    {
     "name": "stdout",
     "output_type": "stream",
     "text": [
      "    Found the data of interest:\n",
      "        t =       0.00 ...    3000.00 ms\n",
      "        0 CTF compensation matrices available\n",
      "Not setting metadata\n",
      "100 matching events found\n",
      "No baseline correction applied\n",
      "0 projection items activated\n"
     ]
    },
    {
     "name": "stderr",
     "output_type": "stream",
     "text": [
      "C:\\Users\\hlw69\\AppData\\Local\\Temp\\ipykernel_16624\\2488082779.py:17: RuntimeWarning: This filename (X:\\CompSci\\ResearchProjects\\EJONeill\\Neuroimaging\\multisensoryeeg\\processed_eeg\\epochs\\perception_pictorial\\15_1_epo.fif) does not conform to MNE naming conventions. All events files should end with .eve, -eve.fif, -eve.fif.gz, -eve.lst, -eve.txt, _eve.fif, _eve.fif.gz, _eve.lst, _eve.txt or -annot.fif\n",
      "  pictorial_events = mne.read_events(path_pictorial+ datapoint)\n"
     ]
    },
    {
     "name": "stdout",
     "output_type": "stream",
     "text": [
      "Reading X:\\CompSci\\ResearchProjects\\EJONeill\\Neuroimaging\\multisensoryeeg\\processed_eeg\\epochs\\perception_orthographic\\15_1_epo.fif ...\n",
      "    Found the data of interest:\n",
      "        t =       0.00 ...    3000.00 ms\n",
      "        0 CTF compensation matrices available\n",
      "Not setting metadata\n",
      "79 matching events found\n",
      "No baseline correction applied\n",
      "0 projection items activated\n"
     ]
    },
    {
     "name": "stderr",
     "output_type": "stream",
     "text": [
      "C:\\Users\\hlw69\\AppData\\Local\\Temp\\ipykernel_16624\\2488082779.py:21: RuntimeWarning: This filename (X:\\CompSci\\ResearchProjects\\EJONeill\\Neuroimaging\\multisensoryeeg\\processed_eeg\\epochs\\perception_orthographic\\15_1_epo.fif) does not conform to MNE naming conventions. All events files should end with .eve, -eve.fif, -eve.fif.gz, -eve.lst, -eve.txt, _eve.fif, _eve.fif.gz, _eve.lst, _eve.txt or -annot.fif\n",
      "  ortho_events = mne.read_events(path_ortho+ datapoint)\n",
      "C:\\Users\\hlw69\\AppData\\Local\\Temp\\ipykernel_16624\\2488082779.py:30: RuntimeWarning: Concatenation of Annotations within Epochs is not supported yet. All annotations will be dropped.\n",
      "  epochs = mne.concatenate_epochs([audio_epochs,pictorial_epochs,ortho_epochs])\n"
     ]
    },
    {
     "name": "stdout",
     "output_type": "stream",
     "text": [
      "Not setting metadata\n",
      "266 matching events found\n",
      "No baseline correction applied\n"
     ]
    }
   ],
   "source": [
    "\n",
    "path_audio = 'X:\\\\CompSci\\\\ResearchProjects\\\\EJONeill\\\\Neuroimaging\\\\multisensoryeeg\\\\processed_eeg\\\\epochs\\\\'+task+'_'+modality_1+'\\\\'\n",
    "path_pictorial = 'X:\\\\CompSci\\\\ResearchProjects\\\\EJONeill\\\\Neuroimaging\\\\multisensoryeeg\\\\processed_eeg\\\\epochs\\\\'+task+'_'+modality_2+'\\\\'\n",
    "path_ortho = 'X:\\\\CompSci\\\\ResearchProjects\\\\EJONeill\\\\Neuroimaging\\\\multisensoryeeg\\\\processed_eeg\\\\epochs\\\\'+task+'_'+modality_3+'\\\\'\n",
    "\n",
    "\n",
    "#imagination_path_pictorial = 'X:\\\\CompSci\\\\ResearchProjects\\\\EJONeill\\\\Neuroimaging\\\\multisensoryeeg\\\\processed_eeg\\\\epochs\\\\imagine_'+modality_1+'\\\\'\n",
    "#imagination_path_pictorial = 'X:\\\\CompSci\\\\ResearchProjects\\\\EJONeill\\\\Neuroimaging\\\\multisensoryeeg\\\\processed_eeg\\\\epochs\\\\imagine_'+modality_2+'\\\\'\n",
    "\n",
    "\n",
    "\n",
    "\n",
    "audio_epochs = mne.read_epochs(path_audio + datapoint)\n",
    "audio_events = mne.read_events(path_audio+ datapoint)\n",
    "audio_epochs = audio_epochs.crop(tmin=0, tmax=2)\n",
    "\n",
    "pictorial_epochs = mne.read_epochs(path_pictorial + datapoint)\n",
    "pictorial_events = mne.read_events(path_pictorial+ datapoint)\n",
    "pictorial_epochs = pictorial_epochs.crop(tmin=0, tmax=2)\n",
    "\n",
    "ortho_epochs = mne.read_epochs(path_ortho + datapoint)\n",
    "ortho_events = mne.read_events(path_ortho+ datapoint)\n",
    "ortho_epochs = ortho_epochs.crop(tmin=0, tmax=2)\n",
    "\n",
    "\n",
    "\n",
    "#imagination_epochs = mne.read_epochs(imagine_path + datapoint)\n",
    "#imagination_events = mne.read_events(imagine_path+ datapoint)\n",
    "#imagination_epochs = imagination_epochs.crop(tmin=0, tmax=2)\n",
    "\n",
    "epochs = mne.concatenate_epochs([audio_epochs,pictorial_epochs,ortho_epochs])\n"
   ]
  },
  {
   "cell_type": "markdown",
   "id": "5d523996",
   "metadata": {},
   "source": [
    "### Edit event info below based on what sensory modality classifying"
   ]
  },
  {
   "cell_type": "code",
   "execution_count": 5,
   "id": "806a9038",
   "metadata": {},
   "outputs": [
    {
     "name": "stdout",
     "output_type": "stream",
     "text": [
      "{'perc_flower_s': 315, 'perc_penguin_s': 316, 'perc_guitar_s': 317} {'perc_flower_p': 312, 'perc_penguin_p': 313, 'perc_guitar_p': 314} {'perc_flower_t': 309, 'perc_penguin_t': 310, 'perc_guitar_t': 311}\n"
     ]
    }
   ],
   "source": [
    "print(audio_epochs.event_id, pictorial_epochs.event_id, ortho_epochs.event_id)"
   ]
  },
  {
   "cell_type": "code",
   "execution_count": 6,
   "id": "5188185e",
   "metadata": {
    "scrolled": true
   },
   "outputs": [
    {
     "name": "stdout",
     "output_type": "stream",
     "text": [
      "<Epochs |  266 events (all good), 0 - 2 sec, baseline off, ~515.8 MB, data loaded,\n",
      " 'audio': 87\n",
      " 'pictorial': 100\n",
      " 'orthographic': 79>\n"
     ]
    }
   ],
   "source": [
    "epochs = mne.epochs.combine_event_ids(epochs, old_event_ids = [event_tag+'_penguin_s',event_tag+'_flower_s',event_tag+'_guitar_s'],new_event_id = {'audio':1})#, perc_flower_p, {'perc_flower_p': 312}, copy = False)\n",
    "epochs = mne.epochs.combine_event_ids(epochs, old_event_ids = [event_tag+'_penguin_p',event_tag+'_flower_p',event_tag+'_guitar_p'], new_event_id = {'pictorial':0})\n",
    "epochs = mne.epochs.combine_event_ids(epochs, old_event_ids = [event_tag+'_penguin_t',event_tag+'_flower_t',event_tag+'_guitar_t'], new_event_id = {'orthographic':2})\n",
    "print(epochs)\n"
   ]
  },
  {
   "cell_type": "code",
   "execution_count": 7,
   "id": "0b0c323f",
   "metadata": {
    "scrolled": true
   },
   "outputs": [
    {
     "name": "stdout",
     "output_type": "stream",
     "text": [
      "[1 1 1 1 1 1 1 1 1 1 1 1 1 1 1 1 1 1 1 1 1 1 1 1 1 1 1 1 1 1 1 1 1 1 1 1 1\n",
      " 1 1 1 1 1 1 1 1 1 1 1 1 1 1 1 1 1 1 1 1 1 1 1 1 1 1 1 1 1 1 1 1 1 1 1 1 1\n",
      " 1 1 1 1 1 1 1 1 1 1 1 1 1 0 0 0 0 0 0 0 0 0 0 0 0 0 0 0 0 0 0 0 0 0 0 0 0\n",
      " 0 0 0 0 0 0 0 0 0 0 0 0 0 0 0 0 0 0 0 0 0 0 0 0 0 0 0 0 0 0 0 0 0 0 0 0 0\n",
      " 0 0 0 0 0 0 0 0 0 0 0 0 0 0 0 0 0 0 0 0 0 0 0 0 0 0 0 0 0 0 0 0 0 0 0 0 0\n",
      " 0 0 2 2 2 2 2 2 2 2 2 2 2 2 2 2 2 2 2 2 2 2 2 2 2 2 2 2 2 2 2 2 2 2 2 2 2\n",
      " 2 2 2 2 2 2 2 2 2 2 2 2 2 2 2 2 2 2 2 2 2 2 2 2 2 2 2 2 2 2 2 2 2 2 2 2 2\n",
      " 2 2 2 2 2 2 2]\n"
     ]
    }
   ],
   "source": [
    "labels = epochs.events[:, -1]\n",
    "print(labels)\n",
    "#print(epochs.shape[2])"
   ]
  },
  {
   "cell_type": "code",
   "execution_count": null,
   "id": "e21675b0",
   "metadata": {},
   "outputs": [],
   "source": [
    "#from numpy.random import seed\n",
    "#from numpy.random import randn\n",
    "#from matplotlib import pyplot\n",
    "#epochs_data = epochs.get_data()\n",
    "#epochs_data = np.reshape(epochs_data, (epochs_data.shape[0], epochs_data.shape[1]* epochs_data.shape[2]))\n",
    "# seed the random number generator\n",
    "#seed(1)\n",
    "# generate univariate observations\n",
    "#data = 5 * randn(100) + 50\n",
    "# histogram plot\n",
    "#pyplot.hist(epochs_data)\n",
    "#pyplot.show()"
   ]
  },
  {
   "cell_type": "code",
   "execution_count": null,
   "id": "fd012c22",
   "metadata": {},
   "outputs": [],
   "source": [
    "# pyriemmann implementation\n",
    "#from pyriemann.classification import MDM\n",
    "#from pyriemann.estimation import Covariances\n",
    "#from sklearn.model_selection import KFold\n",
    "#epochs_data = epochs.get_data()\n",
    "#cv = ShuffleSplit(10, test_size=0.2, random_state=42)\n",
    "#cv_split = cv.split(epochs_data)\n",
    "#cv = KFold(n_splits=10,shuffle=True,random_state=42)\n",
    "\n",
    "#cov_data_train = Covariances().transform(epochs_data)\n",
    "#mdm = MDM(metric=dict(mean = 'riemann', distance='riemann'))\n",
    "#scores = cross_val_score(clf, cov_data_train, labels, cv=cv, n_jobs=None)\n",
    "                     "
   ]
  },
  {
   "cell_type": "code",
   "execution_count": 29,
   "id": "7fe050ae",
   "metadata": {},
   "outputs": [
    {
     "name": "stdout",
     "output_type": "stream",
     "text": [
      "psd created\n",
      "Classifier = [0.68518519 0.60377358 0.73584906 0.67924528 0.67924528]. Mean accuracy = 0.6766596785464709\n",
      "Classifier = [0.55555556 0.66037736 0.64150943 0.83018868 0.67924528]. Mean accuracy = 0.6733752620545073\n"
     ]
    },
    {
     "data": {
      "image/png": "[encoded data removed]",
      "text/plain": [
       "<Figure size 640x480 with 2 Axes>"
      ]
     },
     "metadata": {},
     "output_type": "display_data"
    }
   ],
   "source": [
    "from xgboost import XGBClassifier\n",
    "from sklearn import svm\n",
    "from sklearn.discriminant_analysis import LinearDiscriminantAnalysis\n",
    "from sklearn.linear_model import LogisticRegression\n",
    "from sklearn.preprocessing import RobustScaler, StandardScaler\n",
    "from sklearn.pipeline import make_pipeline\n",
    "from mne.decoding import CSP, Scaler, Vectorizer, cross_val_multiscore,PSDEstimator,UnsupervisedSpatialFilter\n",
    "from sklearn.model_selection import train_test_split\n",
    "from sklearn.model_selection import StratifiedKFold\n",
    "from sklearn.metrics import classification_report, confusion_matrix\n",
    "from sklearn.decomposition import PCA\n",
    "from sklearn import svm\n",
    "from sklearn.metrics import plot_confusion_matrix, accuracy_score\n",
    "import matplotlib.pyplot as plt\n",
    "from sklearn.metrics import confusion_matrix, ConfusionMatrixDisplay\n",
    "\n",
    "\n",
    "\n",
    "#data = decomposed_data\n",
    "data =  epochs.get_data()\n",
    "#data = data.reshape(data.shape[0],data.shape[1]*data.shape[2])\n",
    "#print(\"Should be 2D if using XGBoost \", data.shape)\n",
    "#X_train, X_test, y_train, y_test = train_test_split(data, labels, test_size=0.2, random_state=42)\n",
    "\n",
    "#psd = mne.decoding.PSDEstimator()\n",
    "\n",
    "csp = CSP(n_components=4, norm_trace=False, reg = 'empirical')\n",
    "print(\"psd created\")\n",
    "\n",
    "#model = XGBClassifier(use_label_encoder=False, eval_metric='mlogloss')\n",
    "\n",
    "clf = make_pipeline(\n",
    "  #  model\n",
    "    Scaler(epochs.info),\n",
    "  #  psd,\n",
    " #   UnsupervisedSpatialFilter(PCA(124), average=False),  # this has to be done due to this error: https://github.com/mne-tools/mne-python/issues/9094\n",
    "#    csp,\n",
    "    Vectorizer(),\n",
    "   # svm.SVC()\n",
    "    LogisticRegression(solver='liblinear')  # liblinear is faster than lbfgs\n",
    ")\n",
    "\n",
    "predictions_all = []\n",
    "labels_all = []\n",
    "accuracies = []\n",
    "from random import randint # ensure that different random_state each time\n",
    "for i in range(iterations):\n",
    "    cv = StratifiedKFold(n_splits=5, shuffle=True, random_state=randint(1,50))\n",
    "    #clf = AdaBoostClassifier(n_estimators=100)\n",
    "    scores = cross_val_score(clf, data, labels, cv=cv)\n",
    "    predictions = cross_val_predict(clf, data, labels, cv=cv)\n",
    "    predictions_all = predictions_all+ predictions.tolist()\n",
    "    labels_all=labels_all+ labels.tolist()\n",
    "    \n",
    "    print(f\"Classifier = {scores}. Mean accuracy = {scores.mean()}\")\n",
    "    accuracies.append(scores)\n",
    "    \n",
    "conf_mat = confusion_matrix(labels_all, predictions_all)\n",
    "cmd = ConfusionMatrixDisplay(conf_mat, display_labels=['pictorial','audio', 'orthographic'])\n",
    "#cmd.plot()\n",
    "#plt.show()\n"
   ]
  },
  {
   "cell_type": "code",
   "execution_count": 27,
   "id": "e5644d60",
   "metadata": {},
   "outputs": [
    {
     "name": "stdout",
     "output_type": "stream",
     "text": [
      "[[1, 1, 1, 1, 1, 1, 1, 1, 1, 1, 1, 1, 1, 1, 1, 1, 1, 1, 1, 1, 1, 1, 1, 1, 1, 1, 1, 1, 1, 1, 1, 1, 1, 1, 1, 1, 1, 1, 1, 1, 1, 1, 1, 1, 1, 1, 1, 1, 1, 1, 1, 1, 1, 1, 1, 1, 1, 1, 1, 1, 1, 1, 1, 1, 1, 1, 1, 1, 1, 1, 1, 1, 1, 1, 1, 1, 1, 1, 1, 1, 1, 1, 1, 1, 1, 1, 1, 0, 0, 0, 0, 0, 0, 0, 0, 0, 0, 0, 0, 0, 0, 0, 0, 0, 0, 0, 0, 0, 0, 0, 0, 0, 0, 0, 0, 0, 0, 0, 0, 0, 0, 0, 0, 0, 0, 0, 0, 0, 0, 0, 0, 0, 0, 0, 0, 0, 0, 0, 0, 0, 0, 0, 0, 0, 0, 0, 0, 0, 0, 0, 0, 0, 0, 0, 0, 0, 0, 0, 0, 0, 0, 0, 0, 0, 0, 0, 0, 0, 0, 0, 0, 0, 0, 0, 0, 0, 0, 0, 0, 0, 0, 0, 0, 0, 0, 0, 0, 2, 2, 2, 2, 2, 2, 2, 2, 2, 2, 2, 2, 2, 2, 2, 2, 2, 2, 2, 2, 2, 2, 2, 2, 2, 2, 2, 2, 2, 2, 2, 2, 2, 2, 2, 2, 2, 2, 2, 2, 2, 2, 2, 2, 2, 2, 2, 2, 2, 2, 2, 2, 2, 2, 2, 2, 2, 2, 2, 2, 2, 2, 2, 2, 2, 2, 2, 2, 2, 2, 2, 2, 2, 2, 2, 2, 2, 2, 2], [1, 1, 1, 1, 1, 1, 1, 1, 1, 1, 1, 1, 1, 1, 1, 1, 1, 1, 1, 1, 1, 1, 1, 1, 1, 1, 1, 1, 1, 1, 1, 1, 1, 1, 1, 1, 1, 1, 1, 1, 1, 1, 1, 1, 1, 1, 1, 1, 1, 1, 1, 1, 1, 1, 1, 1, 1, 1, 1, 1, 1, 1, 1, 1, 1, 1, 1, 1, 1, 1, 1, 1, 1, 1, 1, 1, 1, 1, 1, 1, 1, 1, 1, 1, 1, 1, 1, 0, 0, 0, 0, 0, 0, 0, 0, 0, 0, 0, 0, 0, 0, 0, 0, 0, 0, 0, 0, 0, 0, 0, 0, 0, 0, 0, 0, 0, 0, 0, 0, 0, 0, 0, 0, 0, 0, 0, 0, 0, 0, 0, 0, 0, 0, 0, 0, 0, 0, 0, 0, 0, 0, 0, 0, 0, 0, 0, 0, 0, 0, 0, 0, 0, 0, 0, 0, 0, 0, 0, 0, 0, 0, 0, 0, 0, 0, 0, 0, 0, 0, 0, 0, 0, 0, 0, 0, 0, 0, 0, 0, 0, 0, 0, 0, 0, 0, 0, 0, 2, 2, 2, 2, 2, 2, 2, 2, 2, 2, 2, 2, 2, 2, 2, 2, 2, 2, 2, 2, 2, 2, 2, 2, 2, 2, 2, 2, 2, 2, 2, 2, 2, 2, 2, 2, 2, 2, 2, 2, 2, 2, 2, 2, 2, 2, 2, 2, 2, 2, 2, 2, 2, 2, 2, 2, 2, 2, 2, 2, 2, 2, 2, 2, 2, 2, 2, 2, 2, 2, 2, 2, 2, 2, 2, 2, 2, 2, 2]]\n"
     ]
    }
   ],
   "source": [
    "print(labels_all)"
   ]
  },
  {
   "cell_type": "code",
   "execution_count": 36,
   "id": "a83ab233",
   "metadata": {},
   "outputs": [
    {
     "name": "stdout",
     "output_type": "stream",
     "text": [
      "results for  15_1 using  [('vectorizer', <mne.decoding.transformer.Vectorizer object at 0x000001EB5507A310>), ('logisticregression', LogisticRegression(solver='liblinear'))]  are mean and std  0.6750174703004891 0.06972772279259698\n"
     ]
    },
    {
     "data": {
      "image/png": "[encoded data removed]",
      "text/plain": [
       "<Figure size 640x480 with 2 Axes>"
      ]
     },
     "metadata": {},
     "output_type": "display_data"
    }
   ],
   "source": [
    "id = subject+'_'+session\n",
    "pipe = clf.steps[1:]\n",
    "std = str(np.std(accuracies))\n",
    "mean = str(np.mean(accuracies))\n",
    "notes = \"06/012/ running to put in thesis\"\n",
    "print(\"results for \", id, \"using \", pipe, \" are mean and std \", mean, std)\n",
    "with open('classify_sensory_'+task+'.csv','a') as fd:\n",
    "  #  fd.write(str(np.mean(accuracies)))\n",
    "    fd.write(f\"{id}, {pipe},{mean}, {std}, {iterations}\\n\")\n",
    "cmd.plot()\n",
    "plt.title(id+ ' '+task)\n",
    "plt.savefig(id+ '_'+task+'_confusionmatrix.png')\n",
    "\n",
    "#plt.show()"
   ]
  },
  {
   "cell_type": "code",
   "execution_count": null,
   "id": "f597e9e3",
   "metadata": {},
   "outputs": [],
   "source": []
  }
 ],
 "metadata": {
  "celltoolbar": "Tags",
  "kernelspec": {
   "display_name": "Python 3 (ipykernel)",
   "language": "python",
   "name": "python3"
  },
  "language_info": {
   "codemirror_mode": {
    "name": "ipython",
    "version": 3
   },
   "file_extension": ".py",
   "mimetype": "text/x-python",
   "name": "python",
   "nbconvert_exporter": "python",
   "pygments_lexer": "ipython3",
   "version": "3.9.15"
  }
 },
 "nbformat": 4,
 "nbformat_minor": 5
}
