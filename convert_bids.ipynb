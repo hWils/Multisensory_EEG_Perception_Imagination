{
 "cells": [
  {
   "cell_type": "markdown",
   "id": "929e5aa2",
   "metadata": {},
   "source": [
    "# Converting Original Format into BIDs format\n",
    "1. Set the new BIDs directory name\n",
    "2. Load up the .set files from the original folder\n",
    "3. Set the digital montage\n",
    "4. Load up the events\n",
    "5. Write the BID files\n"
   ]
  },
  {
   "cell_type": "code",
   "execution_count": 1,
   "id": "9f64d80a",
   "metadata": {},
   "outputs": [],
   "source": [
    "import os.path as op\n",
    "import shutil\n",
    "import pandas as pd\n",
    "from mne import channels\n",
    "import mne\n",
    "from mne.datasets import eegbci\n",
    "\n",
    "from mne_bids import write_raw_bids, BIDSPath, print_dir_tree\n",
    "from mne_bids.stats import count_events"
   ]
  },
  {
   "cell_type": "code",
   "execution_count": null,
   "id": "82bce4a3",
   "metadata": {
    "tags": [
     "parameters"
    ]
   },
   "outputs": [],
   "source": [
    "ppt_num='3'\n",
    "session = '3'"
   ]
  },
  {
   "cell_type": "markdown",
   "id": "eb649465",
   "metadata": {},
   "source": [
    "### New BIDs directory name"
   ]
  },
  {
   "cell_type": "code",
   "execution_count": 12,
   "id": "862e0e64",
   "metadata": {},
   "outputs": [],
   "source": [
    "output_path = 'X:\\\\CompSci\\\\ResearchProjects\\\\EJONeill\\\\Neuroimaging\\\\BIDS\\\\'"
   ]
  },
  {
   "cell_type": "markdown",
   "id": "1ebe9d99",
   "metadata": {},
   "source": [
    "### Create digital montage"
   ]
  },
  {
   "cell_type": "code",
   "execution_count": 7,
   "id": "2d8f3f8e",
   "metadata": {},
   "outputs": [
    {
     "name": "stdout",
     "output_type": "stream",
     "text": [
      "Index(['x', 'y', 'z', 'name'], dtype='object')\n"
     ]
    }
   ],
   "source": [
    "# montage\n",
    "montage_path = 'X:\\\\CompSci\\\\ResearchProjects\\\\EJONeill\\\\Neuroimaging\\\\montages\\\\'\n",
    "df = pd.read_csv(montage_path+'dig.txt',sep=\"\\t\")\n",
    "print(df.keys())\n",
    "ch_names = df['name'].to_list()\n",
    "\n",
    "pos = df[['x','y','z']].values\n",
    "dig_ch_pos = dict(zip(ch_names,pos))\n",
    "montage = mne.channels.make_dig_montage(ch_pos=dig_ch_pos)#,coord_frame = 'head')\n",
    "\n",
    "montage.plot(kind='topomap', show_names=True)"
   ]
  },
  {
   "cell_type": "markdown",
   "id": "e6589ea1",
   "metadata": {},
   "source": [
    "### Load up raw data and set montage"
   ]
  },
  {
   "cell_type": "code",
   "execution_count": 9,
   "id": "6662f47b",
   "metadata": {},
   "outputs": [
    {
     "name": "stdout",
     "output_type": "stream",
     "text": [
      "Reading X:\\CompSci\\ResearchProjects\\EJONeill\\Neuroimaging\\dataset\\sub3_sess3\\sub3_sess3.fdt\n",
      "[<DigPoint |     EEG #1 : (88557.0, 30881.0, 55218.0) mm : head frame>, <DigPoint |     EEG #2 : (99177.0, 7755.0, 52688.0) mm : head frame>, <DigPoint |     EEG #3 : (97849.0, -26865.0, 55500.0) mm : head frame>, <DigPoint |     EEG #4 : (42725.0, 70823.0, 60565.0) mm : head frame>, <DigPoint |     EEG #5 : (52553.0, 46751.0, 102230.0) mm : head frame>, <DigPoint |     EEG #6 : (70176.0, 393.0, 113792.0) mm : head frame>, <DigPoint |     EEG #7 : (63513.0, -44865.0, 97765.0) mm : head frame>, <DigPoint |     EEG #8 : (59113.0, -71507.0, 55565.0) mm : head frame>, <DigPoint |     EEG #9 : (18170.0, 71737.0, 90319.0) mm : head frame>, <DigPoint |    EEG #10 : (34162.0, 25469.0, 131336.0) mm : head frame>, <DigPoint |    EEG #11 : (42685.0, -33885.0, 125432.0) mm : head frame>, <DigPoint |    EEG #12 : (37058.0, -74517.0, 78369.0) mm : head frame>, <DigPoint |    EEG #13 : (-29352.0, 69687.0, 7196.0) mm : head frame>, <DigPoint |    EEG #14 : (-13538.0, 76970.0, 58465.0) mm : head frame>, <DigPoint |    EEG #15 : (-5377.0, 52289.0, 125515.0) mm : head frame>, <DigPoint |    EEG #16 : (8319.0, -8801.0, 144957.0) mm : head frame>, <DigPoint |    EEG #17 : (8041.0, -65761.0, 113731.0) mm : head frame>, <DigPoint |    EEG #18 : (2827.0, -83239.0, 41592.0) mm : head frame>, <DigPoint |    EEG #19 : (-23571.0, -78150.0, 12579.0) mm : head frame>, <DigPoint |    EEG #20 : (-41275.0, 65301.0, 92539.0) mm : head frame>, <DigPoint |    EEG #21 : (-34060.0, 19095.0, 140049.0) mm : head frame>, <DigPoint |    EEG #22 : (-24890.0, -44008.0, 131896.0) mm : head frame>, <DigPoint |    EEG #23 : (-22046.0, -80481.0, 78822.0) mm : head frame>, <DigPoint |    EEG #24 : (-63294.0, 56922.0, 58576.0) mm : head frame>, <DigPoint |    EEG #25 : (-63324.0, 36477.0, 108436.0) mm : head frame>, <DigPoint |    EEG #26 : (-59562.0, -12626.0, 123119.0) mm : head frame>, <DigPoint |    EEG #27 : (-53548.0, -58543.0, 100774.0) mm : head frame>, <DigPoint |    EEG #28 : (-50389.0, -69610.0, 48136.0) mm : head frame>, <DigPoint |    EEG #29 : (-79834.0, -12096.0, 93348.0) mm : head frame>, <DigPoint |    EEG #30 : (-89241.0, 17189.0, 60505.0) mm : head frame>, <DigPoint |    EEG #31 : (-83216.0, -32046.0, 56127.0) mm : head frame>, <DigPoint |    EEG #33 : (72289.0, 67823.0, 62514.0) mm : head frame>, <DigPoint |    EEG #34 : (73754.0, 39303.0, 87608.0) mm : head frame>, <DigPoint |    EEG #35 : (83980.0, -34149.0, 82680.0) mm : head frame>, <DigPoint |    EEG #36 : (86029.0, -54886.0, 54769.0) mm : head frame>, <DigPoint |    EEG #37 : (47534.0, 63007.0, 81502.0) mm : head frame>, <DigPoint |    EEG #38 : (62512.0, 26143.0, 113962.0) mm : head frame>, <DigPoint |    EEG #39 : (70538.0, -28021.0, 108637.0) mm : head frame>, <DigPoint |    EEG #40 : (64113.0, -67507.0, 82564.0) mm : head frame>, <DigPoint |    EEG #41 : (24926.0, 50479.0, 116257.0) mm : head frame>, <DigPoint |    EEG #42 : (43917.0, -4820.0, 132575.0) mm : head frame>, <DigPoint |    EEG #43 : (39299.0, -56317.0, 109217.0) mm : head frame>, <DigPoint |    EEG #44 : (-12757.0, 72794.0, 97369.0) mm : head frame>, <DigPoint |    EEG #45 : (111.0, 22189.0, 142044.0) mm : head frame>, <DigPoint |    EEG #46 : (10702.0, -41763.0, 133101.0) mm : head frame>, <DigPoint |    EEG #47 : (6046.0, -82516.0, 80709.0) mm : head frame>, <DigPoint |    EEG #48 : (-37667.0, 46286.0, 123193.0) mm : head frame>, <DigPoint |    EEG #49 : (-23134.0, -65914.0, 114859.0) mm : head frame>, <DigPoint |    EEG #50 : (-65293.0, 51252.0, 85713.0) mm : head frame>, <DigPoint |    EEG #51 : (-62520.0, 14458.0, 121663.0) mm : head frame>, <DigPoint |    EEG #52 : (-53920.0, -38359.0, 118049.0) mm : head frame>, <DigPoint |    EEG #53 : (-51957.0, -68286.0, 75930.0) mm : head frame>, <DigPoint |    EEG #54 : (-64440.0, 22462.0, 83178.0) mm : head frame>, <DigPoint |    EEG #55 : (-68658.0, -46016.0, 84509.0) mm : head frame>, <DigPoint |    EEG #56 : (13328.0, 76460.0, 58605.0) mm : head frame>, <DigPoint |    EEG #57 : (32351.0, -75108.0, 45654.0) mm : head frame>, <DigPoint |    EEG #58 : (-38330.0, 68917.0, 59290.0) mm : head frame>, <DigPoint |    EEG #59 : (-21517.0, -81331.0, 45125.0) mm : head frame>, <DigPoint |    EEG #60 : (-82022.0, 38540.0, 55869.0) mm : head frame>, <DigPoint |    EEG #61 : (-69273.0, -54187.0, 55240.0) mm : head frame>, <DigPoint |    EEG #62 : (16100.0, 74042.0, 26168.0) mm : head frame>, <DigPoint |    EEG #63 : (34430.0, -74833.0, 14352.0) mm : head frame>, <DigPoint |    EEG #64 : (-52783.0, 60050.0, 43284.0) mm : head frame>, <DigPoint |    EEG #65 : (-40249.0, -73371.0, 27866.0) mm : head frame>, <DigPoint |    EEG #66 : (-79910.0, 35984.0, 33640.0) mm : head frame>, <DigPoint |    EEG #67 : (-69687.0, -50931.0, 33260.0) mm : head frame>, <DigPoint |    EEG #68 : (-50769.0, 54922.0, 18158.0) mm : head frame>, <DigPoint |    EEG #69 : (-49453.0, -62166.0, 18052.0) mm : head frame>, <DigPoint |    EEG #70 : (74980.0, 18515.0, 103608.0) mm : head frame>, <DigPoint |    EEG #71 : (89092.0, 4133.0, 87043.0) mm : head frame>, <DigPoint |    EEG #72 : (80727.0, -13248.0, 101792.0) mm : head frame>, <DigPoint |    EEG #73 : (37672.0, 59840.0, 98364.0) mm : head frame>, <DigPoint |    EEG #74 : (42833.0, 39441.0, 119221.0) mm : head frame>, <DigPoint |    EEG #75 : (52431.0, -42689.0, 110880.0) mm : head frame>, <DigPoint |    EEG #76 : (52755.0, -60611.0, 89295.0) mm : head frame>, <DigPoint |    EEG #77 : (5870.0, 63354.0, 107003.0) mm : head frame>, <DigPoint |    EEG #78 : (12627.0, 39232.0, 130806.0) mm : head frame>, <DigPoint |    EEG #79 : (23710.0, -51286.0, 121376.0) mm : head frame>, <DigPoint |    EEG #80 : (22862.0, -72895.0, 96382.0) mm : head frame>, <DigPoint |    EEG #81 : (-24106.0, 61727.0, 111628.0) mm : head frame>, <DigPoint |    EEG #82 : (-19054.0, 33721.0, 135806.0) mm : head frame>, <DigPoint |    EEG #83 : (-8028.0, -55496.0, 126478.0) mm : head frame>, <DigPoint |    EEG #84 : (-8083.0, -77975.0, 98702.0) mm : head frame>, <DigPoint |    EEG #85 : (-53635.0, 49181.0, 101503.0) mm : head frame>, <DigPoint |    EEG #86 : (-47728.0, 27914.0, 127881.0) mm : head frame>, <DigPoint |    EEG #87 : (-39237.0, -54530.0, 118576.0) mm : head frame>, <DigPoint |    EEG #88 : (-39316.0, -72164.0, 91930.0) mm : head frame>, <DigPoint |    EEG #89 : (-68819.0, 1396.0, 110043.0) mm : head frame>, <DigPoint |    EEG #90 : (-67583.0, -28933.0, 107601.0) mm : head frame>, <DigPoint |    EEG #91 : (-80725.0, 18200.0, 21734.0) mm : head frame>, <DigPoint |    EEG #92 : (-87986.0, -4112.0, 24664.0) mm : head frame>, <DigPoint |    EEG #93 : (-77180.0, -33268.0, 21858.0) mm : head frame>, <DigPoint |    EEG #94 : (92405.0, 18917.0, 67590.0) mm : head frame>, <DigPoint |    EEG #95 : (96168.0, -10367.0, 68179.0) mm : head frame>, <DigPoint |    EEG #96 : (58871.0, 53472.0, 85855.0) mm : head frame>, <DigPoint |    EEG #97 : (74113.0, -58876.0, 84115.0) mm : head frame>, <DigPoint |    EEG #98 : (34743.0, 71242.0, 72761.0) mm : head frame>, <DigPoint |    EEG #99 : (53974.0, 12354.0, 124386.0) mm : head frame>, <DigPoint |   EEG #100 : (59349.0, -14993.0, 120297.0) mm : head frame>, <DigPoint |   EEG #101 : (49680.0, -81196.0, 63410.0) mm : head frame>, <DigPoint |   EEG #102 : (3204.0, 77495.0, 45380.0) mm : head frame>, <DigPoint |   EEG #103 : (1737.0, 76561.0, 77985.0) mm : head frame>, <DigPoint |   EEG #104 : (19631.0, 8516.0, 142060.0) mm : head frame>, <DigPoint |   EEG #105 : (28876.0, -24100.0, 136778.0) mm : head frame>, <DigPoint |   EEG #106 : (19231.0, -80745.0, 61820.0) mm : head frame>, <DigPoint |   EEG #107 : (20199.0, -81480.0, 30050.0) mm : head frame>, <DigPoint |   EEG #108 : (-31161.0, 70584.0, 78486.0) mm : head frame>, <DigPoint |   EEG #109 : (-16325.0, 4262.0, 146238.0) mm : head frame>, <DigPoint |   EEG #110 : (-8936.0, -27304.0, 142377.0) mm : head frame>, <DigPoint |   EEG #111 : (-9411.0, -84504.0, 60068.0) mm : head frame>, <DigPoint |   EEG #112 : (-53561.0, 61230.0, 64115.0) mm : head frame>, <DigPoint |   EEG #113 : (-48978.0, 450.0, 133587.0) mm : head frame>, <DigPoint |   EEG #114 : (-45494.0, -29009.0, 131029.0) mm : head frame>, <DigPoint |   EEG #115 : (-35841.0, -77305.0, 60241.0) mm : head frame>, <DigPoint |   EEG #116 : (-69212.0, 58662.0, 39604.0) mm : head frame>, <DigPoint |   EEG #117 : (-59987.0, 34335.0, 79956.0) mm : head frame>, <DigPoint |   EEG #118 : (-59442.0, -56573.0, 77971.0) mm : head frame>, <DigPoint |   EEG #119 : (-58166.0, -59690.0, 39650.0) mm : head frame>, <DigPoint |   EEG #120 : (-77053.0, 23188.0, 39127.0) mm : head frame>, <DigPoint |   EEG #121 : (-89069.0, 4837.0, 75458.0) mm : head frame>, <DigPoint |   EEG #122 : (-84977.0, -25843.0, 72867.0) mm : head frame>, <DigPoint |   EEG #123 : (-78370.0, -36077.0, 39718.0) mm : head frame>, <DigPoint |   EEG #124 : (-88622.0, 3684.0, 42039.0) mm : head frame>, <DigPoint |   EEG #125 : (-87158.0, -20031.0, 41394.0) mm : head frame>]\n"
     ]
    },
    {
     "name": "stderr",
     "output_type": "stream",
     "text": [
      "C:\\Users\\hlw69\\AppData\\Local\\Temp\\ipykernel_11000\\1659058453.py:7: RuntimeWarning: Not setting positions of 4 eog channels found in montage:\n",
      "['HEOGR', 'HEOGL', 'VEOGU', 'VEOGL']\n",
      "Consider setting the channel types to be of EEG/sEEG/ECoG/DBS/fNIRS using inst.set_channel_types before calling inst.set_montage, or omit these channels when creating your montage.\n",
      "  raw = mne.io.read_raw_eeglab(raw_path, preload=False, eog=eog)\n",
      "C:\\Users\\hlw69\\AppData\\Local\\Temp\\ipykernel_11000\\1659058453.py:10: RuntimeWarning: Fiducial point nasion not found, assuming identity unknown to head transformation\n",
      "  raw.set_montage(montage)\n"
     ]
    }
   ],
   "source": [
    "pathdata = 'sub'+ppt_num+'_sess'+session+ '\\\\sub'+ppt_num+'_sess'+session+'.set' \n",
    "xpath = 'X:\\\\CompSci\\\\ResearchProjects\\\\EJONeill\\\\Neuroimaging\\\\dataset\\\\'\n",
    "raw_path = xpath + pathdata\n",
    "eog =  ['VEOGL', 'VEOGU', 'HEOGR', 'HEOGL'] # electroculogram electrodes \n",
    "raw = mne.io.read_raw_eeglab(raw_path, preload=False, eog=eog)\n",
    "raw.info['line_freq'] = 50\n",
    "\n",
    "raw.set_montage(montage)\n",
    "#print(raw.info['dig'])\n",
    "#raw.info['dig'] ='None'\n",
    "\n",
    "#raw.set_montage(montage)\n",
    "#ant_montage.plot(kind='topomap', show_names=True)"
   ]
  },
  {
   "cell_type": "markdown",
   "id": "ad7a0334",
   "metadata": {},
   "source": [
    "### Get events"
   ]
  },
  {
   "cell_type": "code",
   "execution_count": 10,
   "id": "2fb6a9a2",
   "metadata": {},
   "outputs": [],
   "source": [
    "# get events\n",
    "events, event_id = mne.events_from_annotations(raw, verbose = False)\n",
    "events_data = xpath+'sub'+ppt_num+'_sess'+session+ '\\\\sub'+ppt_num+'_sess'+session+'.fdt'"
   ]
  },
  {
   "cell_type": "markdown",
   "id": "840c8ad4",
   "metadata": {},
   "source": [
    "### Write BIDs!!!"
   ]
  },
  {
   "cell_type": "code",
   "execution_count": 15,
   "id": "660ecf5c",
   "metadata": {},
   "outputs": [
    {
     "name": "stdout",
     "output_type": "stream",
     "text": [
      "Reading X:\\CompSci\\ResearchProjects\\EJONeill\\Neuroimaging\\dataset\\sub3_sess3\\sub3_sess3.fdt\n",
      "Writing 'X:\\CompSci\\ResearchProjects\\EJONeill\\Neuroimaging\\BIDS\\participants.tsv'...\n",
      "Writing 'X:\\CompSci\\ResearchProjects\\EJONeill\\Neuroimaging\\BIDS\\participants.json'...\n",
      "Used Annotations descriptions: ['0, Imagination_a_flower_high_10###my_stream_name', '0, Imagination_a_flower_high_11###my_stream_name', '0, Imagination_a_flower_high_17###my_stream_name', '0, Imagination_a_flower_high_23###my_stream_name', '0, Imagination_a_flower_high_4###my_stream_name', '0, Imagination_a_flower_high_5###my_stream_name', '0, Imagination_a_flower_low_10###my_stream_name', '0, Imagination_a_flower_low_13###my_stream_name', '0, Imagination_a_flower_low_17###my_stream_name', '0, Imagination_a_flower_low_23###my_stream_name', '0, Imagination_a_flower_low_25###my_stream_name', '0, Imagination_a_flower_low_5###my_stream_name', '0, Imagination_a_flower_normal_10###my_stream_name', '0, Imagination_a_flower_normal_11###my_stream_name', '0, Imagination_a_flower_normal_12###my_stream_name', '0, Imagination_a_flower_normal_16###my_stream_name', '0, Imagination_a_flower_normal_17###my_stream_name', '0, Imagination_a_flower_normal_19###my_stream_name', '0, Imagination_a_flower_normal_21###my_stream_name', '0, Imagination_a_flower_normal_22###my_stream_name', '0, Imagination_a_flower_normal_23###my_stream_name', '0, Imagination_a_flower_normal_24###my_stream_name', '0, Imagination_a_flower_normal_3###my_stream_name', '0, Imagination_a_flower_normal_5###my_stream_name', '0, Imagination_a_flower_normal_6###my_stream_name', '0, Imagination_a_guitar_high_11###my_stream_name', '0, Imagination_a_guitar_high_14###my_stream_name', '0, Imagination_a_guitar_high_18###my_stream_name', '0, Imagination_a_guitar_high_19###my_stream_name', '0, Imagination_a_guitar_high_25###my_stream_name', '0, Imagination_a_guitar_high_5###my_stream_name', '0, Imagination_a_guitar_low_10###my_stream_name', '0, Imagination_a_guitar_low_17###my_stream_name', '0, Imagination_a_guitar_low_19###my_stream_name', '0, Imagination_a_guitar_low_25###my_stream_name', '0, Imagination_a_guitar_low_3###my_stream_name', '0, Imagination_a_guitar_low_6###my_stream_name', '0, Imagination_a_guitar_normal_1###my_stream_name', '0, Imagination_a_guitar_normal_10###my_stream_name', '0, Imagination_a_guitar_normal_11###my_stream_name', '0, Imagination_a_guitar_normal_12###my_stream_name', '0, Imagination_a_guitar_normal_14###my_stream_name', '0, Imagination_a_guitar_normal_17###my_stream_name', '0, Imagination_a_guitar_normal_18###my_stream_name', '0, Imagination_a_guitar_normal_19###my_stream_name', '0, Imagination_a_guitar_normal_22###my_stream_name', '0, Imagination_a_guitar_normal_25###my_stream_name', '0, Imagination_a_guitar_normal_3###my_stream_name', '0, Imagination_a_guitar_normal_6###my_stream_name', '0, Imagination_a_guitar_normal_9###my_stream_name', '0, Imagination_a_penguin_high_10###my_stream_name', '0, Imagination_a_penguin_high_12###my_stream_name', '0, Imagination_a_penguin_high_25###my_stream_name', '0, Imagination_a_penguin_high_5###my_stream_name', '0, Imagination_a_penguin_high_6###my_stream_name', '0, Imagination_a_penguin_high_9###my_stream_name', '0, Imagination_a_penguin_low_10###my_stream_name', '0, Imagination_a_penguin_low_15###my_stream_name', '0, Imagination_a_penguin_low_19###my_stream_name', '0, Imagination_a_penguin_low_22###my_stream_name', '0, Imagination_a_penguin_low_25###my_stream_name', '0, Imagination_a_penguin_low_6###my_stream_name', '0, Imagination_a_penguin_normal_1 ###my_stream_name', '0, Imagination_a_penguin_normal_10###my_stream_name', '0, Imagination_a_penguin_normal_11###my_stream_name', '0, Imagination_a_penguin_normal_15###my_stream_name', '0, Imagination_a_penguin_normal_16###my_stream_name', '0, Imagination_a_penguin_normal_19###my_stream_name', '0, Imagination_a_penguin_normal_25###my_stream_name', '0, Imagination_a_penguin_normal_3###my_stream_name', '0, Imagination_a_penguin_normal_4###my_stream_name', '0, Imagination_a_penguin_normal_5###my_stream_name', '0, Imagination_a_penguin_normal_6###my_stream_name', '0, Imagination_a_penguin_normal_9###my_stream_name', '0, Imagination_audio_a_guitar_normal_10###my_stream_name', '0, Imagination_image_flower_c###my_stream_name', '0, Imagination_image_flower_m###my_stream_name', '0, Imagination_image_flower_s###my_stream_name', '0, Imagination_image_guitar_c###my_stream_name', '0, Imagination_image_guitar_m###my_stream_name', '0, Imagination_image_guitar_s###my_stream_name', '0, Imagination_image_penguin_c###my_stream_name', '0, Imagination_image_penguin_m###my_stream_name', '0, Imagination_image_penguin_s###my_stream_name', '0, Imagination_t_flower_1###my_stream_name', '0, Imagination_t_flower_2###my_stream_name', '0, Imagination_t_flower_3###my_stream_name', '0, Imagination_t_flower_4###my_stream_name', '0, Imagination_t_flower_5###my_stream_name', '0, Imagination_t_guitar_1###my_stream_name', '0, Imagination_t_guitar_2###my_stream_name', '0, Imagination_t_guitar_3###my_stream_name', '0, Imagination_t_guitar_4###my_stream_name', '0, Imagination_t_guitar_5###my_stream_name', '0, Imagination_t_penguin_1###my_stream_name', '0, Imagination_t_penguin_2###my_stream_name', '0, Imagination_t_penguin_3###my_stream_name', '0, Imagination_t_penguin_4###my_stream_name', '0, Imagination_t_penguin_5###my_stream_name', '0, Impedance', '0, Perception_image_flower_c###my_stream_name', '0, Perception_image_flower_m###my_stream_name', '0, Perception_image_flower_s###my_stream_name', '0, Perception_image_guitar_c###my_stream_name', '0, Perception_image_guitar_m###my_stream_name', '0, Perception_image_guitar_s###my_stream_name', '0, Perception_image_penguin_c###my_stream_name', '0, Perception_image_penguin_m###my_stream_name', '0, Perception_image_penguin_s###my_stream_name', '0, Perception_t_flower_1###my_stream_name', '0, Perception_t_flower_2###my_stream_name', '0, Perception_t_flower_3###my_stream_name', '0, Perception_t_flower_4###my_stream_name', '0, Perception_t_flower_5###my_stream_name', '0, Perception_t_guitar_1###my_stream_name', '0, Perception_t_guitar_2###my_stream_name', '0, Perception_t_guitar_3###my_stream_name', '0, Perception_t_guitar_4###my_stream_name', '0, Perception_t_guitar_5###my_stream_name', '0, Perception_t_penguin_1###my_stream_name', '0, Perception_t_penguin_2###my_stream_name', '0, Perception_t_penguin_3###my_stream_name', '0, Perception_t_penguin_4###my_stream_name', '0, Perception_t_penguin_5###my_stream_name', '0, Perceptiona_flower_high_10###my_stream_name', '0, Perceptiona_flower_high_11###my_stream_name', '0, Perceptiona_flower_high_17###my_stream_name', '0, Perceptiona_flower_high_23###my_stream_name', '0, Perceptiona_flower_high_4###my_stream_name', '0, Perceptiona_flower_high_5###my_stream_name', '0, Perceptiona_flower_low_10###my_stream_name', '0, Perceptiona_flower_low_13###my_stream_name', '0, Perceptiona_flower_low_17###my_stream_name', '0, Perceptiona_flower_low_23###my_stream_name', '0, Perceptiona_flower_low_25###my_stream_name', '0, Perceptiona_flower_low_5###my_stream_name', '0, Perceptiona_flower_normal_10###my_stream_name', '0, Perceptiona_flower_normal_11###my_stream_name', '0, Perceptiona_flower_normal_12###my_stream_name', '0, Perceptiona_flower_normal_16###my_stream_name', '0, Perceptiona_flower_normal_17###my_stream_name', '0, Perceptiona_flower_normal_19###my_stream_name', '0, Perceptiona_flower_normal_21###my_stream_name', '0, Perceptiona_flower_normal_22###my_stream_name', '0, Perceptiona_flower_normal_23###my_stream_name', '0, Perceptiona_flower_normal_24###my_stream_name', '0, Perceptiona_flower_normal_3###my_stream_name', '0, Perceptiona_flower_normal_5###my_stream_name', '0, Perceptiona_flower_normal_6###my_stream_name', '0, Perceptiona_guitar_high_11###my_stream_name', '0, Perceptiona_guitar_high_14###my_stream_name', '0, Perceptiona_guitar_high_18###my_stream_name', '0, Perceptiona_guitar_high_19###my_stream_name', '0, Perceptiona_guitar_high_25###my_stream_name', '0, Perceptiona_guitar_high_5###my_stream_name', '0, Perceptiona_guitar_low_10###my_stream_name', '0, Perceptiona_guitar_low_17###my_stream_name', '0, Perceptiona_guitar_low_19###my_stream_name', '0, Perceptiona_guitar_low_25###my_stream_name', '0, Perceptiona_guitar_low_3###my_stream_name', '0, Perceptiona_guitar_low_6###my_stream_name', '0, Perceptiona_guitar_normal_1###my_stream_name', '0, Perceptiona_guitar_normal_10###my_stream_name', '0, Perceptiona_guitar_normal_11###my_stream_name', '0, Perceptiona_guitar_normal_12###my_stream_name', '0, Perceptiona_guitar_normal_14###my_stream_name', '0, Perceptiona_guitar_normal_17###my_stream_name', '0, Perceptiona_guitar_normal_18###my_stream_name', '0, Perceptiona_guitar_normal_19###my_stream_name', '0, Perceptiona_guitar_normal_22###my_stream_name', '0, Perceptiona_guitar_normal_25###my_stream_name', '0, Perceptiona_guitar_normal_3###my_stream_name', '0, Perceptiona_guitar_normal_6###my_stream_name', '0, Perceptiona_guitar_normal_9###my_stream_name', '0, Perceptiona_penguin_high_10###my_stream_name', '0, Perceptiona_penguin_high_12###my_stream_name', '0, Perceptiona_penguin_high_25###my_stream_name', '0, Perceptiona_penguin_high_5###my_stream_name', '0, Perceptiona_penguin_high_6###my_stream_name', '0, Perceptiona_penguin_high_9###my_stream_name', '0, Perceptiona_penguin_low_10###my_stream_name', '0, Perceptiona_penguin_low_15###my_stream_name', '0, Perceptiona_penguin_low_19###my_stream_name', '0, Perceptiona_penguin_low_22###my_stream_name', '0, Perceptiona_penguin_low_25###my_stream_name', '0, Perceptiona_penguin_low_6###my_stream_name', '0, Perceptiona_penguin_normal_1 ###my_stream_name', '0, Perceptiona_penguin_normal_10###my_stream_name', '0, Perceptiona_penguin_normal_11###my_stream_name', '0, Perceptiona_penguin_normal_15###my_stream_name', '0, Perceptiona_penguin_normal_16###my_stream_name', '0, Perceptiona_penguin_normal_19###my_stream_name', '0, Perceptiona_penguin_normal_25###my_stream_name', '0, Perceptiona_penguin_normal_3###my_stream_name', '0, Perceptiona_penguin_normal_4###my_stream_name', '0, Perceptiona_penguin_normal_5###my_stream_name', '0, Perceptiona_penguin_normal_6###my_stream_name', '0, Perceptiona_penguin_normal_9###my_stream_name', '0, Perceptionaudio_a_guitar_normal_10###my_stream_name', '0, end_baseline###my_stream_name', '0, start_baseline###my_stream_name']\n"
     ]
    },
    {
     "name": "stdout",
     "output_type": "stream",
     "text": [
      "Writing 'X:\\CompSci\\ResearchProjects\\EJONeill\\Neuroimaging\\BIDS\\sub-03\\ses-03\\eeg\\sub-03_ses-03_task-experiment_run-01_events.tsv'...\n",
      "Writing 'X:\\CompSci\\ResearchProjects\\EJONeill\\Neuroimaging\\BIDS\\dataset_description.json'...\n",
      "Writing 'X:\\CompSci\\ResearchProjects\\EJONeill\\Neuroimaging\\BIDS\\sub-03\\ses-03\\eeg\\sub-03_ses-03_task-experiment_run-01_eeg.json'...\n",
      "Writing 'X:\\CompSci\\ResearchProjects\\EJONeill\\Neuroimaging\\BIDS\\sub-03\\ses-03\\eeg\\sub-03_ses-03_task-experiment_run-01_channels.tsv'...\n",
      "Copying data files to sub-03_ses-03_task-experiment_run-01_eeg.set\n"
     ]
    },
    {
     "name": "stderr",
     "output_type": "stream",
     "text": [
      "C:\\Users\\hlw69\\AppData\\Local\\Temp\\ipykernel_11000\\1965997066.py:3: RuntimeWarning: Not setting positions of 4 eog channels found in montage:\n",
      "['HEOGR', 'HEOGL', 'VEOGU', 'VEOGL']\n",
      "Consider setting the channel types to be of EEG/sEEG/ECoG/DBS/fNIRS using inst.set_channel_types before calling inst.set_montage, or omit these channels when creating your montage.\n",
      "  write_raw_bids(raw, bids_path,\n",
      "C:\\Users\\hlw69\\AppData\\Local\\Temp\\ipykernel_11000\\1965997066.py:3: RuntimeWarning: Coordinate frame could not be inferred from the raw object and the BIDSPath.space was none, skipping the writing of channel positions\n",
      "  write_raw_bids(raw, bids_path,\n"
     ]
    },
    {
     "name": "stdout",
     "output_type": "stream",
     "text": [
      "Writing 'X:\\CompSci\\ResearchProjects\\EJONeill\\Neuroimaging\\BIDS\\sub-03\\ses-03\\sub-03_ses-03_scans.tsv'...\n",
      "Wrote X:\\CompSci\\ResearchProjects\\EJONeill\\Neuroimaging\\BIDS\\sub-03\\ses-03\\sub-03_ses-03_scans.tsv entry with eeg\\sub-03_ses-03_task-experiment_run-01_eeg.set.\n"
     ]
    },
    {
     "data": {
      "text/plain": [
       "BIDSPath(\n",
       "root: X:/CompSci/ResearchProjects/EJONeill/Neuroimaging/BIDS\n",
       "datatype: eeg\n",
       "basename: sub-03_ses-03_task-experiment_run-01_eeg.set)"
      ]
     },
     "execution_count": 15,
     "metadata": {},
     "output_type": "execute_result"
    }
   ],
   "source": [
    "bids_path = BIDSPath(subject='0'+ppt_num, session='0'+session,\n",
    "                     task='experiment', run='01', root=output_path)\n",
    "write_raw_bids(raw, bids_path, \n",
    "               event_id=event_id, overwrite=True, montage= montage)"
   ]
  },
  {
   "cell_type": "code",
   "execution_count": null,
   "id": "3ccec750",
   "metadata": {},
   "outputs": [],
   "source": []
  }
 ],
 "metadata": {
  "celltoolbar": "Tags",
  "kernelspec": {
   "display_name": "Python 3 (ipykernel)",
   "language": "python",
   "name": "python3"
  },
  "language_info": {
   "codemirror_mode": {
    "name": "ipython",
    "version": 3
   },
   "file_extension": ".py",
   "mimetype": "text/x-python",
   "name": "python",
   "nbconvert_exporter": "python",
   "pygments_lexer": "ipython3",
   "version": "3.9.12"
  }
 },
 "nbformat": 4,
 "nbformat_minor": 5
}
