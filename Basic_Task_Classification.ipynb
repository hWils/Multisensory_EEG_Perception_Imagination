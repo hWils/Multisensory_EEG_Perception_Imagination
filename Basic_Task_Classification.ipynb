{
 "cells": [
  {
   "cell_type": "markdown",
   "id": "5abf01ec",
   "metadata": {},
   "source": [
    "# Classifying between Imagination and Perception"
   ]
  },
  {
   "cell_type": "markdown",
   "id": "02677981",
   "metadata": {},
   "source": [
    "For each task, orthographic, pictorial or audio, we classify to see whether the subject is imagining or perceiving the stimulus. The task selection should be done in the batch_mill main script. An output csv file is saved with the classification results. In this example, logistic regression is implemented. However, there is the option to implement CSP, PCA and XGBoost which are currently commented out in the classification section."
   ]
  },
  {
   "cell_type": "code",
   "execution_count": 42,
   "id": "f15b8f51",
   "metadata": {},
   "outputs": [],
   "source": [
    "import mne\n",
    "import numpy as np\n",
    "import pandas as pd\n",
    "from mne.decoding import CSP\n",
    "from sklearn.model_selection import train_test_split\n",
    "\n",
    "from tqdm import tqdm\n",
    "import numpy as np\n",
    "from scipy import integrate, stats\n",
    "import antropy as ant\n",
    "\n",
    "from sklearn.pipeline import Pipeline\n",
    "from sklearn.discriminant_analysis import LinearDiscriminantAnalysis\n",
    "from sklearn.model_selection import ShuffleSplit, cross_val_score"
   ]
  },
  {
   "cell_type": "code",
   "execution_count": 43,
   "id": "56409f33",
   "metadata": {
    "tags": [
     "parameters"
    ]
   },
   "outputs": [],
   "source": [
    "subject = '12'\n",
    "session = '1'\n",
    "task = 'pictorial' \n",
    "iterations = 50 "
   ]
  },
  {
   "cell_type": "markdown",
   "id": "50e3b42e",
   "metadata": {},
   "source": [
    "### Here the task selection is used to set other parameters\n",
    "The duration is the length of the perception trial. The tag is used to identify epochs based on their event_ids."
   ]
  },
  {
   "cell_type": "code",
   "execution_count": 44,
   "id": "3531425d",
   "metadata": {},
   "outputs": [],
   "source": [
    "if task == 'pictorial':\n",
    "    tag = 'p'\n",
    "    duration = 3\n",
    "elif task == 'orthographic':\n",
    "    print(\"orthographic decoding task\")\n",
    "    tag='t'\n",
    "    duration = 3\n",
    "elif task == 'audio':\n",
    "    tag='s'\n",
    "    duration = 2"
   ]
  },
  {
   "cell_type": "markdown",
   "id": "c4666af4",
   "metadata": {},
   "source": [
    "### Loading up the data\n",
    "To make the perception and imagination trials equal, we crop the imagination epochs to be of equal length to the perception duration. This is 2 seconds for audio and 3 seconds for the two visual modalities."
   ]
  },
  {
   "cell_type": "code",
   "execution_count": 45,
   "id": "9c58c956",
   "metadata": {
    "scrolled": true
   },
   "outputs": [
    {
     "name": "stdout",
     "output_type": "stream",
     "text": [
      "Reading X:\\CompSci\\ResearchProjects\\EJONeill\\Neuroimaging\\multisensoryeeg\\processed_eeg\\epochs\\perception_pictorial\\12_1_epo.fif ...\n",
      "    Found the data of interest:\n",
      "        t =       0.00 ...    3000.00 ms\n",
      "        0 CTF compensation matrices available\n",
      "Not setting metadata\n",
      "109 matching events found\n",
      "No baseline correction applied\n",
      "0 projection items activated\n"
     ]
    },
    {
     "name": "stderr",
     "output_type": "stream",
     "text": [
      "C:\\Users\\hlw69\\AppData\\Local\\Temp\\ipykernel_12156\\1644791318.py:11: RuntimeWarning: This filename (X:\\CompSci\\ResearchProjects\\EJONeill\\Neuroimaging\\multisensoryeeg\\processed_eeg\\epochs\\perception_pictorial\\12_1_epo.fif) does not conform to MNE naming conventions. All events files should end with .eve, -eve.fif, -eve.fif.gz, -eve.lst, -eve.txt, _eve.fif, _eve.fif.gz, _eve.lst, _eve.txt or -annot.fif\n",
      "  perception_events = mne.read_events(perception_path+ datapoint)\n"
     ]
    },
    {
     "name": "stdout",
     "output_type": "stream",
     "text": [
      "Reading X:\\CompSci\\ResearchProjects\\EJONeill\\Neuroimaging\\multisensoryeeg\\processed_eeg\\epochs\\imagine_pictorial\\12_1_epo.fif ...\n",
      "    Found the data of interest:\n",
      "        t =       0.00 ...    4000.00 ms\n",
      "        0 CTF compensation matrices available\n",
      "Not setting metadata\n",
      "111 matching events found\n",
      "No baseline correction applied\n",
      "0 projection items activated\n"
     ]
    },
    {
     "name": "stderr",
     "output_type": "stream",
     "text": [
      "C:\\Users\\hlw69\\AppData\\Local\\Temp\\ipykernel_12156\\1644791318.py:15: RuntimeWarning: This filename (X:\\CompSci\\ResearchProjects\\EJONeill\\Neuroimaging\\multisensoryeeg\\processed_eeg\\epochs\\imagine_pictorial\\12_1_epo.fif) does not conform to MNE naming conventions. All events files should end with .eve, -eve.fif, -eve.fif.gz, -eve.lst, -eve.txt, _eve.fif, _eve.fif.gz, _eve.lst, _eve.txt or -annot.fif\n",
      "  imagination_events = mne.read_events(imagine_path+ datapoint)\n",
      "C:\\Users\\hlw69\\AppData\\Local\\Temp\\ipykernel_12156\\1644791318.py:17: RuntimeWarning: Concatenation of Annotations within Epochs is not supported yet. All annotations will be dropped.\n",
      "  epochs = mne.concatenate_epochs([perception_epochs,imagination_epochs])\n"
     ]
    },
    {
     "name": "stdout",
     "output_type": "stream",
     "text": [
      "Not setting metadata\n",
      "220 matching events found\n",
      "No baseline correction applied\n"
     ]
    }
   ],
   "source": [
    "# load up files for one subject for one task of img vs. perc\n",
    "# imagine_pictorial vs. perception_pictorial\n",
    "\n",
    "\n",
    "\n",
    "perception_path = 'X:\\\\CompSci\\\\ResearchProjects\\\\EJONeill\\\\Neuroimaging\\\\multisensoryeeg\\\\processed_eeg\\\\epochs\\\\perception_'+task+'\\\\'\n",
    "imagine_path = 'X:\\\\CompSci\\\\ResearchProjects\\\\EJONeill\\\\Neuroimaging\\\\multisensoryeeg\\\\processed_eeg\\\\epochs\\\\imagine_'+task+'\\\\'\n",
    "datapoint = subject+'_'+session+ '_epo.fif'\n",
    "\n",
    "perception_epochs = mne.read_epochs(perception_path + datapoint)\n",
    "perception_events = mne.read_events(perception_path+ datapoint)\n",
    "perception_epochs = perception_epochs.crop(tmin=0, tmax=duration)\n",
    "\n",
    "imagination_epochs = mne.read_epochs(imagine_path + datapoint)\n",
    "imagination_events = mne.read_events(imagine_path+ datapoint)\n",
    "imagination_epochs = imagination_epochs.crop(tmin=0, tmax=duration)\n",
    "epochs = mne.concatenate_epochs([perception_epochs,imagination_epochs])\n"
   ]
  },
  {
   "cell_type": "markdown",
   "id": "5d523996",
   "metadata": {},
   "source": [
    "### Dividing Epochs into Perception and Classification\n",
    "We use the combine_event_ids to merge together all the perception epochs (for the three semantic categories), then do the same again for imagination. These two groups are renamed to be 'perception' and 'imagination'."
   ]
  },
  {
   "cell_type": "code",
   "execution_count": 46,
   "id": "806a9038",
   "metadata": {},
   "outputs": [
    {
     "name": "stdout",
     "output_type": "stream",
     "text": [
      "{'perc_flower_p': 312, 'perc_penguin_p': 313, 'perc_guitar_p': 314, 'imag_flower_p': 303, 'imag_penguin_p': 304, 'imag_guitar_p': 305}\n"
     ]
    }
   ],
   "source": [
    "# Here we check that the epoch event ids are as expected\n",
    "print(epochs.event_id)"
   ]
  },
  {
   "cell_type": "code",
   "execution_count": 47,
   "id": "5188185e",
   "metadata": {
    "scrolled": true
   },
   "outputs": [
    {
     "name": "stdout",
     "output_type": "stream",
     "text": [
      "<Epochs |  220 events (all good), 0 - 3 sec, baseline off, ~639.8 MB, data loaded,\n",
      " 'perception': 109\n",
      " 'imagination': 111>\n"
     ]
    }
   ],
   "source": [
    "\n",
    "epochs = mne.epochs.combine_event_ids(epochs, old_event_ids = ['perc_penguin_'+tag,'perc_flower_'+tag,'perc_guitar_'+tag],new_event_id = {'perception':1})\n",
    "epochs = mne.epochs.combine_event_ids(epochs, old_event_ids = ['imag_penguin_'+tag,'imag_flower_'+tag,'imag_guitar_'+tag], new_event_id = {'imagination':0})\n",
    "print(epochs)\n"
   ]
  },
  {
   "cell_type": "markdown",
   "id": "07dac0e4",
   "metadata": {},
   "source": [
    "### Feature Extraction, statistical features"
   ]
  },
  {
   "cell_type": "code",
   "execution_count": 48,
   "id": "227f6853",
   "metadata": {},
   "outputs": [],
   "source": [
    "class StatisticalDecomposition:\n",
    "\n",
    "    \"\"\"Creates a folder \"SVM features\" containing feature arrays for use in classification by the SVM.\n",
    "These are saved in .npy file format, and can be loaded using np.load(\"filename.npy\") \n",
    "The dimensions of the saved arrays are (n_prompts * n_windows * n_features)\n",
    "The layout of the features in dim 2 is as follows (where d means delta, and dd double-delta):\n",
    "[mean, absmean, maximum... d_mean, d_absmean, d_maximum... dd_mean, dd_absmean, dd_maximum ... dd_dfa]\n",
    "To get a list of feature names (in order), use the function get_feats_list()\n",
    "For convenience, we also save an array of the labels [goose, thought ... ], with dimension (n_prompts) \n",
    "in the same folder as the features. For most experiments, the labels will be identical. \n",
    "To use entropy/time series features, follow the installation instructions for this package on GitHub:\n",
    "https://github.com/raphaelvallat/entropy\n",
    "\"\"\"\n",
    "\n",
    "  #  def __init__(self, _):\n",
    "        \n",
    "  #      self.args = _\n",
    "\n",
    "    # Features used in classification:\n",
    "\n",
    "    def mean(self, x):\n",
    "        return np.mean(x)\n",
    "\n",
    "    def absmean(self, x):\n",
    "        return np.mean(np.abs(x))\n",
    "\n",
    "    def maximum(self, x):\n",
    "        return np.max(x)\n",
    "\n",
    "    def absmax(self, x):\n",
    "        return np.max(np.abs(x))\n",
    "\n",
    "    def minimum(self, x):\n",
    "        return np.min(x)\n",
    "\n",
    "    def absmin(self, x):\n",
    "        return np.min(np.abs(x)) \n",
    "\n",
    "    def minplusmax(self, x):\n",
    "        return np.max(x) + np.min(x)\n",
    "\n",
    "    def maxminusmin(self, x):\n",
    "        return np.max(x) - np.min(x)\n",
    "\n",
    "    def curvelength(self, x):\n",
    "\n",
    "        cl = 0\n",
    "        for i in range(x.shape[0]-1):\n",
    "            cl += abs(x[i]-x[i+1])\n",
    "        return cl\n",
    "\n",
    "    def energy(self, x):\n",
    "        return np.sum(np.multiply(x,x))\n",
    "\n",
    "    def nonlinear_energy(self, x):\n",
    "        # NLE(x[n]) = x**2[n] - x[n+1]*x[n-1]\n",
    "        x_squared = x[1:-1]**2\n",
    "        subtrahend = x[2:]*x[:-2]\n",
    "        return np.sum(x_squared-subtrahend)\n",
    "\n",
    "    #def ehf(x,prev):\n",
    "        #(based on Basar et. al. 1983)\n",
    "        # \"prev\" is array of values from prior context\n",
    "        # rms = np.sqrt(np.mean(prev**2))\n",
    "        # return 2*np.sqrt(2)*(max(x)/rms)  \n",
    "\n",
    "    def spec_entropy(self, x):\n",
    "        return ant.spectral_entropy(x,fs,method=\"welch\",normalize=True)\n",
    "\n",
    "    def integral(self, x):\n",
    "        return integrate.simps(x)\n",
    "\n",
    "    def stddeviation(self, x):\n",
    "        return np.std(x)\n",
    "\n",
    "    def variance(self, x):\n",
    "        return np.var(x)\n",
    "\n",
    "    def skew(self, x):\n",
    "        return stats.skew(x)\n",
    "\n",
    "    def kurtosis(self, x):\n",
    "        return stats.kurtosis(x)\n",
    "\n",
    "    def sum(self, x):\n",
    "        return np.sum(x)\n",
    "\n",
    "    # Added ones: some of these are drawn from the antropy library: https://github.com/raphaelvallat/antropy\n",
    "\n",
    "    def sample_entropy(self, x):\n",
    "        x = x.astype(np.float64)\n",
    "        return ant.sample_entropy(x, order=2, metric='chebyshev')  \n",
    "\n",
    "    def perm_entropy(self, x):\n",
    "        return ant.perm_entropy(x, order=3, normalize=True)\n",
    "\n",
    "    def svd_entropy(self, x):\n",
    "        return ant.svd_entropy(x, order=3, delay=1, normalize=True)\n",
    "\n",
    "    def app_entropy(self, x):\n",
    "        return ant.app_entropy(x, order=2, metric='chebyshev')\n",
    "\n",
    "    def petrosian(self, x):\n",
    "        return ant.petrosian_fd(x)\n",
    "\n",
    "    def katz(self, x):\n",
    "        return ant.katz_fd(x)\n",
    "\n",
    "    def higuchi(self, x):\n",
    "        x = x.astype(np.float64)\n",
    "        return ant.higuchi_fd(x, kmax=10)\n",
    "\n",
    "    def rootmeansquare(self, x):\n",
    "        return np.sqrt(np.mean(x**2))\n",
    "\n",
    "    def dfa(self, x):\n",
    "        x = x.astype(np.float64)\n",
    "        return ant.detrended_fluctuation(x)\n",
    "\n",
    "    def window_data(self, data:np.ndarray):\n",
    "\n",
    "        # window the data using a stride length of half the window\n",
    "        # (AKA half the unit stride):\n",
    "\n",
    "        w_len = int(fs/8) # windows of quarter the sampling frequency\n",
    "        stride = int(w_len//2) # stride of half the window\n",
    "      \n",
    "        return np.lib.stride_tricks.sliding_window_view(data,w_len,axis=1)[:,::stride]\n",
    "\n",
    "    def compute_feats(self, windowed_data:np.ndarray):\n",
    "      #  print(\"Computing feats\")\n",
    "      #  print(\"windowed_data \", windowed_data.shape)\n",
    "\n",
    "        # Takes data of shape (channels, windows, time (window_len)),\n",
    "        # returns an array of shape (channels, windows, num. features)\n",
    "\n",
    "        funclist = [ # doesn't contain EHF since that must be added later\n",
    "            self.mean,\n",
    "            self.absmean,\n",
    "            self.maximum,\n",
    "            self.absmax,\n",
    "            self.minimum,\n",
    "            self.absmin,\n",
    "            self.minplusmax,\n",
    "            self.maxminusmin,\n",
    "            self.curvelength,\n",
    "            self.energy,\n",
    "            self.nonlinear_energy,\n",
    "            self.integral,\n",
    "            self.stddeviation,\n",
    "            self.variance,\n",
    "            self.skew,\n",
    "            self.kurtosis,\n",
    "            self.sum,\n",
    "            self.spec_entropy,\n",
    "            self.sample_entropy,\n",
    "            self.perm_entropy,\n",
    "            self.svd_entropy,\n",
    "            self.app_entropy,\n",
    "            self.petrosian,\n",
    "            self.katz,\n",
    "            self.higuchi,\n",
    "            self.rootmeansquare,\n",
    "            self.dfa,\n",
    "            ]\n",
    "\n",
    "        channels, windows, time = np.shape(windowed_data)\n",
    "        print(channels, windows, time)\n",
    "    \n",
    "        decomposed_data = np.zeros((channels, windows, len(funclist)))\n",
    "       # print(\" Decomposed \", decomposed_data.shape)\n",
    "\n",
    "        for i in range(len(funclist)):\n",
    "        #    print(i , len(funclist))\n",
    "       #     print(\"windowed data shape \", windowed_data.shape)\n",
    "            decomposed_data[:,:,i] = np.apply_along_axis(funclist[i], 2, windowed_data)\n",
    "\n",
    "        return decomposed_data\n",
    "\n",
    "    def add_deltas(self, feats_array:np.ndarray):\n",
    "\n",
    "        deltas = np.diff(feats_array,axis=1)\n",
    "        print(deltas.shape)\n",
    "        double_deltas = np.diff(deltas,axis=1)\n",
    "        print(double_deltas.shape)\n",
    "        feats_array = np.hstack((feats_array[:,2:,:],deltas[:,1:,:],double_deltas))\n",
    "    #    print(\"feats_array \", feats_array.shape)\n",
    "    #    print(\"reshapred feats \", feats_array.reshape(feats_array.shape[0],-1).shape)\n",
    "        # resize (channels, windows, num. features) as (channels, windows*num. features):\n",
    "        return feats_array.reshape(feats_array.shape[0],-1)\n",
    "\n",
    "    def process_epochs(self, epoch):\n",
    "        \n",
    "        epoch = self.window_data(epoch)\n",
    "       # print(\"after windowing \", epoch.shape)\n",
    "        epoch = self.compute_feats(epoch)\n",
    "       # print(\"shape of epochs after compute \", epoch.shape)\n",
    "        epoch = self.add_deltas(epoch)\n",
    "       # print(\"shape of epochs after deltas \", epoch.shape)\n",
    "        \n",
    "        return epoch\n"
   ]
  },
  {
   "cell_type": "code",
   "execution_count": 51,
   "id": "08a1d6f3",
   "metadata": {},
   "outputs": [
    {
     "name": "stdout",
     "output_type": "stream",
     "text": [
      "(220, 124, 3645)\n"
     ]
    },
    {
     "name": "stderr",
     "output_type": "stream",
     "text": [
      "\r",
      "  0%|                                                                                          | 0/220 [00:00<?, ?it/s]"
     ]
    },
    {
     "name": "stdout",
     "output_type": "stream",
     "text": [
      "Exemplars  (124, 3645)\n",
      "124 47 128\n"
     ]
    },
    {
     "name": "stderr",
     "output_type": "stream",
     "text": [
      "C:\\Users\\hlw69\\Anaconda3\\lib\\site-packages\\scipy\\signal\\_spectral_py.py:1999: UserWarning: nperseg = 256 is greater than input length  = 128, using nperseg = 128\n",
      "  warnings.warn('nperseg = {0:d} is greater than input length '\n",
      "  0%|▎                                                                                 | 1/220 [00:10<39:35, 10.85s/it]"
     ]
    },
    {
     "name": "stdout",
     "output_type": "stream",
     "text": [
      "(124, 46, 27)\n",
      "(124, 45, 27)\n",
      "Exemplars  (124, 3645)\n",
      "124 47 128\n"
     ]
    },
    {
     "name": "stderr",
     "output_type": "stream",
     "text": [
      "C:\\Users\\hlw69\\Anaconda3\\lib\\site-packages\\scipy\\signal\\_spectral_py.py:1999: UserWarning: nperseg = 256 is greater than input length  = 128, using nperseg = 128\n",
      "  warnings.warn('nperseg = {0:d} is greater than input length '\n",
      "  1%|▋                                                                                 | 2/220 [00:21<39:17, 10.81s/it]"
     ]
    },
    {
     "name": "stdout",
     "output_type": "stream",
     "text": [
      "(124, 46, 27)\n",
      "(124, 45, 27)\n",
      "Exemplars  (124, 3645)\n",
      "124 47 128\n"
     ]
    },
    {
     "name": "stderr",
     "output_type": "stream",
     "text": [
      "C:\\Users\\hlw69\\Anaconda3\\lib\\site-packages\\scipy\\signal\\_spectral_py.py:1999: UserWarning: nperseg = 256 is greater than input length  = 128, using nperseg = 128\n",
      "  warnings.warn('nperseg = {0:d} is greater than input length '\n",
      "  1%|█                                                                                 | 3/220 [00:32<38:57, 10.77s/it]"
     ]
    },
    {
     "name": "stdout",
     "output_type": "stream",
     "text": [
      "(124, 46, 27)\n",
      "(124, 45, 27)\n",
      "Exemplars  (124, 3645)\n",
      "124 47 128\n"
     ]
    },
    {
     "name": "stderr",
     "output_type": "stream",
     "text": [
      "C:\\Users\\hlw69\\Anaconda3\\lib\\site-packages\\scipy\\signal\\_spectral_py.py:1999: UserWarning: nperseg = 256 is greater than input length  = 128, using nperseg = 128\n",
      "  warnings.warn('nperseg = {0:d} is greater than input length '\n",
      "  2%|█▍                                                                                | 4/220 [00:43<38:40, 10.74s/it]"
     ]
    },
    {
     "name": "stdout",
     "output_type": "stream",
     "text": [
      "(124, 46, 27)\n",
      "(124, 45, 27)\n",
      "Exemplars  (124, 3645)\n",
      "124 47 128\n"
     ]
    },
    {
     "name": "stderr",
     "output_type": "stream",
     "text": [
      "C:\\Users\\hlw69\\Anaconda3\\lib\\site-packages\\scipy\\signal\\_spectral_py.py:1999: UserWarning: nperseg = 256 is greater than input length  = 128, using nperseg = 128\n",
      "  warnings.warn('nperseg = {0:d} is greater than input length '\n",
      "  2%|█▊                                                                                | 5/220 [00:53<38:29, 10.74s/it]"
     ]
    },
    {
     "name": "stdout",
     "output_type": "stream",
     "text": [
      "(124, 46, 27)\n",
      "(124, 45, 27)\n",
      "Exemplars  (124, 3645)\n",
      "124 47 128\n"
     ]
    },
    {
     "name": "stderr",
     "output_type": "stream",
     "text": [
      "C:\\Users\\hlw69\\Anaconda3\\lib\\site-packages\\scipy\\signal\\_spectral_py.py:1999: UserWarning: nperseg = 256 is greater than input length  = 128, using nperseg = 128\n",
      "  warnings.warn('nperseg = {0:d} is greater than input length '\n",
      "  3%|██▏                                                                               | 6/220 [01:04<38:26, 10.78s/it]"
     ]
    },
    {
     "name": "stdout",
     "output_type": "stream",
     "text": [
      "(124, 46, 27)\n",
      "(124, 45, 27)\n",
      "Exemplars  (124, 3645)\n",
      "124 47 128\n"
     ]
    },
    {
     "name": "stderr",
     "output_type": "stream",
     "text": [
      "C:\\Users\\hlw69\\Anaconda3\\lib\\site-packages\\scipy\\signal\\_spectral_py.py:1999: UserWarning: nperseg = 256 is greater than input length  = 128, using nperseg = 128\n",
      "  warnings.warn('nperseg = {0:d} is greater than input length '\n",
      "  3%|██▌                                                                               | 7/220 [01:15<38:20, 10.80s/it]"
     ]
    },
    {
     "name": "stdout",
     "output_type": "stream",
     "text": [
      "(124, 46, 27)\n",
      "(124, 45, 27)\n",
      "Exemplars  (124, 3645)\n",
      "124 47 128\n"
     ]
    },
    {
     "name": "stderr",
     "output_type": "stream",
     "text": [
      "C:\\Users\\hlw69\\Anaconda3\\lib\\site-packages\\scipy\\signal\\_spectral_py.py:1999: UserWarning: nperseg = 256 is greater than input length  = 128, using nperseg = 128\n",
      "  warnings.warn('nperseg = {0:d} is greater than input length '\n",
      "  4%|██▉                                                                               | 8/220 [01:26<38:05, 10.78s/it]"
     ]
    },
    {
     "name": "stdout",
     "output_type": "stream",
     "text": [
      "(124, 46, 27)\n",
      "(124, 45, 27)\n",
      "Exemplars  (124, 3645)\n",
      "124 47 128\n"
     ]
    },
    {
     "name": "stderr",
     "output_type": "stream",
     "text": [
      "C:\\Users\\hlw69\\Anaconda3\\lib\\site-packages\\scipy\\signal\\_spectral_py.py:1999: UserWarning: nperseg = 256 is greater than input length  = 128, using nperseg = 128\n",
      "  warnings.warn('nperseg = {0:d} is greater than input length '\n",
      "  4%|███▎                                                                              | 9/220 [01:37<38:00, 10.81s/it]"
     ]
    },
    {
     "name": "stdout",
     "output_type": "stream",
     "text": [
      "(124, 46, 27)\n",
      "(124, 45, 27)\n",
      "Exemplars  (124, 3645)\n",
      "124 47 128\n"
     ]
    },
    {
     "name": "stderr",
     "output_type": "stream",
     "text": [
      "C:\\Users\\hlw69\\Anaconda3\\lib\\site-packages\\scipy\\signal\\_spectral_py.py:1999: UserWarning: nperseg = 256 is greater than input length  = 128, using nperseg = 128\n",
      "  warnings.warn('nperseg = {0:d} is greater than input length '\n",
      "  5%|███▋                                                                             | 10/220 [01:47<37:51, 10.82s/it]"
     ]
    },
    {
     "name": "stdout",
     "output_type": "stream",
     "text": [
      "(124, 46, 27)\n",
      "(124, 45, 27)\n",
      "Exemplars  (124, 3645)\n",
      "124 47 128\n"
     ]
    },
    {
     "name": "stderr",
     "output_type": "stream",
     "text": [
      "C:\\Users\\hlw69\\Anaconda3\\lib\\site-packages\\scipy\\signal\\_spectral_py.py:1999: UserWarning: nperseg = 256 is greater than input length  = 128, using nperseg = 128\n",
      "  warnings.warn('nperseg = {0:d} is greater than input length '\n",
      "  5%|████                                                                             | 11/220 [01:58<37:35, 10.79s/it]"
     ]
    },
    {
     "name": "stdout",
     "output_type": "stream",
     "text": [
      "(124, 46, 27)\n",
      "(124, 45, 27)\n",
      "Exemplars  (124, 3645)\n",
      "124 47 128\n"
     ]
    },
    {
     "name": "stderr",
     "output_type": "stream",
     "text": [
      "C:\\Users\\hlw69\\Anaconda3\\lib\\site-packages\\scipy\\signal\\_spectral_py.py:1999: UserWarning: nperseg = 256 is greater than input length  = 128, using nperseg = 128\n",
      "  warnings.warn('nperseg = {0:d} is greater than input length '\n",
      "  5%|████▍                                                                            | 12/220 [02:09<37:19, 10.77s/it]"
     ]
    },
    {
     "name": "stdout",
     "output_type": "stream",
     "text": [
      "(124, 46, 27)\n",
      "(124, 45, 27)\n",
      "Exemplars  (124, 3645)\n",
      "124 47 128\n"
     ]
    },
    {
     "name": "stderr",
     "output_type": "stream",
     "text": [
      "C:\\Users\\hlw69\\Anaconda3\\lib\\site-packages\\scipy\\signal\\_spectral_py.py:1999: UserWarning: nperseg = 256 is greater than input length  = 128, using nperseg = 128\n",
      "  warnings.warn('nperseg = {0:d} is greater than input length '\n",
      "  6%|████▊                                                                            | 13/220 [02:20<37:03, 10.74s/it]"
     ]
    },
    {
     "name": "stdout",
     "output_type": "stream",
     "text": [
      "(124, 46, 27)\n",
      "(124, 45, 27)\n",
      "Exemplars  (124, 3645)\n",
      "124 47 128\n"
     ]
    },
    {
     "name": "stderr",
     "output_type": "stream",
     "text": [
      "C:\\Users\\hlw69\\Anaconda3\\lib\\site-packages\\scipy\\signal\\_spectral_py.py:1999: UserWarning: nperseg = 256 is greater than input length  = 128, using nperseg = 128\n",
      "  warnings.warn('nperseg = {0:d} is greater than input length '\n",
      "  6%|█████▏                                                                           | 14/220 [02:30<36:47, 10.72s/it]"
     ]
    },
    {
     "name": "stdout",
     "output_type": "stream",
     "text": [
      "(124, 46, 27)\n",
      "(124, 45, 27)\n",
      "Exemplars  (124, 3645)\n",
      "124 47 128\n"
     ]
    },
    {
     "name": "stderr",
     "output_type": "stream",
     "text": [
      "C:\\Users\\hlw69\\Anaconda3\\lib\\site-packages\\scipy\\signal\\_spectral_py.py:1999: UserWarning: nperseg = 256 is greater than input length  = 128, using nperseg = 128\n",
      "  warnings.warn('nperseg = {0:d} is greater than input length '\n",
      "  7%|█████▌                                                                           | 15/220 [02:41<36:47, 10.77s/it]"
     ]
    },
    {
     "name": "stdout",
     "output_type": "stream",
     "text": [
      "(124, 46, 27)\n",
      "(124, 45, 27)\n",
      "Exemplars  (124, 3645)\n",
      "124 47 128\n"
     ]
    },
    {
     "name": "stderr",
     "output_type": "stream",
     "text": [
      "C:\\Users\\hlw69\\Anaconda3\\lib\\site-packages\\scipy\\signal\\_spectral_py.py:1999: UserWarning: nperseg = 256 is greater than input length  = 128, using nperseg = 128\n",
      "  warnings.warn('nperseg = {0:d} is greater than input length '\n",
      "  7%|█████▉                                                                           | 16/220 [02:52<36:41, 10.79s/it]"
     ]
    },
    {
     "name": "stdout",
     "output_type": "stream",
     "text": [
      "(124, 46, 27)\n",
      "(124, 45, 27)\n",
      "Exemplars  (124, 3645)\n",
      "124 47 128\n"
     ]
    },
    {
     "name": "stderr",
     "output_type": "stream",
     "text": [
      "C:\\Users\\hlw69\\Anaconda3\\lib\\site-packages\\scipy\\signal\\_spectral_py.py:1999: UserWarning: nperseg = 256 is greater than input length  = 128, using nperseg = 128\n",
      "  warnings.warn('nperseg = {0:d} is greater than input length '\n",
      "  8%|██████▎                                                                          | 17/220 [03:03<36:22, 10.75s/it]"
     ]
    },
    {
     "name": "stdout",
     "output_type": "stream",
     "text": [
      "(124, 46, 27)\n",
      "(124, 45, 27)\n",
      "Exemplars  (124, 3645)\n",
      "124 47 128\n"
     ]
    },
    {
     "name": "stderr",
     "output_type": "stream",
     "text": [
      "C:\\Users\\hlw69\\Anaconda3\\lib\\site-packages\\scipy\\signal\\_spectral_py.py:1999: UserWarning: nperseg = 256 is greater than input length  = 128, using nperseg = 128\n",
      "  warnings.warn('nperseg = {0:d} is greater than input length '\n",
      "  8%|██████▋                                                                          | 18/220 [03:13<36:10, 10.75s/it]"
     ]
    },
    {
     "name": "stdout",
     "output_type": "stream",
     "text": [
      "(124, 46, 27)\n",
      "(124, 45, 27)\n",
      "Exemplars  (124, 3645)\n",
      "124 47 128\n"
     ]
    },
    {
     "name": "stderr",
     "output_type": "stream",
     "text": [
      "C:\\Users\\hlw69\\Anaconda3\\lib\\site-packages\\scipy\\signal\\_spectral_py.py:1999: UserWarning: nperseg = 256 is greater than input length  = 128, using nperseg = 128\n",
      "  warnings.warn('nperseg = {0:d} is greater than input length '\n",
      "  9%|██████▉                                                                          | 19/220 [03:24<35:57, 10.73s/it]"
     ]
    },
    {
     "name": "stdout",
     "output_type": "stream",
     "text": [
      "(124, 46, 27)\n",
      "(124, 45, 27)\n",
      "Exemplars  (124, 3645)\n",
      "124 47 128\n"
     ]
    },
    {
     "name": "stderr",
     "output_type": "stream",
     "text": [
      "C:\\Users\\hlw69\\Anaconda3\\lib\\site-packages\\scipy\\signal\\_spectral_py.py:1999: UserWarning: nperseg = 256 is greater than input length  = 128, using nperseg = 128\n",
      "  warnings.warn('nperseg = {0:d} is greater than input length '\n",
      "  9%|███████▎                                                                         | 20/220 [03:35<35:44, 10.72s/it]"
     ]
    },
    {
     "name": "stdout",
     "output_type": "stream",
     "text": [
      "(124, 46, 27)\n",
      "(124, 45, 27)\n",
      "Exemplars  (124, 3645)\n",
      "124 47 128\n"
     ]
    },
    {
     "name": "stderr",
     "output_type": "stream",
     "text": [
      "C:\\Users\\hlw69\\Anaconda3\\lib\\site-packages\\scipy\\signal\\_spectral_py.py:1999: UserWarning: nperseg = 256 is greater than input length  = 128, using nperseg = 128\n",
      "  warnings.warn('nperseg = {0:d} is greater than input length '\n",
      " 10%|███████▋                                                                         | 21/220 [03:46<35:40, 10.76s/it]"
     ]
    },
    {
     "name": "stdout",
     "output_type": "stream",
     "text": [
      "(124, 46, 27)\n",
      "(124, 45, 27)\n",
      "Exemplars  (124, 3645)\n",
      "124 47 128\n"
     ]
    },
    {
     "name": "stderr",
     "output_type": "stream",
     "text": [
      "C:\\Users\\hlw69\\Anaconda3\\lib\\site-packages\\scipy\\signal\\_spectral_py.py:1999: UserWarning: nperseg = 256 is greater than input length  = 128, using nperseg = 128\n",
      "  warnings.warn('nperseg = {0:d} is greater than input length '\n",
      " 10%|████████                                                                         | 22/220 [03:56<35:29, 10.76s/it]"
     ]
    },
    {
     "name": "stdout",
     "output_type": "stream",
     "text": [
      "(124, 46, 27)\n",
      "(124, 45, 27)\n",
      "Exemplars  (124, 3645)\n",
      "124 47 128\n"
     ]
    },
    {
     "name": "stderr",
     "output_type": "stream",
     "text": [
      "C:\\Users\\hlw69\\Anaconda3\\lib\\site-packages\\scipy\\signal\\_spectral_py.py:1999: UserWarning: nperseg = 256 is greater than input length  = 128, using nperseg = 128\n",
      "  warnings.warn('nperseg = {0:d} is greater than input length '\n",
      " 10%|████████▍                                                                        | 23/220 [04:07<35:22, 10.77s/it]"
     ]
    },
    {
     "name": "stdout",
     "output_type": "stream",
     "text": [
      "(124, 46, 27)\n",
      "(124, 45, 27)\n",
      "Exemplars  (124, 3645)\n",
      "124 47 128\n"
     ]
    },
    {
     "name": "stderr",
     "output_type": "stream",
     "text": [
      "C:\\Users\\hlw69\\Anaconda3\\lib\\site-packages\\scipy\\signal\\_spectral_py.py:1999: UserWarning: nperseg = 256 is greater than input length  = 128, using nperseg = 128\n",
      "  warnings.warn('nperseg = {0:d} is greater than input length '\n",
      " 11%|████████▊                                                                        | 24/220 [04:18<35:35, 10.89s/it]"
     ]
    },
    {
     "name": "stdout",
     "output_type": "stream",
     "text": [
      "(124, 46, 27)\n",
      "(124, 45, 27)\n",
      "Exemplars  (124, 3645)\n",
      "124 47 128\n"
     ]
    },
    {
     "name": "stderr",
     "output_type": "stream",
     "text": [
      "C:\\Users\\hlw69\\Anaconda3\\lib\\site-packages\\scipy\\signal\\_spectral_py.py:1999: UserWarning: nperseg = 256 is greater than input length  = 128, using nperseg = 128\n",
      "  warnings.warn('nperseg = {0:d} is greater than input length '\n",
      " 11%|█████████▏                                                                       | 25/220 [04:29<35:24, 10.89s/it]"
     ]
    },
    {
     "name": "stdout",
     "output_type": "stream",
     "text": [
      "(124, 46, 27)\n",
      "(124, 45, 27)\n",
      "Exemplars  (124, 3645)\n",
      "124 47 128\n"
     ]
    },
    {
     "name": "stderr",
     "output_type": "stream",
     "text": [
      "C:\\Users\\hlw69\\Anaconda3\\lib\\site-packages\\scipy\\signal\\_spectral_py.py:1999: UserWarning: nperseg = 256 is greater than input length  = 128, using nperseg = 128\n",
      "  warnings.warn('nperseg = {0:d} is greater than input length '\n",
      " 12%|█████████▌                                                                       | 26/220 [04:40<35:15, 10.90s/it]"
     ]
    },
    {
     "name": "stdout",
     "output_type": "stream",
     "text": [
      "(124, 46, 27)\n",
      "(124, 45, 27)\n",
      "Exemplars  (124, 3645)\n",
      "124 47 128\n"
     ]
    },
    {
     "name": "stderr",
     "output_type": "stream",
     "text": [
      "C:\\Users\\hlw69\\Anaconda3\\lib\\site-packages\\scipy\\signal\\_spectral_py.py:1999: UserWarning: nperseg = 256 is greater than input length  = 128, using nperseg = 128\n",
      "  warnings.warn('nperseg = {0:d} is greater than input length '\n",
      " 12%|█████████▉                                                                       | 27/220 [04:51<35:02, 10.90s/it]"
     ]
    },
    {
     "name": "stdout",
     "output_type": "stream",
     "text": [
      "(124, 46, 27)\n",
      "(124, 45, 27)\n",
      "Exemplars  (124, 3645)\n",
      "124 47 128\n"
     ]
    },
    {
     "name": "stderr",
     "output_type": "stream",
     "text": [
      "C:\\Users\\hlw69\\Anaconda3\\lib\\site-packages\\scipy\\signal\\_spectral_py.py:1999: UserWarning: nperseg = 256 is greater than input length  = 128, using nperseg = 128\n",
      "  warnings.warn('nperseg = {0:d} is greater than input length '\n",
      " 13%|██████████▎                                                                      | 28/220 [05:02<34:44, 10.86s/it]"
     ]
    },
    {
     "name": "stdout",
     "output_type": "stream",
     "text": [
      "(124, 46, 27)\n",
      "(124, 45, 27)\n",
      "Exemplars  (124, 3645)\n",
      "124 47 128\n"
     ]
    },
    {
     "name": "stderr",
     "output_type": "stream",
     "text": [
      "C:\\Users\\hlw69\\Anaconda3\\lib\\site-packages\\scipy\\signal\\_spectral_py.py:1999: UserWarning: nperseg = 256 is greater than input length  = 128, using nperseg = 128\n",
      "  warnings.warn('nperseg = {0:d} is greater than input length '\n",
      " 13%|██████████▋                                                                      | 29/220 [05:13<34:36, 10.87s/it]"
     ]
    },
    {
     "name": "stdout",
     "output_type": "stream",
     "text": [
      "(124, 46, 27)\n",
      "(124, 45, 27)\n",
      "Exemplars  (124, 3645)\n",
      "124 47 128\n"
     ]
    },
    {
     "name": "stderr",
     "output_type": "stream",
     "text": [
      "C:\\Users\\hlw69\\Anaconda3\\lib\\site-packages\\scipy\\signal\\_spectral_py.py:1999: UserWarning: nperseg = 256 is greater than input length  = 128, using nperseg = 128\n",
      "  warnings.warn('nperseg = {0:d} is greater than input length '\n",
      " 14%|███████████                                                                      | 30/220 [05:24<34:23, 10.86s/it]"
     ]
    },
    {
     "name": "stdout",
     "output_type": "stream",
     "text": [
      "(124, 46, 27)\n",
      "(124, 45, 27)\n",
      "Exemplars  (124, 3645)\n",
      "124 47 128\n"
     ]
    },
    {
     "name": "stderr",
     "output_type": "stream",
     "text": [
      "C:\\Users\\hlw69\\Anaconda3\\lib\\site-packages\\scipy\\signal\\_spectral_py.py:1999: UserWarning: nperseg = 256 is greater than input length  = 128, using nperseg = 128\n",
      "  warnings.warn('nperseg = {0:d} is greater than input length '\n",
      " 14%|███████████▍                                                                     | 31/220 [05:34<34:03, 10.81s/it]"
     ]
    },
    {
     "name": "stdout",
     "output_type": "stream",
     "text": [
      "(124, 46, 27)\n",
      "(124, 45, 27)\n",
      "Exemplars  (124, 3645)\n",
      "124 47 128\n"
     ]
    },
    {
     "name": "stderr",
     "output_type": "stream",
     "text": [
      "C:\\Users\\hlw69\\Anaconda3\\lib\\site-packages\\scipy\\signal\\_spectral_py.py:1999: UserWarning: nperseg = 256 is greater than input length  = 128, using nperseg = 128\n",
      "  warnings.warn('nperseg = {0:d} is greater than input length '\n",
      " 15%|███████████▊                                                                     | 32/220 [05:45<33:50, 10.80s/it]"
     ]
    },
    {
     "name": "stdout",
     "output_type": "stream",
     "text": [
      "(124, 46, 27)\n",
      "(124, 45, 27)\n",
      "Exemplars  (124, 3645)\n",
      "124 47 128\n"
     ]
    },
    {
     "name": "stderr",
     "output_type": "stream",
     "text": [
      "C:\\Users\\hlw69\\Anaconda3\\lib\\site-packages\\scipy\\signal\\_spectral_py.py:1999: UserWarning: nperseg = 256 is greater than input length  = 128, using nperseg = 128\n",
      "  warnings.warn('nperseg = {0:d} is greater than input length '\n",
      " 15%|████████████▏                                                                    | 33/220 [05:56<33:38, 10.79s/it]"
     ]
    },
    {
     "name": "stdout",
     "output_type": "stream",
     "text": [
      "(124, 46, 27)\n",
      "(124, 45, 27)\n",
      "Exemplars  (124, 3645)\n",
      "124 47 128\n"
     ]
    },
    {
     "name": "stderr",
     "output_type": "stream",
     "text": [
      "C:\\Users\\hlw69\\Anaconda3\\lib\\site-packages\\scipy\\signal\\_spectral_py.py:1999: UserWarning: nperseg = 256 is greater than input length  = 128, using nperseg = 128\n",
      "  warnings.warn('nperseg = {0:d} is greater than input length '\n",
      " 15%|████████████▌                                                                    | 34/220 [06:07<33:25, 10.78s/it]"
     ]
    },
    {
     "name": "stdout",
     "output_type": "stream",
     "text": [
      "(124, 46, 27)\n",
      "(124, 45, 27)\n",
      "Exemplars  (124, 3645)\n",
      "124 47 128\n"
     ]
    },
    {
     "name": "stderr",
     "output_type": "stream",
     "text": [
      "C:\\Users\\hlw69\\Anaconda3\\lib\\site-packages\\scipy\\signal\\_spectral_py.py:1999: UserWarning: nperseg = 256 is greater than input length  = 128, using nperseg = 128\n",
      "  warnings.warn('nperseg = {0:d} is greater than input length '\n",
      " 16%|████████████▉                                                                    | 35/220 [06:17<33:06, 10.74s/it]"
     ]
    },
    {
     "name": "stdout",
     "output_type": "stream",
     "text": [
      "(124, 46, 27)\n",
      "(124, 45, 27)\n",
      "Exemplars  (124, 3645)\n",
      "124 47 128\n"
     ]
    },
    {
     "name": "stderr",
     "output_type": "stream",
     "text": [
      "C:\\Users\\hlw69\\Anaconda3\\lib\\site-packages\\scipy\\signal\\_spectral_py.py:1999: UserWarning: nperseg = 256 is greater than input length  = 128, using nperseg = 128\n",
      "  warnings.warn('nperseg = {0:d} is greater than input length '\n",
      " 16%|█████████████▎                                                                   | 36/220 [06:28<32:50, 10.71s/it]"
     ]
    },
    {
     "name": "stdout",
     "output_type": "stream",
     "text": [
      "(124, 46, 27)\n",
      "(124, 45, 27)\n",
      "Exemplars  (124, 3645)\n",
      "124 47 128\n"
     ]
    },
    {
     "name": "stderr",
     "output_type": "stream",
     "text": [
      "C:\\Users\\hlw69\\Anaconda3\\lib\\site-packages\\scipy\\signal\\_spectral_py.py:1999: UserWarning: nperseg = 256 is greater than input length  = 128, using nperseg = 128\n",
      "  warnings.warn('nperseg = {0:d} is greater than input length '\n",
      " 17%|█████████████▌                                                                   | 37/220 [06:39<32:38, 10.70s/it]"
     ]
    },
    {
     "name": "stdout",
     "output_type": "stream",
     "text": [
      "(124, 46, 27)\n",
      "(124, 45, 27)\n",
      "Exemplars  (124, 3645)\n",
      "124 47 128\n"
     ]
    },
    {
     "name": "stderr",
     "output_type": "stream",
     "text": [
      "C:\\Users\\hlw69\\Anaconda3\\lib\\site-packages\\scipy\\signal\\_spectral_py.py:1999: UserWarning: nperseg = 256 is greater than input length  = 128, using nperseg = 128\n",
      "  warnings.warn('nperseg = {0:d} is greater than input length '\n",
      " 17%|█████████████▉                                                                   | 38/220 [06:49<32:30, 10.72s/it]"
     ]
    },
    {
     "name": "stdout",
     "output_type": "stream",
     "text": [
      "(124, 46, 27)\n",
      "(124, 45, 27)\n",
      "Exemplars  (124, 3645)\n",
      "124 47 128\n"
     ]
    },
    {
     "name": "stderr",
     "output_type": "stream",
     "text": [
      "C:\\Users\\hlw69\\Anaconda3\\lib\\site-packages\\scipy\\signal\\_spectral_py.py:1999: UserWarning: nperseg = 256 is greater than input length  = 128, using nperseg = 128\n",
      "  warnings.warn('nperseg = {0:d} is greater than input length '\n",
      " 18%|██████████████▎                                                                  | 39/220 [07:00<32:27, 10.76s/it]"
     ]
    },
    {
     "name": "stdout",
     "output_type": "stream",
     "text": [
      "(124, 46, 27)\n",
      "(124, 45, 27)\n",
      "Exemplars  (124, 3645)\n",
      "124 47 128\n"
     ]
    },
    {
     "name": "stderr",
     "output_type": "stream",
     "text": [
      "C:\\Users\\hlw69\\Anaconda3\\lib\\site-packages\\scipy\\signal\\_spectral_py.py:1999: UserWarning: nperseg = 256 is greater than input length  = 128, using nperseg = 128\n",
      "  warnings.warn('nperseg = {0:d} is greater than input length '\n",
      " 18%|██████████████▋                                                                  | 40/220 [07:11<32:26, 10.81s/it]"
     ]
    },
    {
     "name": "stdout",
     "output_type": "stream",
     "text": [
      "(124, 46, 27)\n",
      "(124, 45, 27)\n",
      "Exemplars  (124, 3645)\n",
      "124 47 128\n"
     ]
    },
    {
     "name": "stderr",
     "output_type": "stream",
     "text": [
      "C:\\Users\\hlw69\\Anaconda3\\lib\\site-packages\\scipy\\signal\\_spectral_py.py:1999: UserWarning: nperseg = 256 is greater than input length  = 128, using nperseg = 128\n",
      "  warnings.warn('nperseg = {0:d} is greater than input length '\n",
      " 19%|███████████████                                                                  | 41/220 [07:22<32:42, 10.96s/it]"
     ]
    },
    {
     "name": "stdout",
     "output_type": "stream",
     "text": [
      "(124, 46, 27)\n",
      "(124, 45, 27)\n",
      "Exemplars  (124, 3645)\n",
      "124 47 128\n"
     ]
    },
    {
     "name": "stderr",
     "output_type": "stream",
     "text": [
      "C:\\Users\\hlw69\\Anaconda3\\lib\\site-packages\\scipy\\signal\\_spectral_py.py:1999: UserWarning: nperseg = 256 is greater than input length  = 128, using nperseg = 128\n",
      "  warnings.warn('nperseg = {0:d} is greater than input length '\n",
      " 19%|███████████████▍                                                                 | 42/220 [07:33<32:36, 10.99s/it]"
     ]
    },
    {
     "name": "stdout",
     "output_type": "stream",
     "text": [
      "(124, 46, 27)\n",
      "(124, 45, 27)\n",
      "Exemplars  (124, 3645)\n",
      "124 47 128\n"
     ]
    },
    {
     "name": "stderr",
     "output_type": "stream",
     "text": [
      "C:\\Users\\hlw69\\Anaconda3\\lib\\site-packages\\scipy\\signal\\_spectral_py.py:1999: UserWarning: nperseg = 256 is greater than input length  = 128, using nperseg = 128\n",
      "  warnings.warn('nperseg = {0:d} is greater than input length '\n",
      " 20%|███████████████▊                                                                 | 43/220 [07:45<32:31, 11.02s/it]"
     ]
    },
    {
     "name": "stdout",
     "output_type": "stream",
     "text": [
      "(124, 46, 27)\n",
      "(124, 45, 27)\n",
      "Exemplars  (124, 3645)\n",
      "124 47 128\n"
     ]
    },
    {
     "name": "stderr",
     "output_type": "stream",
     "text": [
      "C:\\Users\\hlw69\\Anaconda3\\lib\\site-packages\\scipy\\signal\\_spectral_py.py:1999: UserWarning: nperseg = 256 is greater than input length  = 128, using nperseg = 128\n",
      "  warnings.warn('nperseg = {0:d} is greater than input length '\n",
      " 20%|████████████████▏                                                                | 44/220 [07:56<32:31, 11.09s/it]"
     ]
    },
    {
     "name": "stdout",
     "output_type": "stream",
     "text": [
      "(124, 46, 27)\n",
      "(124, 45, 27)\n",
      "Exemplars  (124, 3645)\n",
      "124 47 128\n"
     ]
    },
    {
     "name": "stderr",
     "output_type": "stream",
     "text": [
      "C:\\Users\\hlw69\\Anaconda3\\lib\\site-packages\\scipy\\signal\\_spectral_py.py:1999: UserWarning: nperseg = 256 is greater than input length  = 128, using nperseg = 128\n",
      "  warnings.warn('nperseg = {0:d} is greater than input length '\n",
      " 20%|████████████████▌                                                                | 45/220 [08:07<32:23, 11.11s/it]"
     ]
    },
    {
     "name": "stdout",
     "output_type": "stream",
     "text": [
      "(124, 46, 27)\n",
      "(124, 45, 27)\n",
      "Exemplars  (124, 3645)\n",
      "124 47 128\n"
     ]
    },
    {
     "name": "stderr",
     "output_type": "stream",
     "text": [
      "C:\\Users\\hlw69\\Anaconda3\\lib\\site-packages\\scipy\\signal\\_spectral_py.py:1999: UserWarning: nperseg = 256 is greater than input length  = 128, using nperseg = 128\n",
      "  warnings.warn('nperseg = {0:d} is greater than input length '\n",
      " 21%|████████████████▉                                                                | 46/220 [08:18<32:10, 11.10s/it]"
     ]
    },
    {
     "name": "stdout",
     "output_type": "stream",
     "text": [
      "(124, 46, 27)\n",
      "(124, 45, 27)\n",
      "Exemplars  (124, 3645)\n",
      "124 47 128\n"
     ]
    },
    {
     "name": "stderr",
     "output_type": "stream",
     "text": [
      "C:\\Users\\hlw69\\Anaconda3\\lib\\site-packages\\scipy\\signal\\_spectral_py.py:1999: UserWarning: nperseg = 256 is greater than input length  = 128, using nperseg = 128\n",
      "  warnings.warn('nperseg = {0:d} is greater than input length '\n",
      " 21%|█████████████████▎                                                               | 47/220 [08:29<31:46, 11.02s/it]"
     ]
    },
    {
     "name": "stdout",
     "output_type": "stream",
     "text": [
      "(124, 46, 27)\n",
      "(124, 45, 27)\n",
      "Exemplars  (124, 3645)\n",
      "124 47 128\n"
     ]
    },
    {
     "name": "stderr",
     "output_type": "stream",
     "text": [
      "C:\\Users\\hlw69\\Anaconda3\\lib\\site-packages\\scipy\\signal\\_spectral_py.py:1999: UserWarning: nperseg = 256 is greater than input length  = 128, using nperseg = 128\n",
      "  warnings.warn('nperseg = {0:d} is greater than input length '\n",
      " 22%|█████████████████▋                                                               | 48/220 [08:40<31:29, 10.99s/it]"
     ]
    },
    {
     "name": "stdout",
     "output_type": "stream",
     "text": [
      "(124, 46, 27)\n",
      "(124, 45, 27)\n",
      "Exemplars  (124, 3645)\n",
      "124 47 128\n"
     ]
    },
    {
     "name": "stderr",
     "output_type": "stream",
     "text": [
      "C:\\Users\\hlw69\\Anaconda3\\lib\\site-packages\\scipy\\signal\\_spectral_py.py:1999: UserWarning: nperseg = 256 is greater than input length  = 128, using nperseg = 128\n",
      "  warnings.warn('nperseg = {0:d} is greater than input length '\n",
      " 22%|██████████████████                                                               | 49/220 [08:51<31:19, 10.99s/it]"
     ]
    },
    {
     "name": "stdout",
     "output_type": "stream",
     "text": [
      "(124, 46, 27)\n",
      "(124, 45, 27)\n",
      "Exemplars  (124, 3645)\n",
      "124 47 128\n"
     ]
    },
    {
     "name": "stderr",
     "output_type": "stream",
     "text": [
      "C:\\Users\\hlw69\\Anaconda3\\lib\\site-packages\\scipy\\signal\\_spectral_py.py:1999: UserWarning: nperseg = 256 is greater than input length  = 128, using nperseg = 128\n",
      "  warnings.warn('nperseg = {0:d} is greater than input length '\n",
      " 23%|██████████████████▍                                                              | 50/220 [09:02<31:04, 10.97s/it]"
     ]
    },
    {
     "name": "stdout",
     "output_type": "stream",
     "text": [
      "(124, 46, 27)\n",
      "(124, 45, 27)\n",
      "Exemplars  (124, 3645)\n",
      "124 47 128\n"
     ]
    },
    {
     "name": "stderr",
     "output_type": "stream",
     "text": [
      "C:\\Users\\hlw69\\Anaconda3\\lib\\site-packages\\scipy\\signal\\_spectral_py.py:1999: UserWarning: nperseg = 256 is greater than input length  = 128, using nperseg = 128\n",
      "  warnings.warn('nperseg = {0:d} is greater than input length '\n",
      " 23%|██████████████████▊                                                              | 51/220 [09:12<30:46, 10.93s/it]"
     ]
    },
    {
     "name": "stdout",
     "output_type": "stream",
     "text": [
      "(124, 46, 27)\n",
      "(124, 45, 27)\n",
      "Exemplars  (124, 3645)\n",
      "124 47 128\n"
     ]
    },
    {
     "name": "stderr",
     "output_type": "stream",
     "text": [
      "C:\\Users\\hlw69\\Anaconda3\\lib\\site-packages\\scipy\\signal\\_spectral_py.py:1999: UserWarning: nperseg = 256 is greater than input length  = 128, using nperseg = 128\n",
      "  warnings.warn('nperseg = {0:d} is greater than input length '\n",
      " 24%|███████████████████▏                                                             | 52/220 [09:23<30:29, 10.89s/it]"
     ]
    },
    {
     "name": "stdout",
     "output_type": "stream",
     "text": [
      "(124, 46, 27)\n",
      "(124, 45, 27)\n",
      "Exemplars  (124, 3645)\n",
      "124 47 128\n"
     ]
    },
    {
     "name": "stderr",
     "output_type": "stream",
     "text": [
      "C:\\Users\\hlw69\\Anaconda3\\lib\\site-packages\\scipy\\signal\\_spectral_py.py:1999: UserWarning: nperseg = 256 is greater than input length  = 128, using nperseg = 128\n",
      "  warnings.warn('nperseg = {0:d} is greater than input length '\n",
      " 24%|███████████████████▌                                                             | 53/220 [09:34<30:13, 10.86s/it]"
     ]
    },
    {
     "name": "stdout",
     "output_type": "stream",
     "text": [
      "(124, 46, 27)\n",
      "(124, 45, 27)\n",
      "Exemplars  (124, 3645)\n",
      "124 47 128\n"
     ]
    },
    {
     "name": "stderr",
     "output_type": "stream",
     "text": [
      "C:\\Users\\hlw69\\Anaconda3\\lib\\site-packages\\scipy\\signal\\_spectral_py.py:1999: UserWarning: nperseg = 256 is greater than input length  = 128, using nperseg = 128\n",
      "  warnings.warn('nperseg = {0:d} is greater than input length '\n",
      " 25%|███████████████████▉                                                             | 54/220 [09:45<30:16, 10.95s/it]"
     ]
    },
    {
     "name": "stdout",
     "output_type": "stream",
     "text": [
      "(124, 46, 27)\n",
      "(124, 45, 27)\n",
      "Exemplars  (124, 3645)\n",
      "124 47 128\n"
     ]
    },
    {
     "name": "stderr",
     "output_type": "stream",
     "text": [
      "C:\\Users\\hlw69\\Anaconda3\\lib\\site-packages\\scipy\\signal\\_spectral_py.py:1999: UserWarning: nperseg = 256 is greater than input length  = 128, using nperseg = 128\n",
      "  warnings.warn('nperseg = {0:d} is greater than input length '\n",
      " 25%|████████████████████▎                                                            | 55/220 [09:56<30:11, 10.98s/it]"
     ]
    },
    {
     "name": "stdout",
     "output_type": "stream",
     "text": [
      "(124, 46, 27)\n",
      "(124, 45, 27)\n",
      "Exemplars  (124, 3645)\n",
      "124 47 128\n"
     ]
    },
    {
     "name": "stderr",
     "output_type": "stream",
     "text": [
      "C:\\Users\\hlw69\\Anaconda3\\lib\\site-packages\\scipy\\signal\\_spectral_py.py:1999: UserWarning: nperseg = 256 is greater than input length  = 128, using nperseg = 128\n",
      "  warnings.warn('nperseg = {0:d} is greater than input length '\n",
      " 25%|████████████████████▌                                                            | 56/220 [10:07<29:59, 10.97s/it]"
     ]
    },
    {
     "name": "stdout",
     "output_type": "stream",
     "text": [
      "(124, 46, 27)\n",
      "(124, 45, 27)\n",
      "Exemplars  (124, 3645)\n",
      "124 47 128\n"
     ]
    },
    {
     "name": "stderr",
     "output_type": "stream",
     "text": [
      "C:\\Users\\hlw69\\Anaconda3\\lib\\site-packages\\scipy\\signal\\_spectral_py.py:1999: UserWarning: nperseg = 256 is greater than input length  = 128, using nperseg = 128\n",
      "  warnings.warn('nperseg = {0:d} is greater than input length '\n",
      " 26%|████████████████████▉                                                            | 57/220 [10:18<29:41, 10.93s/it]"
     ]
    },
    {
     "name": "stdout",
     "output_type": "stream",
     "text": [
      "(124, 46, 27)\n",
      "(124, 45, 27)\n",
      "Exemplars  (124, 3645)\n",
      "124 47 128\n"
     ]
    },
    {
     "name": "stderr",
     "output_type": "stream",
     "text": [
      "C:\\Users\\hlw69\\Anaconda3\\lib\\site-packages\\scipy\\signal\\_spectral_py.py:1999: UserWarning: nperseg = 256 is greater than input length  = 128, using nperseg = 128\n",
      "  warnings.warn('nperseg = {0:d} is greater than input length '\n",
      " 26%|█████████████████████▎                                                           | 58/220 [10:29<29:21, 10.88s/it]"
     ]
    },
    {
     "name": "stdout",
     "output_type": "stream",
     "text": [
      "(124, 46, 27)\n",
      "(124, 45, 27)\n",
      "Exemplars  (124, 3645)\n",
      "124 47 128\n"
     ]
    },
    {
     "name": "stderr",
     "output_type": "stream",
     "text": [
      "C:\\Users\\hlw69\\Anaconda3\\lib\\site-packages\\scipy\\signal\\_spectral_py.py:1999: UserWarning: nperseg = 256 is greater than input length  = 128, using nperseg = 128\n",
      "  warnings.warn('nperseg = {0:d} is greater than input length '\n",
      " 27%|█████████████████████▋                                                           | 59/220 [10:40<29:07, 10.85s/it]"
     ]
    },
    {
     "name": "stdout",
     "output_type": "stream",
     "text": [
      "(124, 46, 27)\n",
      "(124, 45, 27)\n",
      "Exemplars  (124, 3645)\n",
      "124 47 128\n"
     ]
    },
    {
     "name": "stderr",
     "output_type": "stream",
     "text": [
      "C:\\Users\\hlw69\\Anaconda3\\lib\\site-packages\\scipy\\signal\\_spectral_py.py:1999: UserWarning: nperseg = 256 is greater than input length  = 128, using nperseg = 128\n",
      "  warnings.warn('nperseg = {0:d} is greater than input length '\n",
      " 27%|██████████████████████                                                           | 60/220 [10:50<28:55, 10.85s/it]"
     ]
    },
    {
     "name": "stdout",
     "output_type": "stream",
     "text": [
      "(124, 46, 27)\n",
      "(124, 45, 27)\n",
      "Exemplars  (124, 3645)\n",
      "124 47 128\n"
     ]
    },
    {
     "name": "stderr",
     "output_type": "stream",
     "text": [
      "C:\\Users\\hlw69\\Anaconda3\\lib\\site-packages\\scipy\\signal\\_spectral_py.py:1999: UserWarning: nperseg = 256 is greater than input length  = 128, using nperseg = 128\n",
      "  warnings.warn('nperseg = {0:d} is greater than input length '\n",
      " 28%|██████████████████████▍                                                          | 61/220 [11:01<28:48, 10.87s/it]"
     ]
    },
    {
     "name": "stdout",
     "output_type": "stream",
     "text": [
      "(124, 46, 27)\n",
      "(124, 45, 27)\n",
      "Exemplars  (124, 3645)\n",
      "124 47 128\n"
     ]
    },
    {
     "name": "stderr",
     "output_type": "stream",
     "text": [
      "C:\\Users\\hlw69\\Anaconda3\\lib\\site-packages\\scipy\\signal\\_spectral_py.py:1999: UserWarning: nperseg = 256 is greater than input length  = 128, using nperseg = 128\n",
      "  warnings.warn('nperseg = {0:d} is greater than input length '\n",
      " 28%|██████████████████████▊                                                          | 62/220 [11:12<28:45, 10.92s/it]"
     ]
    },
    {
     "name": "stdout",
     "output_type": "stream",
     "text": [
      "(124, 46, 27)\n",
      "(124, 45, 27)\n",
      "Exemplars  (124, 3645)\n",
      "124 47 128\n"
     ]
    },
    {
     "name": "stderr",
     "output_type": "stream",
     "text": [
      "C:\\Users\\hlw69\\Anaconda3\\lib\\site-packages\\scipy\\signal\\_spectral_py.py:1999: UserWarning: nperseg = 256 is greater than input length  = 128, using nperseg = 128\n",
      "  warnings.warn('nperseg = {0:d} is greater than input length '\n",
      " 29%|███████████████████████▏                                                         | 63/220 [11:23<28:42, 10.97s/it]"
     ]
    },
    {
     "name": "stdout",
     "output_type": "stream",
     "text": [
      "(124, 46, 27)\n",
      "(124, 45, 27)\n",
      "Exemplars  (124, 3645)\n",
      "124 47 128\n"
     ]
    },
    {
     "name": "stderr",
     "output_type": "stream",
     "text": [
      "C:\\Users\\hlw69\\Anaconda3\\lib\\site-packages\\scipy\\signal\\_spectral_py.py:1999: UserWarning: nperseg = 256 is greater than input length  = 128, using nperseg = 128\n",
      "  warnings.warn('nperseg = {0:d} is greater than input length '\n",
      " 29%|███████████████████████▌                                                         | 64/220 [11:34<28:31, 10.97s/it]"
     ]
    },
    {
     "name": "stdout",
     "output_type": "stream",
     "text": [
      "(124, 46, 27)\n",
      "(124, 45, 27)\n",
      "Exemplars  (124, 3645)\n",
      "124 47 128\n"
     ]
    },
    {
     "name": "stderr",
     "output_type": "stream",
     "text": [
      "C:\\Users\\hlw69\\Anaconda3\\lib\\site-packages\\scipy\\signal\\_spectral_py.py:1999: UserWarning: nperseg = 256 is greater than input length  = 128, using nperseg = 128\n",
      "  warnings.warn('nperseg = {0:d} is greater than input length '\n",
      " 30%|███████████████████████▉                                                         | 65/220 [11:46<28:24, 11.00s/it]"
     ]
    },
    {
     "name": "stdout",
     "output_type": "stream",
     "text": [
      "(124, 46, 27)\n",
      "(124, 45, 27)\n",
      "Exemplars  (124, 3645)\n",
      "124 47 128\n"
     ]
    },
    {
     "name": "stderr",
     "output_type": "stream",
     "text": [
      "C:\\Users\\hlw69\\Anaconda3\\lib\\site-packages\\scipy\\signal\\_spectral_py.py:1999: UserWarning: nperseg = 256 is greater than input length  = 128, using nperseg = 128\n",
      "  warnings.warn('nperseg = {0:d} is greater than input length '\n",
      " 30%|████████████████████████▎                                                        | 66/220 [11:56<28:09, 10.97s/it]"
     ]
    },
    {
     "name": "stdout",
     "output_type": "stream",
     "text": [
      "(124, 46, 27)\n",
      "(124, 45, 27)\n",
      "Exemplars  (124, 3645)\n",
      "124 47 128\n"
     ]
    },
    {
     "name": "stderr",
     "output_type": "stream",
     "text": [
      "C:\\Users\\hlw69\\Anaconda3\\lib\\site-packages\\scipy\\signal\\_spectral_py.py:1999: UserWarning: nperseg = 256 is greater than input length  = 128, using nperseg = 128\n",
      "  warnings.warn('nperseg = {0:d} is greater than input length '\n",
      " 30%|████████████████████████▋                                                        | 67/220 [12:07<27:56, 10.96s/it]"
     ]
    },
    {
     "name": "stdout",
     "output_type": "stream",
     "text": [
      "(124, 46, 27)\n",
      "(124, 45, 27)\n",
      "Exemplars  (124, 3645)\n",
      "124 47 128\n"
     ]
    },
    {
     "name": "stderr",
     "output_type": "stream",
     "text": [
      "C:\\Users\\hlw69\\Anaconda3\\lib\\site-packages\\scipy\\signal\\_spectral_py.py:1999: UserWarning: nperseg = 256 is greater than input length  = 128, using nperseg = 128\n",
      "  warnings.warn('nperseg = {0:d} is greater than input length '\n",
      " 31%|█████████████████████████                                                        | 68/220 [12:18<27:48, 10.98s/it]"
     ]
    },
    {
     "name": "stdout",
     "output_type": "stream",
     "text": [
      "(124, 46, 27)\n",
      "(124, 45, 27)\n",
      "Exemplars  (124, 3645)\n",
      "124 47 128\n"
     ]
    },
    {
     "name": "stderr",
     "output_type": "stream",
     "text": [
      "C:\\Users\\hlw69\\Anaconda3\\lib\\site-packages\\scipy\\signal\\_spectral_py.py:1999: UserWarning: nperseg = 256 is greater than input length  = 128, using nperseg = 128\n",
      "  warnings.warn('nperseg = {0:d} is greater than input length '\n",
      " 31%|█████████████████████████▍                                                       | 69/220 [12:29<27:38, 10.99s/it]"
     ]
    },
    {
     "name": "stdout",
     "output_type": "stream",
     "text": [
      "(124, 46, 27)\n",
      "(124, 45, 27)\n",
      "Exemplars  (124, 3645)\n",
      "124 47 128\n"
     ]
    },
    {
     "name": "stderr",
     "output_type": "stream",
     "text": [
      "C:\\Users\\hlw69\\Anaconda3\\lib\\site-packages\\scipy\\signal\\_spectral_py.py:1999: UserWarning: nperseg = 256 is greater than input length  = 128, using nperseg = 128\n",
      "  warnings.warn('nperseg = {0:d} is greater than input length '\n",
      " 32%|█████████████████████████▊                                                       | 70/220 [12:40<27:22, 10.95s/it]"
     ]
    },
    {
     "name": "stdout",
     "output_type": "stream",
     "text": [
      "(124, 46, 27)\n",
      "(124, 45, 27)\n",
      "Exemplars  (124, 3645)\n",
      "124 47 128\n"
     ]
    },
    {
     "name": "stderr",
     "output_type": "stream",
     "text": [
      "C:\\Users\\hlw69\\Anaconda3\\lib\\site-packages\\scipy\\signal\\_spectral_py.py:1999: UserWarning: nperseg = 256 is greater than input length  = 128, using nperseg = 128\n",
      "  warnings.warn('nperseg = {0:d} is greater than input length '\n",
      " 32%|██████████████████████████▏                                                      | 71/220 [12:51<27:19, 11.00s/it]"
     ]
    },
    {
     "name": "stdout",
     "output_type": "stream",
     "text": [
      "(124, 46, 27)\n",
      "(124, 45, 27)\n",
      "Exemplars  (124, 3645)\n",
      "124 47 128\n"
     ]
    },
    {
     "name": "stderr",
     "output_type": "stream",
     "text": [
      "C:\\Users\\hlw69\\Anaconda3\\lib\\site-packages\\scipy\\signal\\_spectral_py.py:1999: UserWarning: nperseg = 256 is greater than input length  = 128, using nperseg = 128\n",
      "  warnings.warn('nperseg = {0:d} is greater than input length '\n",
      " 33%|██████████████████████████▌                                                      | 72/220 [13:02<27:10, 11.02s/it]"
     ]
    },
    {
     "name": "stdout",
     "output_type": "stream",
     "text": [
      "(124, 46, 27)\n",
      "(124, 45, 27)\n",
      "Exemplars  (124, 3645)\n",
      "124 47 128\n"
     ]
    },
    {
     "name": "stderr",
     "output_type": "stream",
     "text": [
      "C:\\Users\\hlw69\\Anaconda3\\lib\\site-packages\\scipy\\signal\\_spectral_py.py:1999: UserWarning: nperseg = 256 is greater than input length  = 128, using nperseg = 128\n",
      "  warnings.warn('nperseg = {0:d} is greater than input length '\n",
      " 33%|██████████████████████████▉                                                      | 73/220 [13:13<26:57, 11.00s/it]"
     ]
    },
    {
     "name": "stdout",
     "output_type": "stream",
     "text": [
      "(124, 46, 27)\n",
      "(124, 45, 27)\n",
      "Exemplars  (124, 3645)\n",
      "124 47 128\n"
     ]
    },
    {
     "name": "stderr",
     "output_type": "stream",
     "text": [
      "C:\\Users\\hlw69\\Anaconda3\\lib\\site-packages\\scipy\\signal\\_spectral_py.py:1999: UserWarning: nperseg = 256 is greater than input length  = 128, using nperseg = 128\n",
      "  warnings.warn('nperseg = {0:d} is greater than input length '\n",
      " 34%|███████████████████████████▏                                                     | 74/220 [13:25<26:54, 11.06s/it]"
     ]
    },
    {
     "name": "stdout",
     "output_type": "stream",
     "text": [
      "(124, 46, 27)\n",
      "(124, 45, 27)\n",
      "Exemplars  (124, 3645)\n",
      "124 47 128\n"
     ]
    },
    {
     "name": "stderr",
     "output_type": "stream",
     "text": [
      "C:\\Users\\hlw69\\Anaconda3\\lib\\site-packages\\scipy\\signal\\_spectral_py.py:1999: UserWarning: nperseg = 256 is greater than input length  = 128, using nperseg = 128\n",
      "  warnings.warn('nperseg = {0:d} is greater than input length '\n",
      " 34%|███████████████████████████▌                                                     | 75/220 [13:35<26:36, 11.01s/it]"
     ]
    },
    {
     "name": "stdout",
     "output_type": "stream",
     "text": [
      "(124, 46, 27)\n",
      "(124, 45, 27)\n",
      "Exemplars  (124, 3645)\n",
      "124 47 128\n"
     ]
    },
    {
     "name": "stderr",
     "output_type": "stream",
     "text": [
      "C:\\Users\\hlw69\\Anaconda3\\lib\\site-packages\\scipy\\signal\\_spectral_py.py:1999: UserWarning: nperseg = 256 is greater than input length  = 128, using nperseg = 128\n",
      "  warnings.warn('nperseg = {0:d} is greater than input length '\n",
      " 35%|███████████████████████████▉                                                     | 76/220 [13:46<26:17, 10.96s/it]"
     ]
    },
    {
     "name": "stdout",
     "output_type": "stream",
     "text": [
      "(124, 46, 27)\n",
      "(124, 45, 27)\n",
      "Exemplars  (124, 3645)\n",
      "124 47 128\n"
     ]
    },
    {
     "name": "stderr",
     "output_type": "stream",
     "text": [
      "C:\\Users\\hlw69\\Anaconda3\\lib\\site-packages\\scipy\\signal\\_spectral_py.py:1999: UserWarning: nperseg = 256 is greater than input length  = 128, using nperseg = 128\n",
      "  warnings.warn('nperseg = {0:d} is greater than input length '\n",
      " 35%|████████████████████████████▎                                                    | 77/220 [13:57<26:07, 10.96s/it]"
     ]
    },
    {
     "name": "stdout",
     "output_type": "stream",
     "text": [
      "(124, 46, 27)\n",
      "(124, 45, 27)\n",
      "Exemplars  (124, 3645)\n",
      "124 47 128\n"
     ]
    },
    {
     "name": "stderr",
     "output_type": "stream",
     "text": [
      "C:\\Users\\hlw69\\Anaconda3\\lib\\site-packages\\scipy\\signal\\_spectral_py.py:1999: UserWarning: nperseg = 256 is greater than input length  = 128, using nperseg = 128\n",
      "  warnings.warn('nperseg = {0:d} is greater than input length '\n",
      " 35%|████████████████████████████▋                                                    | 78/220 [14:08<25:53, 10.94s/it]"
     ]
    },
    {
     "name": "stdout",
     "output_type": "stream",
     "text": [
      "(124, 46, 27)\n",
      "(124, 45, 27)\n",
      "Exemplars  (124, 3645)\n",
      "124 47 128\n"
     ]
    },
    {
     "name": "stderr",
     "output_type": "stream",
     "text": [
      "C:\\Users\\hlw69\\Anaconda3\\lib\\site-packages\\scipy\\signal\\_spectral_py.py:1999: UserWarning: nperseg = 256 is greater than input length  = 128, using nperseg = 128\n",
      "  warnings.warn('nperseg = {0:d} is greater than input length '\n",
      " 36%|█████████████████████████████                                                    | 79/220 [14:19<25:39, 10.92s/it]"
     ]
    },
    {
     "name": "stdout",
     "output_type": "stream",
     "text": [
      "(124, 46, 27)\n",
      "(124, 45, 27)\n",
      "Exemplars  (124, 3645)\n",
      "124 47 128\n"
     ]
    },
    {
     "name": "stderr",
     "output_type": "stream",
     "text": [
      "C:\\Users\\hlw69\\Anaconda3\\lib\\site-packages\\scipy\\signal\\_spectral_py.py:1999: UserWarning: nperseg = 256 is greater than input length  = 128, using nperseg = 128\n",
      "  warnings.warn('nperseg = {0:d} is greater than input length '\n",
      " 36%|█████████████████████████████▍                                                   | 80/220 [14:30<25:32, 10.94s/it]"
     ]
    },
    {
     "name": "stdout",
     "output_type": "stream",
     "text": [
      "(124, 46, 27)\n",
      "(124, 45, 27)\n",
      "Exemplars  (124, 3645)\n",
      "124 47 128\n"
     ]
    },
    {
     "name": "stderr",
     "output_type": "stream",
     "text": [
      "C:\\Users\\hlw69\\Anaconda3\\lib\\site-packages\\scipy\\signal\\_spectral_py.py:1999: UserWarning: nperseg = 256 is greater than input length  = 128, using nperseg = 128\n",
      "  warnings.warn('nperseg = {0:d} is greater than input length '\n",
      " 37%|█████████████████████████████▊                                                   | 81/220 [14:41<25:26, 10.98s/it]"
     ]
    },
    {
     "name": "stdout",
     "output_type": "stream",
     "text": [
      "(124, 46, 27)\n",
      "(124, 45, 27)\n",
      "Exemplars  (124, 3645)\n",
      "124 47 128\n"
     ]
    },
    {
     "name": "stderr",
     "output_type": "stream",
     "text": [
      "C:\\Users\\hlw69\\Anaconda3\\lib\\site-packages\\scipy\\signal\\_spectral_py.py:1999: UserWarning: nperseg = 256 is greater than input length  = 128, using nperseg = 128\n",
      "  warnings.warn('nperseg = {0:d} is greater than input length '\n",
      " 37%|██████████████████████████████▏                                                  | 82/220 [14:52<25:10, 10.95s/it]"
     ]
    },
    {
     "name": "stdout",
     "output_type": "stream",
     "text": [
      "(124, 46, 27)\n",
      "(124, 45, 27)\n",
      "Exemplars  (124, 3645)\n",
      "124 47 128\n"
     ]
    },
    {
     "name": "stderr",
     "output_type": "stream",
     "text": [
      "C:\\Users\\hlw69\\Anaconda3\\lib\\site-packages\\scipy\\signal\\_spectral_py.py:1999: UserWarning: nperseg = 256 is greater than input length  = 128, using nperseg = 128\n",
      "  warnings.warn('nperseg = {0:d} is greater than input length '\n",
      " 38%|██████████████████████████████▌                                                  | 83/220 [15:03<25:01, 10.96s/it]"
     ]
    },
    {
     "name": "stdout",
     "output_type": "stream",
     "text": [
      "(124, 46, 27)\n",
      "(124, 45, 27)\n",
      "Exemplars  (124, 3645)\n",
      "124 47 128\n"
     ]
    },
    {
     "name": "stderr",
     "output_type": "stream",
     "text": [
      "C:\\Users\\hlw69\\Anaconda3\\lib\\site-packages\\scipy\\signal\\_spectral_py.py:1999: UserWarning: nperseg = 256 is greater than input length  = 128, using nperseg = 128\n",
      "  warnings.warn('nperseg = {0:d} is greater than input length '\n",
      " 38%|██████████████████████████████▉                                                  | 84/220 [15:14<24:55, 11.00s/it]"
     ]
    },
    {
     "name": "stdout",
     "output_type": "stream",
     "text": [
      "(124, 46, 27)\n",
      "(124, 45, 27)\n",
      "Exemplars  (124, 3645)\n",
      "124 47 128\n"
     ]
    },
    {
     "name": "stderr",
     "output_type": "stream",
     "text": [
      "C:\\Users\\hlw69\\Anaconda3\\lib\\site-packages\\scipy\\signal\\_spectral_py.py:1999: UserWarning: nperseg = 256 is greater than input length  = 128, using nperseg = 128\n",
      "  warnings.warn('nperseg = {0:d} is greater than input length '\n",
      " 39%|███████████████████████████████▎                                                 | 85/220 [15:25<24:47, 11.02s/it]"
     ]
    },
    {
     "name": "stdout",
     "output_type": "stream",
     "text": [
      "(124, 46, 27)\n",
      "(124, 45, 27)\n",
      "Exemplars  (124, 3645)\n",
      "124 47 128\n"
     ]
    },
    {
     "name": "stderr",
     "output_type": "stream",
     "text": [
      "C:\\Users\\hlw69\\Anaconda3\\lib\\site-packages\\scipy\\signal\\_spectral_py.py:1999: UserWarning: nperseg = 256 is greater than input length  = 128, using nperseg = 128\n",
      "  warnings.warn('nperseg = {0:d} is greater than input length '\n",
      " 39%|███████████████████████████████▋                                                 | 86/220 [15:36<24:36, 11.02s/it]"
     ]
    },
    {
     "name": "stdout",
     "output_type": "stream",
     "text": [
      "(124, 46, 27)\n",
      "(124, 45, 27)\n",
      "Exemplars  (124, 3645)\n",
      "124 47 128\n"
     ]
    },
    {
     "name": "stderr",
     "output_type": "stream",
     "text": [
      "C:\\Users\\hlw69\\Anaconda3\\lib\\site-packages\\scipy\\signal\\_spectral_py.py:1999: UserWarning: nperseg = 256 is greater than input length  = 128, using nperseg = 128\n",
      "  warnings.warn('nperseg = {0:d} is greater than input length '\n",
      " 40%|████████████████████████████████                                                 | 87/220 [15:47<24:23, 11.00s/it]"
     ]
    },
    {
     "name": "stdout",
     "output_type": "stream",
     "text": [
      "(124, 46, 27)\n",
      "(124, 45, 27)\n",
      "Exemplars  (124, 3645)\n",
      "124 47 128\n"
     ]
    },
    {
     "name": "stderr",
     "output_type": "stream",
     "text": [
      "C:\\Users\\hlw69\\Anaconda3\\lib\\site-packages\\scipy\\signal\\_spectral_py.py:1999: UserWarning: nperseg = 256 is greater than input length  = 128, using nperseg = 128\n",
      "  warnings.warn('nperseg = {0:d} is greater than input length '\n",
      " 40%|████████████████████████████████▍                                                | 88/220 [15:58<24:02, 10.93s/it]"
     ]
    },
    {
     "name": "stdout",
     "output_type": "stream",
     "text": [
      "(124, 46, 27)\n",
      "(124, 45, 27)\n",
      "Exemplars  (124, 3645)\n",
      "124 47 128\n"
     ]
    },
    {
     "name": "stderr",
     "output_type": "stream",
     "text": [
      "C:\\Users\\hlw69\\Anaconda3\\lib\\site-packages\\scipy\\signal\\_spectral_py.py:1999: UserWarning: nperseg = 256 is greater than input length  = 128, using nperseg = 128\n",
      "  warnings.warn('nperseg = {0:d} is greater than input length '\n",
      " 40%|████████████████████████████████▊                                                | 89/220 [16:09<23:43, 10.87s/it]"
     ]
    },
    {
     "name": "stdout",
     "output_type": "stream",
     "text": [
      "(124, 46, 27)\n",
      "(124, 45, 27)\n",
      "Exemplars  (124, 3645)\n",
      "124 47 128\n"
     ]
    },
    {
     "name": "stderr",
     "output_type": "stream",
     "text": [
      "C:\\Users\\hlw69\\Anaconda3\\lib\\site-packages\\scipy\\signal\\_spectral_py.py:1999: UserWarning: nperseg = 256 is greater than input length  = 128, using nperseg = 128\n",
      "  warnings.warn('nperseg = {0:d} is greater than input length '\n",
      " 41%|█████████████████████████████████▏                                               | 90/220 [16:19<23:25, 10.81s/it]"
     ]
    },
    {
     "name": "stdout",
     "output_type": "stream",
     "text": [
      "(124, 46, 27)\n",
      "(124, 45, 27)\n",
      "Exemplars  (124, 3645)\n",
      "124 47 128\n"
     ]
    },
    {
     "name": "stderr",
     "output_type": "stream",
     "text": [
      "C:\\Users\\hlw69\\Anaconda3\\lib\\site-packages\\scipy\\signal\\_spectral_py.py:1999: UserWarning: nperseg = 256 is greater than input length  = 128, using nperseg = 128\n",
      "  warnings.warn('nperseg = {0:d} is greater than input length '\n",
      " 41%|█████████████████████████████████▌                                               | 91/220 [16:30<23:14, 10.81s/it]"
     ]
    },
    {
     "name": "stdout",
     "output_type": "stream",
     "text": [
      "(124, 46, 27)\n",
      "(124, 45, 27)\n",
      "Exemplars  (124, 3645)\n",
      "124 47 128\n"
     ]
    },
    {
     "name": "stderr",
     "output_type": "stream",
     "text": [
      "C:\\Users\\hlw69\\Anaconda3\\lib\\site-packages\\scipy\\signal\\_spectral_py.py:1999: UserWarning: nperseg = 256 is greater than input length  = 128, using nperseg = 128\n",
      "  warnings.warn('nperseg = {0:d} is greater than input length '\n",
      " 42%|█████████████████████████████████▊                                               | 92/220 [16:41<23:10, 10.86s/it]"
     ]
    },
    {
     "name": "stdout",
     "output_type": "stream",
     "text": [
      "(124, 46, 27)\n",
      "(124, 45, 27)\n",
      "Exemplars  (124, 3645)\n",
      "124 47 128\n"
     ]
    },
    {
     "name": "stderr",
     "output_type": "stream",
     "text": [
      "C:\\Users\\hlw69\\Anaconda3\\lib\\site-packages\\scipy\\signal\\_spectral_py.py:1999: UserWarning: nperseg = 256 is greater than input length  = 128, using nperseg = 128\n",
      "  warnings.warn('nperseg = {0:d} is greater than input length '\n",
      " 42%|██████████████████████████████████▏                                              | 93/220 [16:52<23:04, 10.90s/it]"
     ]
    },
    {
     "name": "stdout",
     "output_type": "stream",
     "text": [
      "(124, 46, 27)\n",
      "(124, 45, 27)\n",
      "Exemplars  (124, 3645)\n",
      "124 47 128\n"
     ]
    },
    {
     "name": "stderr",
     "output_type": "stream",
     "text": [
      "C:\\Users\\hlw69\\Anaconda3\\lib\\site-packages\\scipy\\signal\\_spectral_py.py:1999: UserWarning: nperseg = 256 is greater than input length  = 128, using nperseg = 128\n",
      "  warnings.warn('nperseg = {0:d} is greater than input length '\n",
      " 43%|██████████████████████████████████▌                                              | 94/220 [17:03<22:52, 10.90s/it]"
     ]
    },
    {
     "name": "stdout",
     "output_type": "stream",
     "text": [
      "(124, 46, 27)\n",
      "(124, 45, 27)\n",
      "Exemplars  (124, 3645)\n",
      "124 47 128\n"
     ]
    },
    {
     "name": "stderr",
     "output_type": "stream",
     "text": [
      "C:\\Users\\hlw69\\Anaconda3\\lib\\site-packages\\scipy\\signal\\_spectral_py.py:1999: UserWarning: nperseg = 256 is greater than input length  = 128, using nperseg = 128\n",
      "  warnings.warn('nperseg = {0:d} is greater than input length '\n",
      " 43%|██████████████████████████████████▉                                              | 95/220 [17:14<22:41, 10.89s/it]"
     ]
    },
    {
     "name": "stdout",
     "output_type": "stream",
     "text": [
      "(124, 46, 27)\n",
      "(124, 45, 27)\n",
      "Exemplars  (124, 3645)\n",
      "124 47 128\n"
     ]
    },
    {
     "name": "stderr",
     "output_type": "stream",
     "text": [
      "C:\\Users\\hlw69\\Anaconda3\\lib\\site-packages\\scipy\\signal\\_spectral_py.py:1999: UserWarning: nperseg = 256 is greater than input length  = 128, using nperseg = 128\n",
      "  warnings.warn('nperseg = {0:d} is greater than input length '\n",
      " 44%|███████████████████████████████████▎                                             | 96/220 [17:25<22:30, 10.89s/it]"
     ]
    },
    {
     "name": "stdout",
     "output_type": "stream",
     "text": [
      "(124, 46, 27)\n",
      "(124, 45, 27)\n",
      "Exemplars  (124, 3645)\n",
      "124 47 128\n"
     ]
    },
    {
     "name": "stderr",
     "output_type": "stream",
     "text": [
      "C:\\Users\\hlw69\\Anaconda3\\lib\\site-packages\\scipy\\signal\\_spectral_py.py:1999: UserWarning: nperseg = 256 is greater than input length  = 128, using nperseg = 128\n",
      "  warnings.warn('nperseg = {0:d} is greater than input length '\n",
      " 44%|███████████████████████████████████▋                                             | 97/220 [17:36<22:20, 10.90s/it]"
     ]
    },
    {
     "name": "stdout",
     "output_type": "stream",
     "text": [
      "(124, 46, 27)\n",
      "(124, 45, 27)\n",
      "Exemplars  (124, 3645)\n",
      "124 47 128\n"
     ]
    },
    {
     "name": "stderr",
     "output_type": "stream",
     "text": [
      "C:\\Users\\hlw69\\Anaconda3\\lib\\site-packages\\scipy\\signal\\_spectral_py.py:1999: UserWarning: nperseg = 256 is greater than input length  = 128, using nperseg = 128\n",
      "  warnings.warn('nperseg = {0:d} is greater than input length '\n",
      " 45%|████████████████████████████████████                                             | 98/220 [17:46<22:08, 10.89s/it]"
     ]
    },
    {
     "name": "stdout",
     "output_type": "stream",
     "text": [
      "(124, 46, 27)\n",
      "(124, 45, 27)\n",
      "Exemplars  (124, 3645)\n",
      "124 47 128\n"
     ]
    },
    {
     "name": "stderr",
     "output_type": "stream",
     "text": [
      "C:\\Users\\hlw69\\Anaconda3\\lib\\site-packages\\scipy\\signal\\_spectral_py.py:1999: UserWarning: nperseg = 256 is greater than input length  = 128, using nperseg = 128\n",
      "  warnings.warn('nperseg = {0:d} is greater than input length '\n",
      " 45%|████████████████████████████████████▍                                            | 99/220 [17:57<21:58, 10.90s/it]"
     ]
    },
    {
     "name": "stdout",
     "output_type": "stream",
     "text": [
      "(124, 46, 27)\n",
      "(124, 45, 27)\n",
      "Exemplars  (124, 3645)\n",
      "124 47 128\n"
     ]
    },
    {
     "name": "stderr",
     "output_type": "stream",
     "text": [
      "C:\\Users\\hlw69\\Anaconda3\\lib\\site-packages\\scipy\\signal\\_spectral_py.py:1999: UserWarning: nperseg = 256 is greater than input length  = 128, using nperseg = 128\n",
      "  warnings.warn('nperseg = {0:d} is greater than input length '\n",
      " 45%|████████████████████████████████████▎                                           | 100/220 [18:08<21:52, 10.94s/it]"
     ]
    },
    {
     "name": "stdout",
     "output_type": "stream",
     "text": [
      "(124, 46, 27)\n",
      "(124, 45, 27)\n",
      "Exemplars  (124, 3645)\n",
      "124 47 128\n"
     ]
    },
    {
     "name": "stderr",
     "output_type": "stream",
     "text": [
      "C:\\Users\\hlw69\\Anaconda3\\lib\\site-packages\\scipy\\signal\\_spectral_py.py:1999: UserWarning: nperseg = 256 is greater than input length  = 128, using nperseg = 128\n",
      "  warnings.warn('nperseg = {0:d} is greater than input length '\n",
      " 46%|████████████████████████████████████▋                                           | 101/220 [18:19<21:32, 10.86s/it]"
     ]
    },
    {
     "name": "stdout",
     "output_type": "stream",
     "text": [
      "(124, 46, 27)\n",
      "(124, 45, 27)\n",
      "Exemplars  (124, 3645)\n",
      "124 47 128\n"
     ]
    },
    {
     "name": "stderr",
     "output_type": "stream",
     "text": [
      "C:\\Users\\hlw69\\Anaconda3\\lib\\site-packages\\scipy\\signal\\_spectral_py.py:1999: UserWarning: nperseg = 256 is greater than input length  = 128, using nperseg = 128\n",
      "  warnings.warn('nperseg = {0:d} is greater than input length '\n",
      " 46%|█████████████████████████████████████                                           | 102/220 [18:30<21:22, 10.87s/it]"
     ]
    },
    {
     "name": "stdout",
     "output_type": "stream",
     "text": [
      "(124, 46, 27)\n",
      "(124, 45, 27)\n",
      "Exemplars  (124, 3645)\n",
      "124 47 128\n"
     ]
    },
    {
     "name": "stderr",
     "output_type": "stream",
     "text": [
      "C:\\Users\\hlw69\\Anaconda3\\lib\\site-packages\\scipy\\signal\\_spectral_py.py:1999: UserWarning: nperseg = 256 is greater than input length  = 128, using nperseg = 128\n",
      "  warnings.warn('nperseg = {0:d} is greater than input length '\n",
      " 47%|█████████████████████████████████████▍                                          | 103/220 [18:41<21:10, 10.86s/it]"
     ]
    },
    {
     "name": "stdout",
     "output_type": "stream",
     "text": [
      "(124, 46, 27)\n",
      "(124, 45, 27)\n",
      "Exemplars  (124, 3645)\n",
      "124 47 128\n"
     ]
    },
    {
     "name": "stderr",
     "output_type": "stream",
     "text": [
      "C:\\Users\\hlw69\\Anaconda3\\lib\\site-packages\\scipy\\signal\\_spectral_py.py:1999: UserWarning: nperseg = 256 is greater than input length  = 128, using nperseg = 128\n",
      "  warnings.warn('nperseg = {0:d} is greater than input length '\n",
      " 47%|█████████████████████████████████████▊                                          | 104/220 [18:52<21:04, 10.90s/it]"
     ]
    },
    {
     "name": "stdout",
     "output_type": "stream",
     "text": [
      "(124, 46, 27)\n",
      "(124, 45, 27)\n",
      "Exemplars  (124, 3645)\n",
      "124 47 128\n"
     ]
    },
    {
     "name": "stderr",
     "output_type": "stream",
     "text": [
      "C:\\Users\\hlw69\\Anaconda3\\lib\\site-packages\\scipy\\signal\\_spectral_py.py:1999: UserWarning: nperseg = 256 is greater than input length  = 128, using nperseg = 128\n",
      "  warnings.warn('nperseg = {0:d} is greater than input length '\n",
      " 48%|██████████████████████████████████████▏                                         | 105/220 [19:03<20:53, 10.90s/it]"
     ]
    },
    {
     "name": "stdout",
     "output_type": "stream",
     "text": [
      "(124, 46, 27)\n",
      "(124, 45, 27)\n",
      "Exemplars  (124, 3645)\n",
      "124 47 128\n"
     ]
    },
    {
     "name": "stderr",
     "output_type": "stream",
     "text": [
      "C:\\Users\\hlw69\\Anaconda3\\lib\\site-packages\\scipy\\signal\\_spectral_py.py:1999: UserWarning: nperseg = 256 is greater than input length  = 128, using nperseg = 128\n",
      "  warnings.warn('nperseg = {0:d} is greater than input length '\n",
      " 48%|██████████████████████████████████████▌                                         | 106/220 [19:14<20:43, 10.91s/it]"
     ]
    },
    {
     "name": "stdout",
     "output_type": "stream",
     "text": [
      "(124, 46, 27)\n",
      "(124, 45, 27)\n",
      "Exemplars  (124, 3645)\n",
      "124 47 128\n"
     ]
    },
    {
     "name": "stderr",
     "output_type": "stream",
     "text": [
      "C:\\Users\\hlw69\\Anaconda3\\lib\\site-packages\\scipy\\signal\\_spectral_py.py:1999: UserWarning: nperseg = 256 is greater than input length  = 128, using nperseg = 128\n",
      "  warnings.warn('nperseg = {0:d} is greater than input length '\n",
      " 49%|██████████████████████████████████████▉                                         | 107/220 [19:24<20:28, 10.87s/it]"
     ]
    },
    {
     "name": "stdout",
     "output_type": "stream",
     "text": [
      "(124, 46, 27)\n",
      "(124, 45, 27)\n",
      "Exemplars  (124, 3645)\n",
      "124 47 128\n"
     ]
    },
    {
     "name": "stderr",
     "output_type": "stream",
     "text": [
      "C:\\Users\\hlw69\\Anaconda3\\lib\\site-packages\\scipy\\signal\\_spectral_py.py:1999: UserWarning: nperseg = 256 is greater than input length  = 128, using nperseg = 128\n",
      "  warnings.warn('nperseg = {0:d} is greater than input length '\n",
      " 49%|███████████████████████████████████████▎                                        | 108/220 [19:35<20:13, 10.83s/it]"
     ]
    },
    {
     "name": "stdout",
     "output_type": "stream",
     "text": [
      "(124, 46, 27)\n",
      "(124, 45, 27)\n",
      "Exemplars  (124, 3645)\n",
      "124 47 128\n"
     ]
    },
    {
     "name": "stderr",
     "output_type": "stream",
     "text": [
      "C:\\Users\\hlw69\\Anaconda3\\lib\\site-packages\\scipy\\signal\\_spectral_py.py:1999: UserWarning: nperseg = 256 is greater than input length  = 128, using nperseg = 128\n",
      "  warnings.warn('nperseg = {0:d} is greater than input length '\n",
      " 50%|███████████████████████████████████████▋                                        | 109/220 [19:46<19:58, 10.80s/it]"
     ]
    },
    {
     "name": "stdout",
     "output_type": "stream",
     "text": [
      "(124, 46, 27)\n",
      "(124, 45, 27)\n",
      "Exemplars  (124, 3645)\n",
      "124 47 128\n"
     ]
    },
    {
     "name": "stderr",
     "output_type": "stream",
     "text": [
      "C:\\Users\\hlw69\\Anaconda3\\lib\\site-packages\\scipy\\signal\\_spectral_py.py:1999: UserWarning: nperseg = 256 is greater than input length  = 128, using nperseg = 128\n",
      "  warnings.warn('nperseg = {0:d} is greater than input length '\n",
      " 50%|████████████████████████████████████████                                        | 110/220 [19:57<19:42, 10.75s/it]"
     ]
    },
    {
     "name": "stdout",
     "output_type": "stream",
     "text": [
      "(124, 46, 27)\n",
      "(124, 45, 27)\n",
      "Exemplars  (124, 3645)\n",
      "124 47 128\n"
     ]
    },
    {
     "name": "stderr",
     "output_type": "stream",
     "text": [
      "C:\\Users\\hlw69\\Anaconda3\\lib\\site-packages\\scipy\\signal\\_spectral_py.py:1999: UserWarning: nperseg = 256 is greater than input length  = 128, using nperseg = 128\n",
      "  warnings.warn('nperseg = {0:d} is greater than input length '\n",
      " 50%|████████████████████████████████████████▎                                       | 111/220 [20:07<19:30, 10.73s/it]"
     ]
    },
    {
     "name": "stdout",
     "output_type": "stream",
     "text": [
      "(124, 46, 27)\n",
      "(124, 45, 27)\n",
      "Exemplars  (124, 3645)\n",
      "124 47 128\n"
     ]
    },
    {
     "name": "stderr",
     "output_type": "stream",
     "text": [
      "C:\\Users\\hlw69\\Anaconda3\\lib\\site-packages\\scipy\\signal\\_spectral_py.py:1999: UserWarning: nperseg = 256 is greater than input length  = 128, using nperseg = 128\n",
      "  warnings.warn('nperseg = {0:d} is greater than input length '\n",
      " 51%|████████████████████████████████████████▋                                       | 112/220 [20:18<19:16, 10.71s/it]"
     ]
    },
    {
     "name": "stdout",
     "output_type": "stream",
     "text": [
      "(124, 46, 27)\n",
      "(124, 45, 27)\n",
      "Exemplars  (124, 3645)\n",
      "124 47 128\n"
     ]
    },
    {
     "name": "stderr",
     "output_type": "stream",
     "text": [
      "C:\\Users\\hlw69\\Anaconda3\\lib\\site-packages\\scipy\\signal\\_spectral_py.py:1999: UserWarning: nperseg = 256 is greater than input length  = 128, using nperseg = 128\n",
      "  warnings.warn('nperseg = {0:d} is greater than input length '\n",
      " 51%|█████████████████████████████████████████                                       | 113/220 [20:29<19:05, 10.71s/it]"
     ]
    },
    {
     "name": "stdout",
     "output_type": "stream",
     "text": [
      "(124, 46, 27)\n",
      "(124, 45, 27)\n",
      "Exemplars  (124, 3645)\n",
      "124 47 128\n"
     ]
    },
    {
     "name": "stderr",
     "output_type": "stream",
     "text": [
      "C:\\Users\\hlw69\\Anaconda3\\lib\\site-packages\\scipy\\signal\\_spectral_py.py:1999: UserWarning: nperseg = 256 is greater than input length  = 128, using nperseg = 128\n",
      "  warnings.warn('nperseg = {0:d} is greater than input length '\n",
      " 52%|█████████████████████████████████████████▍                                      | 114/220 [20:39<18:53, 10.69s/it]"
     ]
    },
    {
     "name": "stdout",
     "output_type": "stream",
     "text": [
      "(124, 46, 27)\n",
      "(124, 45, 27)\n",
      "Exemplars  (124, 3645)\n",
      "124 47 128\n"
     ]
    },
    {
     "name": "stderr",
     "output_type": "stream",
     "text": [
      "C:\\Users\\hlw69\\Anaconda3\\lib\\site-packages\\scipy\\signal\\_spectral_py.py:1999: UserWarning: nperseg = 256 is greater than input length  = 128, using nperseg = 128\n",
      "  warnings.warn('nperseg = {0:d} is greater than input length '\n",
      " 52%|█████████████████████████████████████████▊                                      | 115/220 [20:50<18:45, 10.72s/it]"
     ]
    },
    {
     "name": "stdout",
     "output_type": "stream",
     "text": [
      "(124, 46, 27)\n",
      "(124, 45, 27)\n",
      "Exemplars  (124, 3645)\n",
      "124 47 128\n"
     ]
    },
    {
     "name": "stderr",
     "output_type": "stream",
     "text": [
      "C:\\Users\\hlw69\\Anaconda3\\lib\\site-packages\\scipy\\signal\\_spectral_py.py:1999: UserWarning: nperseg = 256 is greater than input length  = 128, using nperseg = 128\n",
      "  warnings.warn('nperseg = {0:d} is greater than input length '\n",
      " 53%|██████████████████████████████████████████▏                                     | 116/220 [21:01<18:33, 10.70s/it]"
     ]
    },
    {
     "name": "stdout",
     "output_type": "stream",
     "text": [
      "(124, 46, 27)\n",
      "(124, 45, 27)\n",
      "Exemplars  (124, 3645)\n",
      "124 47 128\n"
     ]
    },
    {
     "name": "stderr",
     "output_type": "stream",
     "text": [
      "C:\\Users\\hlw69\\Anaconda3\\lib\\site-packages\\scipy\\signal\\_spectral_py.py:1999: UserWarning: nperseg = 256 is greater than input length  = 128, using nperseg = 128\n",
      "  warnings.warn('nperseg = {0:d} is greater than input length '\n",
      " 53%|██████████████████████████████████████████▌                                     | 117/220 [21:11<18:22, 10.71s/it]"
     ]
    },
    {
     "name": "stdout",
     "output_type": "stream",
     "text": [
      "(124, 46, 27)\n",
      "(124, 45, 27)\n",
      "Exemplars  (124, 3645)\n",
      "124 47 128\n"
     ]
    },
    {
     "name": "stderr",
     "output_type": "stream",
     "text": [
      "C:\\Users\\hlw69\\Anaconda3\\lib\\site-packages\\scipy\\signal\\_spectral_py.py:1999: UserWarning: nperseg = 256 is greater than input length  = 128, using nperseg = 128\n",
      "  warnings.warn('nperseg = {0:d} is greater than input length '\n",
      " 54%|██████████████████████████████████████████▉                                     | 118/220 [21:22<18:12, 10.71s/it]"
     ]
    },
    {
     "name": "stdout",
     "output_type": "stream",
     "text": [
      "(124, 46, 27)\n",
      "(124, 45, 27)\n",
      "Exemplars  (124, 3645)\n",
      "124 47 128\n"
     ]
    },
    {
     "name": "stderr",
     "output_type": "stream",
     "text": [
      "C:\\Users\\hlw69\\Anaconda3\\lib\\site-packages\\scipy\\signal\\_spectral_py.py:1999: UserWarning: nperseg = 256 is greater than input length  = 128, using nperseg = 128\n",
      "  warnings.warn('nperseg = {0:d} is greater than input length '\n",
      " 54%|███████████████████████████████████████████▎                                    | 119/220 [21:33<18:01, 10.70s/it]"
     ]
    },
    {
     "name": "stdout",
     "output_type": "stream",
     "text": [
      "(124, 46, 27)\n",
      "(124, 45, 27)\n",
      "Exemplars  (124, 3645)\n",
      "124 47 128\n"
     ]
    },
    {
     "name": "stderr",
     "output_type": "stream",
     "text": [
      "C:\\Users\\hlw69\\Anaconda3\\lib\\site-packages\\scipy\\signal\\_spectral_py.py:1999: UserWarning: nperseg = 256 is greater than input length  = 128, using nperseg = 128\n",
      "  warnings.warn('nperseg = {0:d} is greater than input length '\n",
      " 55%|███████████████████████████████████████████▋                                    | 120/220 [21:44<17:51, 10.71s/it]"
     ]
    },
    {
     "name": "stdout",
     "output_type": "stream",
     "text": [
      "(124, 46, 27)\n",
      "(124, 45, 27)\n",
      "Exemplars  (124, 3645)\n",
      "124 47 128\n"
     ]
    },
    {
     "name": "stderr",
     "output_type": "stream",
     "text": [
      "C:\\Users\\hlw69\\Anaconda3\\lib\\site-packages\\scipy\\signal\\_spectral_py.py:1999: UserWarning: nperseg = 256 is greater than input length  = 128, using nperseg = 128\n",
      "  warnings.warn('nperseg = {0:d} is greater than input length '\n",
      " 55%|████████████████████████████████████████████                                    | 121/220 [21:54<17:38, 10.69s/it]"
     ]
    },
    {
     "name": "stdout",
     "output_type": "stream",
     "text": [
      "(124, 46, 27)\n",
      "(124, 45, 27)\n",
      "Exemplars  (124, 3645)\n",
      "124 47 128\n"
     ]
    },
    {
     "name": "stderr",
     "output_type": "stream",
     "text": [
      "C:\\Users\\hlw69\\Anaconda3\\lib\\site-packages\\scipy\\signal\\_spectral_py.py:1999: UserWarning: nperseg = 256 is greater than input length  = 128, using nperseg = 128\n",
      "  warnings.warn('nperseg = {0:d} is greater than input length '\n",
      " 55%|████████████████████████████████████████████▎                                   | 122/220 [22:05<17:29, 10.71s/it]"
     ]
    },
    {
     "name": "stdout",
     "output_type": "stream",
     "text": [
      "(124, 46, 27)\n",
      "(124, 45, 27)\n",
      "Exemplars  (124, 3645)\n",
      "124 47 128\n"
     ]
    },
    {
     "name": "stderr",
     "output_type": "stream",
     "text": [
      "C:\\Users\\hlw69\\Anaconda3\\lib\\site-packages\\scipy\\signal\\_spectral_py.py:1999: UserWarning: nperseg = 256 is greater than input length  = 128, using nperseg = 128\n",
      "  warnings.warn('nperseg = {0:d} is greater than input length '\n",
      " 56%|████████████████████████████████████████████▋                                   | 123/220 [22:16<17:21, 10.73s/it]"
     ]
    },
    {
     "name": "stdout",
     "output_type": "stream",
     "text": [
      "(124, 46, 27)\n",
      "(124, 45, 27)\n",
      "Exemplars  (124, 3645)\n",
      "124 47 128\n"
     ]
    },
    {
     "name": "stderr",
     "output_type": "stream",
     "text": [
      "C:\\Users\\hlw69\\Anaconda3\\lib\\site-packages\\scipy\\signal\\_spectral_py.py:1999: UserWarning: nperseg = 256 is greater than input length  = 128, using nperseg = 128\n",
      "  warnings.warn('nperseg = {0:d} is greater than input length '\n",
      " 56%|█████████████████████████████████████████████                                   | 124/220 [22:26<17:09, 10.73s/it]"
     ]
    },
    {
     "name": "stdout",
     "output_type": "stream",
     "text": [
      "(124, 46, 27)\n",
      "(124, 45, 27)\n",
      "Exemplars  (124, 3645)\n",
      "124 47 128\n"
     ]
    },
    {
     "name": "stderr",
     "output_type": "stream",
     "text": [
      "C:\\Users\\hlw69\\Anaconda3\\lib\\site-packages\\scipy\\signal\\_spectral_py.py:1999: UserWarning: nperseg = 256 is greater than input length  = 128, using nperseg = 128\n",
      "  warnings.warn('nperseg = {0:d} is greater than input length '\n",
      " 57%|█████████████████████████████████████████████▍                                  | 125/220 [22:37<17:01, 10.75s/it]"
     ]
    },
    {
     "name": "stdout",
     "output_type": "stream",
     "text": [
      "(124, 46, 27)\n",
      "(124, 45, 27)\n",
      "Exemplars  (124, 3645)\n",
      "124 47 128\n"
     ]
    },
    {
     "name": "stderr",
     "output_type": "stream",
     "text": [
      "C:\\Users\\hlw69\\Anaconda3\\lib\\site-packages\\scipy\\signal\\_spectral_py.py:1999: UserWarning: nperseg = 256 is greater than input length  = 128, using nperseg = 128\n",
      "  warnings.warn('nperseg = {0:d} is greater than input length '\n",
      " 57%|█████████████████████████████████████████████▊                                  | 126/220 [22:48<16:53, 10.78s/it]"
     ]
    },
    {
     "name": "stdout",
     "output_type": "stream",
     "text": [
      "(124, 46, 27)\n",
      "(124, 45, 27)\n",
      "Exemplars  (124, 3645)\n",
      "124 47 128\n"
     ]
    },
    {
     "name": "stderr",
     "output_type": "stream",
     "text": [
      "C:\\Users\\hlw69\\Anaconda3\\lib\\site-packages\\scipy\\signal\\_spectral_py.py:1999: UserWarning: nperseg = 256 is greater than input length  = 128, using nperseg = 128\n",
      "  warnings.warn('nperseg = {0:d} is greater than input length '\n",
      " 58%|██████████████████████████████████████████████▏                                 | 127/220 [22:59<16:42, 10.78s/it]"
     ]
    },
    {
     "name": "stdout",
     "output_type": "stream",
     "text": [
      "(124, 46, 27)\n",
      "(124, 45, 27)\n",
      "Exemplars  (124, 3645)\n",
      "124 47 128\n"
     ]
    },
    {
     "name": "stderr",
     "output_type": "stream",
     "text": [
      "C:\\Users\\hlw69\\Anaconda3\\lib\\site-packages\\scipy\\signal\\_spectral_py.py:1999: UserWarning: nperseg = 256 is greater than input length  = 128, using nperseg = 128\n",
      "  warnings.warn('nperseg = {0:d} is greater than input length '\n",
      " 58%|██████████████████████████████████████████████▌                                 | 128/220 [23:10<16:32, 10.79s/it]"
     ]
    },
    {
     "name": "stdout",
     "output_type": "stream",
     "text": [
      "(124, 46, 27)\n",
      "(124, 45, 27)\n",
      "Exemplars  (124, 3645)\n",
      "124 47 128\n"
     ]
    },
    {
     "name": "stderr",
     "output_type": "stream",
     "text": [
      "C:\\Users\\hlw69\\Anaconda3\\lib\\site-packages\\scipy\\signal\\_spectral_py.py:1999: UserWarning: nperseg = 256 is greater than input length  = 128, using nperseg = 128\n",
      "  warnings.warn('nperseg = {0:d} is greater than input length '\n",
      " 59%|██████████████████████████████████████████████▉                                 | 129/220 [23:20<16:20, 10.78s/it]"
     ]
    },
    {
     "name": "stdout",
     "output_type": "stream",
     "text": [
      "(124, 46, 27)\n",
      "(124, 45, 27)\n",
      "Exemplars  (124, 3645)\n",
      "124 47 128\n"
     ]
    },
    {
     "name": "stderr",
     "output_type": "stream",
     "text": [
      "C:\\Users\\hlw69\\Anaconda3\\lib\\site-packages\\scipy\\signal\\_spectral_py.py:1999: UserWarning: nperseg = 256 is greater than input length  = 128, using nperseg = 128\n",
      "  warnings.warn('nperseg = {0:d} is greater than input length '\n",
      " 59%|███████████████████████████████████████████████▎                                | 130/220 [23:32<16:17, 10.86s/it]"
     ]
    },
    {
     "name": "stdout",
     "output_type": "stream",
     "text": [
      "(124, 46, 27)\n",
      "(124, 45, 27)\n",
      "Exemplars  (124, 3645)\n",
      "124 47 128\n"
     ]
    },
    {
     "name": "stderr",
     "output_type": "stream",
     "text": [
      "C:\\Users\\hlw69\\Anaconda3\\lib\\site-packages\\scipy\\signal\\_spectral_py.py:1999: UserWarning: nperseg = 256 is greater than input length  = 128, using nperseg = 128\n",
      "  warnings.warn('nperseg = {0:d} is greater than input length '\n",
      " 60%|███████████████████████████████████████████████▋                                | 131/220 [23:42<16:03, 10.83s/it]"
     ]
    },
    {
     "name": "stdout",
     "output_type": "stream",
     "text": [
      "(124, 46, 27)\n",
      "(124, 45, 27)\n",
      "Exemplars  (124, 3645)\n",
      "124 47 128\n"
     ]
    },
    {
     "name": "stderr",
     "output_type": "stream",
     "text": [
      "C:\\Users\\hlw69\\Anaconda3\\lib\\site-packages\\scipy\\signal\\_spectral_py.py:1999: UserWarning: nperseg = 256 is greater than input length  = 128, using nperseg = 128\n",
      "  warnings.warn('nperseg = {0:d} is greater than input length '\n",
      " 60%|████████████████████████████████████████████████                                | 132/220 [23:53<15:58, 10.89s/it]"
     ]
    },
    {
     "name": "stdout",
     "output_type": "stream",
     "text": [
      "(124, 46, 27)\n",
      "(124, 45, 27)\n",
      "Exemplars  (124, 3645)\n",
      "124 47 128\n"
     ]
    },
    {
     "name": "stderr",
     "output_type": "stream",
     "text": [
      "C:\\Users\\hlw69\\Anaconda3\\lib\\site-packages\\scipy\\signal\\_spectral_py.py:1999: UserWarning: nperseg = 256 is greater than input length  = 128, using nperseg = 128\n",
      "  warnings.warn('nperseg = {0:d} is greater than input length '\n",
      " 60%|████████████████████████████████████████████████▎                               | 133/220 [24:04<15:45, 10.87s/it]"
     ]
    },
    {
     "name": "stdout",
     "output_type": "stream",
     "text": [
      "(124, 46, 27)\n",
      "(124, 45, 27)\n",
      "Exemplars  (124, 3645)\n",
      "124 47 128\n"
     ]
    },
    {
     "name": "stderr",
     "output_type": "stream",
     "text": [
      "C:\\Users\\hlw69\\Anaconda3\\lib\\site-packages\\scipy\\signal\\_spectral_py.py:1999: UserWarning: nperseg = 256 is greater than input length  = 128, using nperseg = 128\n",
      "  warnings.warn('nperseg = {0:d} is greater than input length '\n",
      " 61%|████████████████████████████████████████████████▋                               | 134/220 [24:15<15:35, 10.87s/it]"
     ]
    },
    {
     "name": "stdout",
     "output_type": "stream",
     "text": [
      "(124, 46, 27)\n",
      "(124, 45, 27)\n",
      "Exemplars  (124, 3645)\n",
      "124 47 128\n"
     ]
    },
    {
     "name": "stderr",
     "output_type": "stream",
     "text": [
      "C:\\Users\\hlw69\\Anaconda3\\lib\\site-packages\\scipy\\signal\\_spectral_py.py:1999: UserWarning: nperseg = 256 is greater than input length  = 128, using nperseg = 128\n",
      "  warnings.warn('nperseg = {0:d} is greater than input length '\n",
      " 61%|█████████████████████████████████████████████████                               | 135/220 [24:26<15:26, 10.89s/it]"
     ]
    },
    {
     "name": "stdout",
     "output_type": "stream",
     "text": [
      "(124, 46, 27)\n",
      "(124, 45, 27)\n",
      "Exemplars  (124, 3645)\n",
      "124 47 128\n"
     ]
    },
    {
     "name": "stderr",
     "output_type": "stream",
     "text": [
      "C:\\Users\\hlw69\\Anaconda3\\lib\\site-packages\\scipy\\signal\\_spectral_py.py:1999: UserWarning: nperseg = 256 is greater than input length  = 128, using nperseg = 128\n",
      "  warnings.warn('nperseg = {0:d} is greater than input length '\n",
      " 62%|█████████████████████████████████████████████████▍                              | 136/220 [24:37<15:14, 10.89s/it]"
     ]
    },
    {
     "name": "stdout",
     "output_type": "stream",
     "text": [
      "(124, 46, 27)\n",
      "(124, 45, 27)\n",
      "Exemplars  (124, 3645)\n",
      "124 47 128\n"
     ]
    },
    {
     "name": "stderr",
     "output_type": "stream",
     "text": [
      "C:\\Users\\hlw69\\Anaconda3\\lib\\site-packages\\scipy\\signal\\_spectral_py.py:1999: UserWarning: nperseg = 256 is greater than input length  = 128, using nperseg = 128\n",
      "  warnings.warn('nperseg = {0:d} is greater than input length '\n",
      " 62%|█████████████████████████████████████████████████▊                              | 137/220 [24:48<15:05, 10.91s/it]"
     ]
    },
    {
     "name": "stdout",
     "output_type": "stream",
     "text": [
      "(124, 46, 27)\n",
      "(124, 45, 27)\n",
      "Exemplars  (124, 3645)\n",
      "124 47 128\n"
     ]
    },
    {
     "name": "stderr",
     "output_type": "stream",
     "text": [
      "C:\\Users\\hlw69\\Anaconda3\\lib\\site-packages\\scipy\\signal\\_spectral_py.py:1999: UserWarning: nperseg = 256 is greater than input length  = 128, using nperseg = 128\n",
      "  warnings.warn('nperseg = {0:d} is greater than input length '\n",
      " 63%|██████████████████████████████████████████████████▏                             | 138/220 [24:59<14:53, 10.90s/it]"
     ]
    },
    {
     "name": "stdout",
     "output_type": "stream",
     "text": [
      "(124, 46, 27)\n",
      "(124, 45, 27)\n",
      "Exemplars  (124, 3645)\n",
      "124 47 128\n"
     ]
    },
    {
     "name": "stderr",
     "output_type": "stream",
     "text": [
      "C:\\Users\\hlw69\\Anaconda3\\lib\\site-packages\\scipy\\signal\\_spectral_py.py:1999: UserWarning: nperseg = 256 is greater than input length  = 128, using nperseg = 128\n",
      "  warnings.warn('nperseg = {0:d} is greater than input length '\n",
      " 63%|██████████████████████████████████████████████████▌                             | 139/220 [25:09<14:39, 10.86s/it]"
     ]
    },
    {
     "name": "stdout",
     "output_type": "stream",
     "text": [
      "(124, 46, 27)\n",
      "(124, 45, 27)\n",
      "Exemplars  (124, 3645)\n",
      "124 47 128\n"
     ]
    },
    {
     "name": "stderr",
     "output_type": "stream",
     "text": [
      "C:\\Users\\hlw69\\Anaconda3\\lib\\site-packages\\scipy\\signal\\_spectral_py.py:1999: UserWarning: nperseg = 256 is greater than input length  = 128, using nperseg = 128\n",
      "  warnings.warn('nperseg = {0:d} is greater than input length '\n",
      " 64%|██████████████████████████████████████████████████▉                             | 140/220 [25:20<14:27, 10.84s/it]"
     ]
    },
    {
     "name": "stdout",
     "output_type": "stream",
     "text": [
      "(124, 46, 27)\n",
      "(124, 45, 27)\n",
      "Exemplars  (124, 3645)\n",
      "124 47 128\n"
     ]
    },
    {
     "name": "stderr",
     "output_type": "stream",
     "text": [
      "C:\\Users\\hlw69\\Anaconda3\\lib\\site-packages\\scipy\\signal\\_spectral_py.py:1999: UserWarning: nperseg = 256 is greater than input length  = 128, using nperseg = 128\n",
      "  warnings.warn('nperseg = {0:d} is greater than input length '\n",
      " 64%|███████████████████████████████████████████████████▎                            | 141/220 [25:31<14:14, 10.81s/it]"
     ]
    },
    {
     "name": "stdout",
     "output_type": "stream",
     "text": [
      "(124, 46, 27)\n",
      "(124, 45, 27)\n",
      "Exemplars  (124, 3645)\n",
      "124 47 128\n"
     ]
    },
    {
     "name": "stderr",
     "output_type": "stream",
     "text": [
      "C:\\Users\\hlw69\\Anaconda3\\lib\\site-packages\\scipy\\signal\\_spectral_py.py:1999: UserWarning: nperseg = 256 is greater than input length  = 128, using nperseg = 128\n",
      "  warnings.warn('nperseg = {0:d} is greater than input length '\n",
      " 65%|███████████████████████████████████████████████████▋                            | 142/220 [25:42<14:02, 10.80s/it]"
     ]
    },
    {
     "name": "stdout",
     "output_type": "stream",
     "text": [
      "(124, 46, 27)\n",
      "(124, 45, 27)\n",
      "Exemplars  (124, 3645)\n",
      "124 47 128\n"
     ]
    },
    {
     "name": "stderr",
     "output_type": "stream",
     "text": [
      "C:\\Users\\hlw69\\Anaconda3\\lib\\site-packages\\scipy\\signal\\_spectral_py.py:1999: UserWarning: nperseg = 256 is greater than input length  = 128, using nperseg = 128\n",
      "  warnings.warn('nperseg = {0:d} is greater than input length '\n",
      " 65%|████████████████████████████████████████████████████                            | 143/220 [25:53<13:50, 10.79s/it]"
     ]
    },
    {
     "name": "stdout",
     "output_type": "stream",
     "text": [
      "(124, 46, 27)\n",
      "(124, 45, 27)\n",
      "Exemplars  (124, 3645)\n",
      "124 47 128\n"
     ]
    },
    {
     "name": "stderr",
     "output_type": "stream",
     "text": [
      "C:\\Users\\hlw69\\Anaconda3\\lib\\site-packages\\scipy\\signal\\_spectral_py.py:1999: UserWarning: nperseg = 256 is greater than input length  = 128, using nperseg = 128\n",
      "  warnings.warn('nperseg = {0:d} is greater than input length '\n",
      " 65%|████████████████████████████████████████████████████▎                           | 144/220 [26:03<13:38, 10.77s/it]"
     ]
    },
    {
     "name": "stdout",
     "output_type": "stream",
     "text": [
      "(124, 46, 27)\n",
      "(124, 45, 27)\n",
      "Exemplars  (124, 3645)\n",
      "124 47 128\n"
     ]
    },
    {
     "name": "stderr",
     "output_type": "stream",
     "text": [
      "C:\\Users\\hlw69\\Anaconda3\\lib\\site-packages\\scipy\\signal\\_spectral_py.py:1999: UserWarning: nperseg = 256 is greater than input length  = 128, using nperseg = 128\n",
      "  warnings.warn('nperseg = {0:d} is greater than input length '\n",
      " 66%|████████████████████████████████████████████████████▋                           | 145/220 [26:14<13:30, 10.81s/it]"
     ]
    },
    {
     "name": "stdout",
     "output_type": "stream",
     "text": [
      "(124, 46, 27)\n",
      "(124, 45, 27)\n",
      "Exemplars  (124, 3645)\n",
      "124 47 128\n"
     ]
    },
    {
     "name": "stderr",
     "output_type": "stream",
     "text": [
      "C:\\Users\\hlw69\\Anaconda3\\lib\\site-packages\\scipy\\signal\\_spectral_py.py:1999: UserWarning: nperseg = 256 is greater than input length  = 128, using nperseg = 128\n",
      "  warnings.warn('nperseg = {0:d} is greater than input length '\n",
      " 66%|█████████████████████████████████████████████████████                           | 146/220 [26:25<13:22, 10.84s/it]"
     ]
    },
    {
     "name": "stdout",
     "output_type": "stream",
     "text": [
      "(124, 46, 27)\n",
      "(124, 45, 27)\n",
      "Exemplars  (124, 3645)\n",
      "124 47 128\n"
     ]
    },
    {
     "name": "stderr",
     "output_type": "stream",
     "text": [
      "C:\\Users\\hlw69\\Anaconda3\\lib\\site-packages\\scipy\\signal\\_spectral_py.py:1999: UserWarning: nperseg = 256 is greater than input length  = 128, using nperseg = 128\n",
      "  warnings.warn('nperseg = {0:d} is greater than input length '\n",
      " 67%|█████████████████████████████████████████████████████▍                          | 147/220 [26:36<13:11, 10.84s/it]"
     ]
    },
    {
     "name": "stdout",
     "output_type": "stream",
     "text": [
      "(124, 46, 27)\n",
      "(124, 45, 27)\n",
      "Exemplars  (124, 3645)\n",
      "124 47 128\n"
     ]
    },
    {
     "name": "stderr",
     "output_type": "stream",
     "text": [
      "C:\\Users\\hlw69\\Anaconda3\\lib\\site-packages\\scipy\\signal\\_spectral_py.py:1999: UserWarning: nperseg = 256 is greater than input length  = 128, using nperseg = 128\n",
      "  warnings.warn('nperseg = {0:d} is greater than input length '\n",
      " 67%|█████████████████████████████████████████████████████▊                          | 148/220 [26:47<13:02, 10.86s/it]"
     ]
    },
    {
     "name": "stdout",
     "output_type": "stream",
     "text": [
      "(124, 46, 27)\n",
      "(124, 45, 27)\n",
      "Exemplars  (124, 3645)\n",
      "124 47 128\n"
     ]
    },
    {
     "name": "stderr",
     "output_type": "stream",
     "text": [
      "C:\\Users\\hlw69\\Anaconda3\\lib\\site-packages\\scipy\\signal\\_spectral_py.py:1999: UserWarning: nperseg = 256 is greater than input length  = 128, using nperseg = 128\n",
      "  warnings.warn('nperseg = {0:d} is greater than input length '\n",
      " 68%|██████████████████████████████████████████████████████▏                         | 149/220 [26:58<12:49, 10.84s/it]"
     ]
    },
    {
     "name": "stdout",
     "output_type": "stream",
     "text": [
      "(124, 46, 27)\n",
      "(124, 45, 27)\n",
      "Exemplars  (124, 3645)\n",
      "124 47 128\n"
     ]
    },
    {
     "name": "stderr",
     "output_type": "stream",
     "text": [
      "C:\\Users\\hlw69\\Anaconda3\\lib\\site-packages\\scipy\\signal\\_spectral_py.py:1999: UserWarning: nperseg = 256 is greater than input length  = 128, using nperseg = 128\n",
      "  warnings.warn('nperseg = {0:d} is greater than input length '\n",
      " 68%|██████████████████████████████████████████████████████▌                         | 150/220 [27:08<12:38, 10.83s/it]"
     ]
    },
    {
     "name": "stdout",
     "output_type": "stream",
     "text": [
      "(124, 46, 27)\n",
      "(124, 45, 27)\n",
      "Exemplars  (124, 3645)\n",
      "124 47 128\n"
     ]
    },
    {
     "name": "stderr",
     "output_type": "stream",
     "text": [
      "C:\\Users\\hlw69\\Anaconda3\\lib\\site-packages\\scipy\\signal\\_spectral_py.py:1999: UserWarning: nperseg = 256 is greater than input length  = 128, using nperseg = 128\n",
      "  warnings.warn('nperseg = {0:d} is greater than input length '\n",
      " 69%|██████████████████████████████████████████████████████▉                         | 151/220 [27:19<12:31, 10.89s/it]"
     ]
    },
    {
     "name": "stdout",
     "output_type": "stream",
     "text": [
      "(124, 46, 27)\n",
      "(124, 45, 27)\n",
      "Exemplars  (124, 3645)\n",
      "124 47 128\n"
     ]
    },
    {
     "name": "stderr",
     "output_type": "stream",
     "text": [
      "C:\\Users\\hlw69\\Anaconda3\\lib\\site-packages\\scipy\\signal\\_spectral_py.py:1999: UserWarning: nperseg = 256 is greater than input length  = 128, using nperseg = 128\n",
      "  warnings.warn('nperseg = {0:d} is greater than input length '\n",
      " 69%|███████████████████████████████████████████████████████▎                        | 152/220 [27:30<12:21, 10.91s/it]"
     ]
    },
    {
     "name": "stdout",
     "output_type": "stream",
     "text": [
      "(124, 46, 27)\n",
      "(124, 45, 27)\n",
      "Exemplars  (124, 3645)\n",
      "124 47 128\n"
     ]
    },
    {
     "name": "stderr",
     "output_type": "stream",
     "text": [
      "C:\\Users\\hlw69\\Anaconda3\\lib\\site-packages\\scipy\\signal\\_spectral_py.py:1999: UserWarning: nperseg = 256 is greater than input length  = 128, using nperseg = 128\n",
      "  warnings.warn('nperseg = {0:d} is greater than input length '\n",
      " 70%|███████████████████████████████████████████████████████▋                        | 153/220 [27:41<12:10, 10.90s/it]"
     ]
    },
    {
     "name": "stdout",
     "output_type": "stream",
     "text": [
      "(124, 46, 27)\n",
      "(124, 45, 27)\n",
      "Exemplars  (124, 3645)\n",
      "124 47 128\n"
     ]
    },
    {
     "name": "stderr",
     "output_type": "stream",
     "text": [
      "C:\\Users\\hlw69\\Anaconda3\\lib\\site-packages\\scipy\\signal\\_spectral_py.py:1999: UserWarning: nperseg = 256 is greater than input length  = 128, using nperseg = 128\n",
      "  warnings.warn('nperseg = {0:d} is greater than input length '\n",
      " 70%|████████████████████████████████████████████████████████                        | 154/220 [27:52<12:00, 10.92s/it]"
     ]
    },
    {
     "name": "stdout",
     "output_type": "stream",
     "text": [
      "(124, 46, 27)\n",
      "(124, 45, 27)\n",
      "Exemplars  (124, 3645)\n",
      "124 47 128\n"
     ]
    },
    {
     "name": "stderr",
     "output_type": "stream",
     "text": [
      "C:\\Users\\hlw69\\Anaconda3\\lib\\site-packages\\scipy\\signal\\_spectral_py.py:1999: UserWarning: nperseg = 256 is greater than input length  = 128, using nperseg = 128\n",
      "  warnings.warn('nperseg = {0:d} is greater than input length '\n",
      " 70%|████████████████████████████████████████████████████████▎                       | 155/220 [28:03<11:48, 10.89s/it]"
     ]
    },
    {
     "name": "stdout",
     "output_type": "stream",
     "text": [
      "(124, 46, 27)\n",
      "(124, 45, 27)\n",
      "Exemplars  (124, 3645)\n",
      "124 47 128\n"
     ]
    },
    {
     "name": "stderr",
     "output_type": "stream",
     "text": [
      "C:\\Users\\hlw69\\Anaconda3\\lib\\site-packages\\scipy\\signal\\_spectral_py.py:1999: UserWarning: nperseg = 256 is greater than input length  = 128, using nperseg = 128\n",
      "  warnings.warn('nperseg = {0:d} is greater than input length '\n",
      " 71%|████████████████████████████████████████████████████████▋                       | 156/220 [28:14<11:39, 10.93s/it]"
     ]
    },
    {
     "name": "stdout",
     "output_type": "stream",
     "text": [
      "(124, 46, 27)\n",
      "(124, 45, 27)\n",
      "Exemplars  (124, 3645)\n",
      "124 47 128\n"
     ]
    },
    {
     "name": "stderr",
     "output_type": "stream",
     "text": [
      "C:\\Users\\hlw69\\Anaconda3\\lib\\site-packages\\scipy\\signal\\_spectral_py.py:1999: UserWarning: nperseg = 256 is greater than input length  = 128, using nperseg = 128\n",
      "  warnings.warn('nperseg = {0:d} is greater than input length '\n",
      " 71%|█████████████████████████████████████████████████████████                       | 157/220 [28:25<11:26, 10.90s/it]"
     ]
    },
    {
     "name": "stdout",
     "output_type": "stream",
     "text": [
      "(124, 46, 27)\n",
      "(124, 45, 27)\n",
      "Exemplars  (124, 3645)\n",
      "124 47 128\n"
     ]
    },
    {
     "name": "stderr",
     "output_type": "stream",
     "text": [
      "C:\\Users\\hlw69\\Anaconda3\\lib\\site-packages\\scipy\\signal\\_spectral_py.py:1999: UserWarning: nperseg = 256 is greater than input length  = 128, using nperseg = 128\n",
      "  warnings.warn('nperseg = {0:d} is greater than input length '\n",
      " 72%|█████████████████████████████████████████████████████████▍                      | 158/220 [28:36<11:13, 10.87s/it]"
     ]
    },
    {
     "name": "stdout",
     "output_type": "stream",
     "text": [
      "(124, 46, 27)\n",
      "(124, 45, 27)\n",
      "Exemplars  (124, 3645)\n",
      "124 47 128\n"
     ]
    },
    {
     "name": "stderr",
     "output_type": "stream",
     "text": [
      "C:\\Users\\hlw69\\Anaconda3\\lib\\site-packages\\scipy\\signal\\_spectral_py.py:1999: UserWarning: nperseg = 256 is greater than input length  = 128, using nperseg = 128\n",
      "  warnings.warn('nperseg = {0:d} is greater than input length '\n",
      " 72%|█████████████████████████████████████████████████████████▊                      | 159/220 [28:47<11:04, 10.89s/it]"
     ]
    },
    {
     "name": "stdout",
     "output_type": "stream",
     "text": [
      "(124, 46, 27)\n",
      "(124, 45, 27)\n",
      "Exemplars  (124, 3645)\n",
      "124 47 128\n"
     ]
    },
    {
     "name": "stderr",
     "output_type": "stream",
     "text": [
      "C:\\Users\\hlw69\\Anaconda3\\lib\\site-packages\\scipy\\signal\\_spectral_py.py:1999: UserWarning: nperseg = 256 is greater than input length  = 128, using nperseg = 128\n",
      "  warnings.warn('nperseg = {0:d} is greater than input length '\n",
      " 73%|██████████████████████████████████████████████████████████▏                     | 160/220 [28:58<10:54, 10.91s/it]"
     ]
    },
    {
     "name": "stdout",
     "output_type": "stream",
     "text": [
      "(124, 46, 27)\n",
      "(124, 45, 27)\n",
      "Exemplars  (124, 3645)\n",
      "124 47 128\n"
     ]
    },
    {
     "name": "stderr",
     "output_type": "stream",
     "text": [
      "C:\\Users\\hlw69\\Anaconda3\\lib\\site-packages\\scipy\\signal\\_spectral_py.py:1999: UserWarning: nperseg = 256 is greater than input length  = 128, using nperseg = 128\n",
      "  warnings.warn('nperseg = {0:d} is greater than input length '\n",
      " 73%|██████████████████████████████████████████████████████████▌                     | 161/220 [29:09<10:51, 11.04s/it]"
     ]
    },
    {
     "name": "stdout",
     "output_type": "stream",
     "text": [
      "(124, 46, 27)\n",
      "(124, 45, 27)\n",
      "Exemplars  (124, 3645)\n",
      "124 47 128\n"
     ]
    },
    {
     "name": "stderr",
     "output_type": "stream",
     "text": [
      "C:\\Users\\hlw69\\Anaconda3\\lib\\site-packages\\scipy\\signal\\_spectral_py.py:1999: UserWarning: nperseg = 256 is greater than input length  = 128, using nperseg = 128\n",
      "  warnings.warn('nperseg = {0:d} is greater than input length '\n",
      " 74%|██████████████████████████████████████████████████████████▉                     | 162/220 [29:20<10:43, 11.10s/it]"
     ]
    },
    {
     "name": "stdout",
     "output_type": "stream",
     "text": [
      "(124, 46, 27)\n",
      "(124, 45, 27)\n",
      "Exemplars  (124, 3645)\n",
      "124 47 128\n"
     ]
    },
    {
     "name": "stderr",
     "output_type": "stream",
     "text": [
      "C:\\Users\\hlw69\\Anaconda3\\lib\\site-packages\\scipy\\signal\\_spectral_py.py:1999: UserWarning: nperseg = 256 is greater than input length  = 128, using nperseg = 128\n",
      "  warnings.warn('nperseg = {0:d} is greater than input length '\n",
      " 74%|███████████████████████████████████████████████████████████▎                    | 163/220 [29:31<10:32, 11.10s/it]"
     ]
    },
    {
     "name": "stdout",
     "output_type": "stream",
     "text": [
      "(124, 46, 27)\n",
      "(124, 45, 27)\n",
      "Exemplars  (124, 3645)\n",
      "124 47 128\n"
     ]
    },
    {
     "name": "stderr",
     "output_type": "stream",
     "text": [
      "C:\\Users\\hlw69\\Anaconda3\\lib\\site-packages\\scipy\\signal\\_spectral_py.py:1999: UserWarning: nperseg = 256 is greater than input length  = 128, using nperseg = 128\n",
      "  warnings.warn('nperseg = {0:d} is greater than input length '\n",
      " 75%|███████████████████████████████████████████████████████████▋                    | 164/220 [29:42<10:17, 11.04s/it]"
     ]
    },
    {
     "name": "stdout",
     "output_type": "stream",
     "text": [
      "(124, 46, 27)\n",
      "(124, 45, 27)\n",
      "Exemplars  (124, 3645)\n",
      "124 47 128\n"
     ]
    },
    {
     "name": "stderr",
     "output_type": "stream",
     "text": [
      "C:\\Users\\hlw69\\Anaconda3\\lib\\site-packages\\scipy\\signal\\_spectral_py.py:1999: UserWarning: nperseg = 256 is greater than input length  = 128, using nperseg = 128\n",
      "  warnings.warn('nperseg = {0:d} is greater than input length '\n",
      " 75%|████████████████████████████████████████████████████████████                    | 165/220 [29:53<10:04, 10.99s/it]"
     ]
    },
    {
     "name": "stdout",
     "output_type": "stream",
     "text": [
      "(124, 46, 27)\n",
      "(124, 45, 27)\n",
      "Exemplars  (124, 3645)\n",
      "124 47 128\n"
     ]
    },
    {
     "name": "stderr",
     "output_type": "stream",
     "text": [
      "C:\\Users\\hlw69\\Anaconda3\\lib\\site-packages\\scipy\\signal\\_spectral_py.py:1999: UserWarning: nperseg = 256 is greater than input length  = 128, using nperseg = 128\n",
      "  warnings.warn('nperseg = {0:d} is greater than input length '\n",
      " 75%|████████████████████████████████████████████████████████████▎                   | 166/220 [30:04<09:52, 10.97s/it]"
     ]
    },
    {
     "name": "stdout",
     "output_type": "stream",
     "text": [
      "(124, 46, 27)\n",
      "(124, 45, 27)\n",
      "Exemplars  (124, 3645)\n",
      "124 47 128\n"
     ]
    },
    {
     "name": "stderr",
     "output_type": "stream",
     "text": [
      "C:\\Users\\hlw69\\Anaconda3\\lib\\site-packages\\scipy\\signal\\_spectral_py.py:1999: UserWarning: nperseg = 256 is greater than input length  = 128, using nperseg = 128\n",
      "  warnings.warn('nperseg = {0:d} is greater than input length '\n",
      " 76%|████████████████████████████████████████████████████████████▋                   | 167/220 [30:15<09:47, 11.09s/it]"
     ]
    },
    {
     "name": "stdout",
     "output_type": "stream",
     "text": [
      "(124, 46, 27)\n",
      "(124, 45, 27)\n",
      "Exemplars  (124, 3645)\n",
      "124 47 128\n"
     ]
    },
    {
     "name": "stderr",
     "output_type": "stream",
     "text": [
      "C:\\Users\\hlw69\\Anaconda3\\lib\\site-packages\\scipy\\signal\\_spectral_py.py:1999: UserWarning: nperseg = 256 is greater than input length  = 128, using nperseg = 128\n",
      "  warnings.warn('nperseg = {0:d} is greater than input length '\n",
      " 76%|█████████████████████████████████████████████████████████████                   | 168/220 [30:26<09:35, 11.06s/it]"
     ]
    },
    {
     "name": "stdout",
     "output_type": "stream",
     "text": [
      "(124, 46, 27)\n",
      "(124, 45, 27)\n",
      "Exemplars  (124, 3645)\n",
      "124 47 128\n"
     ]
    },
    {
     "name": "stderr",
     "output_type": "stream",
     "text": [
      "C:\\Users\\hlw69\\Anaconda3\\lib\\site-packages\\scipy\\signal\\_spectral_py.py:1999: UserWarning: nperseg = 256 is greater than input length  = 128, using nperseg = 128\n",
      "  warnings.warn('nperseg = {0:d} is greater than input length '\n",
      " 77%|█████████████████████████████████████████████████████████████▍                  | 169/220 [30:37<09:23, 11.05s/it]"
     ]
    },
    {
     "name": "stdout",
     "output_type": "stream",
     "text": [
      "(124, 46, 27)\n",
      "(124, 45, 27)\n",
      "Exemplars  (124, 3645)\n",
      "124 47 128\n"
     ]
    },
    {
     "name": "stderr",
     "output_type": "stream",
     "text": [
      "C:\\Users\\hlw69\\Anaconda3\\lib\\site-packages\\scipy\\signal\\_spectral_py.py:1999: UserWarning: nperseg = 256 is greater than input length  = 128, using nperseg = 128\n",
      "  warnings.warn('nperseg = {0:d} is greater than input length '\n",
      " 77%|█████████████████████████████████████████████████████████████▊                  | 170/220 [30:48<09:09, 10.99s/it]"
     ]
    },
    {
     "name": "stdout",
     "output_type": "stream",
     "text": [
      "(124, 46, 27)\n",
      "(124, 45, 27)\n",
      "Exemplars  (124, 3645)\n",
      "124 47 128\n"
     ]
    },
    {
     "name": "stderr",
     "output_type": "stream",
     "text": [
      "C:\\Users\\hlw69\\Anaconda3\\lib\\site-packages\\scipy\\signal\\_spectral_py.py:1999: UserWarning: nperseg = 256 is greater than input length  = 128, using nperseg = 128\n",
      "  warnings.warn('nperseg = {0:d} is greater than input length '\n",
      " 78%|██████████████████████████████████████████████████████████████▏                 | 171/220 [30:59<08:56, 10.95s/it]"
     ]
    },
    {
     "name": "stdout",
     "output_type": "stream",
     "text": [
      "(124, 46, 27)\n",
      "(124, 45, 27)\n",
      "Exemplars  (124, 3645)\n",
      "124 47 128\n"
     ]
    },
    {
     "name": "stderr",
     "output_type": "stream",
     "text": [
      "C:\\Users\\hlw69\\Anaconda3\\lib\\site-packages\\scipy\\signal\\_spectral_py.py:1999: UserWarning: nperseg = 256 is greater than input length  = 128, using nperseg = 128\n",
      "  warnings.warn('nperseg = {0:d} is greater than input length '\n",
      " 78%|██████████████████████████████████████████████████████████████▌                 | 172/220 [31:10<08:45, 10.95s/it]"
     ]
    },
    {
     "name": "stdout",
     "output_type": "stream",
     "text": [
      "(124, 46, 27)\n",
      "(124, 45, 27)\n",
      "Exemplars  (124, 3645)\n",
      "124 47 128\n"
     ]
    },
    {
     "name": "stderr",
     "output_type": "stream",
     "text": [
      "C:\\Users\\hlw69\\Anaconda3\\lib\\site-packages\\scipy\\signal\\_spectral_py.py:1999: UserWarning: nperseg = 256 is greater than input length  = 128, using nperseg = 128\n",
      "  warnings.warn('nperseg = {0:d} is greater than input length '\n",
      " 79%|██████████████████████████████████████████████████████████████▉                 | 173/220 [31:21<08:32, 10.90s/it]"
     ]
    },
    {
     "name": "stdout",
     "output_type": "stream",
     "text": [
      "(124, 46, 27)\n",
      "(124, 45, 27)\n",
      "Exemplars  (124, 3645)\n",
      "124 47 128\n"
     ]
    },
    {
     "name": "stderr",
     "output_type": "stream",
     "text": [
      "C:\\Users\\hlw69\\Anaconda3\\lib\\site-packages\\scipy\\signal\\_spectral_py.py:1999: UserWarning: nperseg = 256 is greater than input length  = 128, using nperseg = 128\n",
      "  warnings.warn('nperseg = {0:d} is greater than input length '\n",
      " 79%|███████████████████████████████████████████████████████████████▎                | 174/220 [31:32<08:20, 10.89s/it]"
     ]
    },
    {
     "name": "stdout",
     "output_type": "stream",
     "text": [
      "(124, 46, 27)\n",
      "(124, 45, 27)\n",
      "Exemplars  (124, 3645)\n",
      "124 47 128\n"
     ]
    },
    {
     "name": "stderr",
     "output_type": "stream",
     "text": [
      "C:\\Users\\hlw69\\Anaconda3\\lib\\site-packages\\scipy\\signal\\_spectral_py.py:1999: UserWarning: nperseg = 256 is greater than input length  = 128, using nperseg = 128\n",
      "  warnings.warn('nperseg = {0:d} is greater than input length '\n",
      " 80%|███████████████████████████████████████████████████████████████▋                | 175/220 [31:43<08:12, 10.93s/it]"
     ]
    },
    {
     "name": "stdout",
     "output_type": "stream",
     "text": [
      "(124, 46, 27)\n",
      "(124, 45, 27)\n",
      "Exemplars  (124, 3645)\n",
      "124 47 128\n"
     ]
    },
    {
     "name": "stderr",
     "output_type": "stream",
     "text": [
      "C:\\Users\\hlw69\\Anaconda3\\lib\\site-packages\\scipy\\signal\\_spectral_py.py:1999: UserWarning: nperseg = 256 is greater than input length  = 128, using nperseg = 128\n",
      "  warnings.warn('nperseg = {0:d} is greater than input length '\n",
      " 80%|████████████████████████████████████████████████████████████████                | 176/220 [31:54<08:03, 10.98s/it]"
     ]
    },
    {
     "name": "stdout",
     "output_type": "stream",
     "text": [
      "(124, 46, 27)\n",
      "(124, 45, 27)\n",
      "Exemplars  (124, 3645)\n",
      "124 47 128\n"
     ]
    },
    {
     "name": "stderr",
     "output_type": "stream",
     "text": [
      "C:\\Users\\hlw69\\Anaconda3\\lib\\site-packages\\scipy\\signal\\_spectral_py.py:1999: UserWarning: nperseg = 256 is greater than input length  = 128, using nperseg = 128\n",
      "  warnings.warn('nperseg = {0:d} is greater than input length '\n",
      " 80%|████████████████████████████████████████████████████████████████▎               | 177/220 [32:04<07:46, 10.84s/it]"
     ]
    },
    {
     "name": "stdout",
     "output_type": "stream",
     "text": [
      "(124, 46, 27)\n",
      "(124, 45, 27)\n",
      "Exemplars  (124, 3645)\n",
      "124 47 128\n"
     ]
    },
    {
     "name": "stderr",
     "output_type": "stream",
     "text": [
      "C:\\Users\\hlw69\\Anaconda3\\lib\\site-packages\\scipy\\signal\\_spectral_py.py:1999: UserWarning: nperseg = 256 is greater than input length  = 128, using nperseg = 128\n",
      "  warnings.warn('nperseg = {0:d} is greater than input length '\n",
      " 81%|████████████████████████████████████████████████████████████████▋               | 178/220 [32:15<07:29, 10.71s/it]"
     ]
    },
    {
     "name": "stdout",
     "output_type": "stream",
     "text": [
      "(124, 46, 27)\n",
      "(124, 45, 27)\n",
      "Exemplars  (124, 3645)\n",
      "124 47 128\n"
     ]
    },
    {
     "name": "stderr",
     "output_type": "stream",
     "text": [
      "C:\\Users\\hlw69\\Anaconda3\\lib\\site-packages\\scipy\\signal\\_spectral_py.py:1999: UserWarning: nperseg = 256 is greater than input length  = 128, using nperseg = 128\n",
      "  warnings.warn('nperseg = {0:d} is greater than input length '\n",
      " 81%|█████████████████████████████████████████████████████████████████               | 179/220 [32:25<07:17, 10.67s/it]"
     ]
    },
    {
     "name": "stdout",
     "output_type": "stream",
     "text": [
      "(124, 46, 27)\n",
      "(124, 45, 27)\n",
      "Exemplars  (124, 3645)\n",
      "124 47 128\n"
     ]
    },
    {
     "name": "stderr",
     "output_type": "stream",
     "text": [
      "C:\\Users\\hlw69\\Anaconda3\\lib\\site-packages\\scipy\\signal\\_spectral_py.py:1999: UserWarning: nperseg = 256 is greater than input length  = 128, using nperseg = 128\n",
      "  warnings.warn('nperseg = {0:d} is greater than input length '\n",
      " 82%|█████████████████████████████████████████████████████████████████▍              | 180/220 [32:36<07:03, 10.58s/it]"
     ]
    },
    {
     "name": "stdout",
     "output_type": "stream",
     "text": [
      "(124, 46, 27)\n",
      "(124, 45, 27)\n",
      "Exemplars  (124, 3645)\n",
      "124 47 128\n"
     ]
    },
    {
     "name": "stderr",
     "output_type": "stream",
     "text": [
      "C:\\Users\\hlw69\\Anaconda3\\lib\\site-packages\\scipy\\signal\\_spectral_py.py:1999: UserWarning: nperseg = 256 is greater than input length  = 128, using nperseg = 128\n",
      "  warnings.warn('nperseg = {0:d} is greater than input length '\n",
      " 82%|█████████████████████████████████████████████████████████████████▊              | 181/220 [32:46<06:49, 10.50s/it]"
     ]
    },
    {
     "name": "stdout",
     "output_type": "stream",
     "text": [
      "(124, 46, 27)\n",
      "(124, 45, 27)\n",
      "Exemplars  (124, 3645)\n",
      "124 47 128\n"
     ]
    },
    {
     "name": "stderr",
     "output_type": "stream",
     "text": [
      "C:\\Users\\hlw69\\Anaconda3\\lib\\site-packages\\scipy\\signal\\_spectral_py.py:1999: UserWarning: nperseg = 256 is greater than input length  = 128, using nperseg = 128\n",
      "  warnings.warn('nperseg = {0:d} is greater than input length '\n",
      " 83%|██████████████████████████████████████████████████████████████████▏             | 182/220 [32:56<06:37, 10.46s/it]"
     ]
    },
    {
     "name": "stdout",
     "output_type": "stream",
     "text": [
      "(124, 46, 27)\n",
      "(124, 45, 27)\n",
      "Exemplars  (124, 3645)\n",
      "124 47 128\n"
     ]
    },
    {
     "name": "stderr",
     "output_type": "stream",
     "text": [
      "C:\\Users\\hlw69\\Anaconda3\\lib\\site-packages\\scipy\\signal\\_spectral_py.py:1999: UserWarning: nperseg = 256 is greater than input length  = 128, using nperseg = 128\n",
      "  warnings.warn('nperseg = {0:d} is greater than input length '\n",
      " 83%|██████████████████████████████████████████████████████████████████▌             | 183/220 [33:07<06:25, 10.42s/it]"
     ]
    },
    {
     "name": "stdout",
     "output_type": "stream",
     "text": [
      "(124, 46, 27)\n",
      "(124, 45, 27)\n",
      "Exemplars  (124, 3645)\n",
      "124 47 128\n"
     ]
    },
    {
     "name": "stderr",
     "output_type": "stream",
     "text": [
      "C:\\Users\\hlw69\\Anaconda3\\lib\\site-packages\\scipy\\signal\\_spectral_py.py:1999: UserWarning: nperseg = 256 is greater than input length  = 128, using nperseg = 128\n",
      "  warnings.warn('nperseg = {0:d} is greater than input length '\n",
      " 84%|██████████████████████████████████████████████████████████████████▉             | 184/220 [33:17<06:14, 10.40s/it]"
     ]
    },
    {
     "name": "stdout",
     "output_type": "stream",
     "text": [
      "(124, 46, 27)\n",
      "(124, 45, 27)\n",
      "Exemplars  (124, 3645)\n",
      "124 47 128\n"
     ]
    },
    {
     "name": "stderr",
     "output_type": "stream",
     "text": [
      "C:\\Users\\hlw69\\Anaconda3\\lib\\site-packages\\scipy\\signal\\_spectral_py.py:1999: UserWarning: nperseg = 256 is greater than input length  = 128, using nperseg = 128\n",
      "  warnings.warn('nperseg = {0:d} is greater than input length '\n",
      " 84%|███████████████████████████████████████████████████████████████████▎            | 185/220 [33:28<06:04, 10.42s/it]"
     ]
    },
    {
     "name": "stdout",
     "output_type": "stream",
     "text": [
      "(124, 46, 27)\n",
      "(124, 45, 27)\n",
      "Exemplars  (124, 3645)\n",
      "124 47 128\n"
     ]
    },
    {
     "name": "stderr",
     "output_type": "stream",
     "text": [
      "C:\\Users\\hlw69\\Anaconda3\\lib\\site-packages\\scipy\\signal\\_spectral_py.py:1999: UserWarning: nperseg = 256 is greater than input length  = 128, using nperseg = 128\n",
      "  warnings.warn('nperseg = {0:d} is greater than input length '\n",
      " 85%|███████████████████████████████████████████████████████████████████▋            | 186/220 [33:38<05:53, 10.41s/it]"
     ]
    },
    {
     "name": "stdout",
     "output_type": "stream",
     "text": [
      "(124, 46, 27)\n",
      "(124, 45, 27)\n",
      "Exemplars  (124, 3645)\n",
      "124 47 128\n"
     ]
    },
    {
     "name": "stderr",
     "output_type": "stream",
     "text": [
      "C:\\Users\\hlw69\\Anaconda3\\lib\\site-packages\\scipy\\signal\\_spectral_py.py:1999: UserWarning: nperseg = 256 is greater than input length  = 128, using nperseg = 128\n",
      "  warnings.warn('nperseg = {0:d} is greater than input length '\n",
      " 85%|████████████████████████████████████████████████████████████████████            | 187/220 [33:48<05:43, 10.41s/it]"
     ]
    },
    {
     "name": "stdout",
     "output_type": "stream",
     "text": [
      "(124, 46, 27)\n",
      "(124, 45, 27)\n",
      "Exemplars  (124, 3645)\n",
      "124 47 128\n"
     ]
    },
    {
     "name": "stderr",
     "output_type": "stream",
     "text": [
      "C:\\Users\\hlw69\\Anaconda3\\lib\\site-packages\\scipy\\signal\\_spectral_py.py:1999: UserWarning: nperseg = 256 is greater than input length  = 128, using nperseg = 128\n",
      "  warnings.warn('nperseg = {0:d} is greater than input length '\n",
      " 85%|████████████████████████████████████████████████████████████████████▎           | 188/220 [33:59<05:33, 10.42s/it]"
     ]
    },
    {
     "name": "stdout",
     "output_type": "stream",
     "text": [
      "(124, 46, 27)\n",
      "(124, 45, 27)\n",
      "Exemplars  (124, 3645)\n",
      "124 47 128\n"
     ]
    },
    {
     "name": "stderr",
     "output_type": "stream",
     "text": [
      "C:\\Users\\hlw69\\Anaconda3\\lib\\site-packages\\scipy\\signal\\_spectral_py.py:1999: UserWarning: nperseg = 256 is greater than input length  = 128, using nperseg = 128\n",
      "  warnings.warn('nperseg = {0:d} is greater than input length '\n",
      " 86%|████████████████████████████████████████████████████████████████████▋           | 189/220 [34:09<05:25, 10.49s/it]"
     ]
    },
    {
     "name": "stdout",
     "output_type": "stream",
     "text": [
      "(124, 46, 27)\n",
      "(124, 45, 27)\n",
      "Exemplars  (124, 3645)\n",
      "124 47 128\n"
     ]
    },
    {
     "name": "stderr",
     "output_type": "stream",
     "text": [
      "C:\\Users\\hlw69\\Anaconda3\\lib\\site-packages\\scipy\\signal\\_spectral_py.py:1999: UserWarning: nperseg = 256 is greater than input length  = 128, using nperseg = 128\n",
      "  warnings.warn('nperseg = {0:d} is greater than input length '\n",
      " 86%|█████████████████████████████████████████████████████████████████████           | 190/220 [34:20<05:13, 10.46s/it]"
     ]
    },
    {
     "name": "stdout",
     "output_type": "stream",
     "text": [
      "(124, 46, 27)\n",
      "(124, 45, 27)\n",
      "Exemplars  (124, 3645)\n",
      "124 47 128\n"
     ]
    },
    {
     "name": "stderr",
     "output_type": "stream",
     "text": [
      "C:\\Users\\hlw69\\Anaconda3\\lib\\site-packages\\scipy\\signal\\_spectral_py.py:1999: UserWarning: nperseg = 256 is greater than input length  = 128, using nperseg = 128\n",
      "  warnings.warn('nperseg = {0:d} is greater than input length '\n",
      " 87%|█████████████████████████████████████████████████████████████████████▍          | 191/220 [34:30<05:02, 10.45s/it]"
     ]
    },
    {
     "name": "stdout",
     "output_type": "stream",
     "text": [
      "(124, 46, 27)\n",
      "(124, 45, 27)\n",
      "Exemplars  (124, 3645)\n",
      "124 47 128\n"
     ]
    },
    {
     "name": "stderr",
     "output_type": "stream",
     "text": [
      "C:\\Users\\hlw69\\Anaconda3\\lib\\site-packages\\scipy\\signal\\_spectral_py.py:1999: UserWarning: nperseg = 256 is greater than input length  = 128, using nperseg = 128\n",
      "  warnings.warn('nperseg = {0:d} is greater than input length '\n",
      " 87%|█████████████████████████████████████████████████████████████████████▊          | 192/220 [34:41<04:52, 10.44s/it]"
     ]
    },
    {
     "name": "stdout",
     "output_type": "stream",
     "text": [
      "(124, 46, 27)\n",
      "(124, 45, 27)\n",
      "Exemplars  (124, 3645)\n",
      "124 47 128\n"
     ]
    },
    {
     "name": "stderr",
     "output_type": "stream",
     "text": [
      "C:\\Users\\hlw69\\Anaconda3\\lib\\site-packages\\scipy\\signal\\_spectral_py.py:1999: UserWarning: nperseg = 256 is greater than input length  = 128, using nperseg = 128\n",
      "  warnings.warn('nperseg = {0:d} is greater than input length '\n",
      " 88%|██████████████████████████████████████████████████████████████████████▏         | 193/220 [34:51<04:42, 10.48s/it]"
     ]
    },
    {
     "name": "stdout",
     "output_type": "stream",
     "text": [
      "(124, 46, 27)\n",
      "(124, 45, 27)\n",
      "Exemplars  (124, 3645)\n",
      "124 47 128\n"
     ]
    },
    {
     "name": "stderr",
     "output_type": "stream",
     "text": [
      "C:\\Users\\hlw69\\Anaconda3\\lib\\site-packages\\scipy\\signal\\_spectral_py.py:1999: UserWarning: nperseg = 256 is greater than input length  = 128, using nperseg = 128\n",
      "  warnings.warn('nperseg = {0:d} is greater than input length '\n",
      " 88%|██████████████████████████████████████████████████████████████████████▌         | 194/220 [35:02<04:31, 10.44s/it]"
     ]
    },
    {
     "name": "stdout",
     "output_type": "stream",
     "text": [
      "(124, 46, 27)\n",
      "(124, 45, 27)\n",
      "Exemplars  (124, 3645)\n",
      "124 47 128\n"
     ]
    },
    {
     "name": "stderr",
     "output_type": "stream",
     "text": [
      "C:\\Users\\hlw69\\Anaconda3\\lib\\site-packages\\scipy\\signal\\_spectral_py.py:1999: UserWarning: nperseg = 256 is greater than input length  = 128, using nperseg = 128\n",
      "  warnings.warn('nperseg = {0:d} is greater than input length '\n",
      " 89%|██████████████████████████████████████████████████████████████████████▉         | 195/220 [35:12<04:21, 10.45s/it]"
     ]
    },
    {
     "name": "stdout",
     "output_type": "stream",
     "text": [
      "(124, 46, 27)\n",
      "(124, 45, 27)\n",
      "Exemplars  (124, 3645)\n",
      "124 47 128\n"
     ]
    },
    {
     "name": "stderr",
     "output_type": "stream",
     "text": [
      "C:\\Users\\hlw69\\Anaconda3\\lib\\site-packages\\scipy\\signal\\_spectral_py.py:1999: UserWarning: nperseg = 256 is greater than input length  = 128, using nperseg = 128\n",
      "  warnings.warn('nperseg = {0:d} is greater than input length '\n",
      " 89%|███████████████████████████████████████████████████████████████████████▎        | 196/220 [35:22<04:09, 10.38s/it]"
     ]
    },
    {
     "name": "stdout",
     "output_type": "stream",
     "text": [
      "(124, 46, 27)\n",
      "(124, 45, 27)\n",
      "Exemplars  (124, 3645)\n",
      "124 47 128\n"
     ]
    },
    {
     "name": "stderr",
     "output_type": "stream",
     "text": [
      "C:\\Users\\hlw69\\Anaconda3\\lib\\site-packages\\scipy\\signal\\_spectral_py.py:1999: UserWarning: nperseg = 256 is greater than input length  = 128, using nperseg = 128\n",
      "  warnings.warn('nperseg = {0:d} is greater than input length '\n",
      " 90%|███████████████████████████████████████████████████████████████████████▋        | 197/220 [35:33<03:59, 10.40s/it]"
     ]
    },
    {
     "name": "stdout",
     "output_type": "stream",
     "text": [
      "(124, 46, 27)\n",
      "(124, 45, 27)\n",
      "Exemplars  (124, 3645)\n",
      "124 47 128\n"
     ]
    },
    {
     "name": "stderr",
     "output_type": "stream",
     "text": [
      "C:\\Users\\hlw69\\Anaconda3\\lib\\site-packages\\scipy\\signal\\_spectral_py.py:1999: UserWarning: nperseg = 256 is greater than input length  = 128, using nperseg = 128\n",
      "  warnings.warn('nperseg = {0:d} is greater than input length '\n",
      " 90%|████████████████████████████████████████████████████████████████████████        | 198/220 [35:43<03:48, 10.40s/it]"
     ]
    },
    {
     "name": "stdout",
     "output_type": "stream",
     "text": [
      "(124, 46, 27)\n",
      "(124, 45, 27)\n",
      "Exemplars  (124, 3645)\n",
      "124 47 128\n"
     ]
    },
    {
     "name": "stderr",
     "output_type": "stream",
     "text": [
      "C:\\Users\\hlw69\\Anaconda3\\lib\\site-packages\\scipy\\signal\\_spectral_py.py:1999: UserWarning: nperseg = 256 is greater than input length  = 128, using nperseg = 128\n",
      "  warnings.warn('nperseg = {0:d} is greater than input length '\n",
      " 90%|████████████████████████████████████████████████████████████████████████▎       | 199/220 [35:53<03:38, 10.39s/it]"
     ]
    },
    {
     "name": "stdout",
     "output_type": "stream",
     "text": [
      "(124, 46, 27)\n",
      "(124, 45, 27)\n",
      "Exemplars  (124, 3645)\n",
      "124 47 128\n"
     ]
    },
    {
     "name": "stderr",
     "output_type": "stream",
     "text": [
      "C:\\Users\\hlw69\\Anaconda3\\lib\\site-packages\\scipy\\signal\\_spectral_py.py:1999: UserWarning: nperseg = 256 is greater than input length  = 128, using nperseg = 128\n",
      "  warnings.warn('nperseg = {0:d} is greater than input length '\n",
      " 91%|████████████████████████████████████████████████████████████████████████▋       | 200/220 [36:04<03:27, 10.39s/it]"
     ]
    },
    {
     "name": "stdout",
     "output_type": "stream",
     "text": [
      "(124, 46, 27)\n",
      "(124, 45, 27)\n",
      "Exemplars  (124, 3645)\n",
      "124 47 128\n"
     ]
    },
    {
     "name": "stderr",
     "output_type": "stream",
     "text": [
      "C:\\Users\\hlw69\\Anaconda3\\lib\\site-packages\\scipy\\signal\\_spectral_py.py:1999: UserWarning: nperseg = 256 is greater than input length  = 128, using nperseg = 128\n",
      "  warnings.warn('nperseg = {0:d} is greater than input length '\n",
      " 91%|█████████████████████████████████████████████████████████████████████████       | 201/220 [36:14<03:16, 10.37s/it]"
     ]
    },
    {
     "name": "stdout",
     "output_type": "stream",
     "text": [
      "(124, 46, 27)\n",
      "(124, 45, 27)\n",
      "Exemplars  (124, 3645)\n",
      "124 47 128\n"
     ]
    },
    {
     "name": "stderr",
     "output_type": "stream",
     "text": [
      "C:\\Users\\hlw69\\Anaconda3\\lib\\site-packages\\scipy\\signal\\_spectral_py.py:1999: UserWarning: nperseg = 256 is greater than input length  = 128, using nperseg = 128\n",
      "  warnings.warn('nperseg = {0:d} is greater than input length '\n",
      " 92%|█████████████████████████████████████████████████████████████████████████▍      | 202/220 [36:25<03:06, 10.38s/it]"
     ]
    },
    {
     "name": "stdout",
     "output_type": "stream",
     "text": [
      "(124, 46, 27)\n",
      "(124, 45, 27)\n",
      "Exemplars  (124, 3645)\n",
      "124 47 128\n"
     ]
    },
    {
     "name": "stderr",
     "output_type": "stream",
     "text": [
      "C:\\Users\\hlw69\\Anaconda3\\lib\\site-packages\\scipy\\signal\\_spectral_py.py:1999: UserWarning: nperseg = 256 is greater than input length  = 128, using nperseg = 128\n",
      "  warnings.warn('nperseg = {0:d} is greater than input length '\n",
      " 92%|█████████████████████████████████████████████████████████████████████████▊      | 203/220 [36:35<02:57, 10.42s/it]"
     ]
    },
    {
     "name": "stdout",
     "output_type": "stream",
     "text": [
      "(124, 46, 27)\n",
      "(124, 45, 27)\n",
      "Exemplars  (124, 3645)\n",
      "124 47 128\n"
     ]
    },
    {
     "name": "stderr",
     "output_type": "stream",
     "text": [
      "C:\\Users\\hlw69\\Anaconda3\\lib\\site-packages\\scipy\\signal\\_spectral_py.py:1999: UserWarning: nperseg = 256 is greater than input length  = 128, using nperseg = 128\n",
      "  warnings.warn('nperseg = {0:d} is greater than input length '\n",
      " 93%|██████████████████████████████████████████████████████████████████████████▏     | 204/220 [36:45<02:46, 10.41s/it]"
     ]
    },
    {
     "name": "stdout",
     "output_type": "stream",
     "text": [
      "(124, 46, 27)\n",
      "(124, 45, 27)\n",
      "Exemplars  (124, 3645)\n",
      "124 47 128\n"
     ]
    },
    {
     "name": "stderr",
     "output_type": "stream",
     "text": [
      "C:\\Users\\hlw69\\Anaconda3\\lib\\site-packages\\scipy\\signal\\_spectral_py.py:1999: UserWarning: nperseg = 256 is greater than input length  = 128, using nperseg = 128\n",
      "  warnings.warn('nperseg = {0:d} is greater than input length '\n",
      " 93%|██████████████████████████████████████████████████████████████████████████▌     | 205/220 [36:56<02:36, 10.40s/it]"
     ]
    },
    {
     "name": "stdout",
     "output_type": "stream",
     "text": [
      "(124, 46, 27)\n",
      "(124, 45, 27)\n",
      "Exemplars  (124, 3645)\n",
      "124 47 128\n"
     ]
    },
    {
     "name": "stderr",
     "output_type": "stream",
     "text": [
      "C:\\Users\\hlw69\\Anaconda3\\lib\\site-packages\\scipy\\signal\\_spectral_py.py:1999: UserWarning: nperseg = 256 is greater than input length  = 128, using nperseg = 128\n",
      "  warnings.warn('nperseg = {0:d} is greater than input length '\n",
      " 94%|██████████████████████████████████████████████████████████████████████████▉     | 206/220 [37:06<02:25, 10.39s/it]"
     ]
    },
    {
     "name": "stdout",
     "output_type": "stream",
     "text": [
      "(124, 46, 27)\n",
      "(124, 45, 27)\n",
      "Exemplars  (124, 3645)\n",
      "124 47 128\n"
     ]
    },
    {
     "name": "stderr",
     "output_type": "stream",
     "text": [
      "C:\\Users\\hlw69\\Anaconda3\\lib\\site-packages\\scipy\\signal\\_spectral_py.py:1999: UserWarning: nperseg = 256 is greater than input length  = 128, using nperseg = 128\n",
      "  warnings.warn('nperseg = {0:d} is greater than input length '\n",
      " 94%|███████████████████████████████████████████████████████████████████████████▎    | 207/220 [37:17<02:15, 10.43s/it]"
     ]
    },
    {
     "name": "stdout",
     "output_type": "stream",
     "text": [
      "(124, 46, 27)\n",
      "(124, 45, 27)\n",
      "Exemplars  (124, 3645)\n",
      "124 47 128\n"
     ]
    },
    {
     "name": "stderr",
     "output_type": "stream",
     "text": [
      "C:\\Users\\hlw69\\Anaconda3\\lib\\site-packages\\scipy\\signal\\_spectral_py.py:1999: UserWarning: nperseg = 256 is greater than input length  = 128, using nperseg = 128\n",
      "  warnings.warn('nperseg = {0:d} is greater than input length '\n",
      " 95%|███████████████████████████████████████████████████████████████████████████▋    | 208/220 [37:27<02:04, 10.41s/it]"
     ]
    },
    {
     "name": "stdout",
     "output_type": "stream",
     "text": [
      "(124, 46, 27)\n",
      "(124, 45, 27)\n",
      "Exemplars  (124, 3645)\n",
      "124 47 128\n"
     ]
    },
    {
     "name": "stderr",
     "output_type": "stream",
     "text": [
      "C:\\Users\\hlw69\\Anaconda3\\lib\\site-packages\\scipy\\signal\\_spectral_py.py:1999: UserWarning: nperseg = 256 is greater than input length  = 128, using nperseg = 128\n",
      "  warnings.warn('nperseg = {0:d} is greater than input length '\n",
      " 95%|████████████████████████████████████████████████████████████████████████████    | 209/220 [37:38<01:54, 10.42s/it]"
     ]
    },
    {
     "name": "stdout",
     "output_type": "stream",
     "text": [
      "(124, 46, 27)\n",
      "(124, 45, 27)\n",
      "Exemplars  (124, 3645)\n",
      "124 47 128\n"
     ]
    },
    {
     "name": "stderr",
     "output_type": "stream",
     "text": [
      "C:\\Users\\hlw69\\Anaconda3\\lib\\site-packages\\scipy\\signal\\_spectral_py.py:1999: UserWarning: nperseg = 256 is greater than input length  = 128, using nperseg = 128\n",
      "  warnings.warn('nperseg = {0:d} is greater than input length '\n",
      " 95%|████████████████████████████████████████████████████████████████████████████▎   | 210/220 [37:48<01:43, 10.40s/it]"
     ]
    },
    {
     "name": "stdout",
     "output_type": "stream",
     "text": [
      "(124, 46, 27)\n",
      "(124, 45, 27)\n",
      "Exemplars  (124, 3645)\n",
      "124 47 128\n"
     ]
    },
    {
     "name": "stderr",
     "output_type": "stream",
     "text": [
      "C:\\Users\\hlw69\\Anaconda3\\lib\\site-packages\\scipy\\signal\\_spectral_py.py:1999: UserWarning: nperseg = 256 is greater than input length  = 128, using nperseg = 128\n",
      "  warnings.warn('nperseg = {0:d} is greater than input length '\n",
      " 96%|████████████████████████████████████████████████████████████████████████████▋   | 211/220 [37:58<01:33, 10.41s/it]"
     ]
    },
    {
     "name": "stdout",
     "output_type": "stream",
     "text": [
      "(124, 46, 27)\n",
      "(124, 45, 27)\n",
      "Exemplars  (124, 3645)\n",
      "124 47 128\n"
     ]
    },
    {
     "name": "stderr",
     "output_type": "stream",
     "text": [
      "C:\\Users\\hlw69\\Anaconda3\\lib\\site-packages\\scipy\\signal\\_spectral_py.py:1999: UserWarning: nperseg = 256 is greater than input length  = 128, using nperseg = 128\n",
      "  warnings.warn('nperseg = {0:d} is greater than input length '\n",
      " 96%|█████████████████████████████████████████████████████████████████████████████   | 212/220 [38:09<01:23, 10.40s/it]"
     ]
    },
    {
     "name": "stdout",
     "output_type": "stream",
     "text": [
      "(124, 46, 27)\n",
      "(124, 45, 27)\n",
      "Exemplars  (124, 3645)\n",
      "124 47 128\n"
     ]
    },
    {
     "name": "stderr",
     "output_type": "stream",
     "text": [
      "C:\\Users\\hlw69\\Anaconda3\\lib\\site-packages\\scipy\\signal\\_spectral_py.py:1999: UserWarning: nperseg = 256 is greater than input length  = 128, using nperseg = 128\n",
      "  warnings.warn('nperseg = {0:d} is greater than input length '\n",
      " 97%|█████████████████████████████████████████████████████████████████████████████▍  | 213/220 [38:19<01:12, 10.39s/it]"
     ]
    },
    {
     "name": "stdout",
     "output_type": "stream",
     "text": [
      "(124, 46, 27)\n",
      "(124, 45, 27)\n",
      "Exemplars  (124, 3645)\n",
      "124 47 128\n"
     ]
    },
    {
     "name": "stderr",
     "output_type": "stream",
     "text": [
      "C:\\Users\\hlw69\\Anaconda3\\lib\\site-packages\\scipy\\signal\\_spectral_py.py:1999: UserWarning: nperseg = 256 is greater than input length  = 128, using nperseg = 128\n",
      "  warnings.warn('nperseg = {0:d} is greater than input length '\n",
      " 97%|█████████████████████████████████████████████████████████████████████████████▊  | 214/220 [38:29<01:02, 10.40s/it]"
     ]
    },
    {
     "name": "stdout",
     "output_type": "stream",
     "text": [
      "(124, 46, 27)\n",
      "(124, 45, 27)\n",
      "Exemplars  (124, 3645)\n",
      "124 47 128\n"
     ]
    },
    {
     "name": "stderr",
     "output_type": "stream",
     "text": [
      "C:\\Users\\hlw69\\Anaconda3\\lib\\site-packages\\scipy\\signal\\_spectral_py.py:1999: UserWarning: nperseg = 256 is greater than input length  = 128, using nperseg = 128\n",
      "  warnings.warn('nperseg = {0:d} is greater than input length '\n",
      " 98%|██████████████████████████████████████████████████████████████████████████████▏ | 215/220 [38:40<00:52, 10.40s/it]"
     ]
    },
    {
     "name": "stdout",
     "output_type": "stream",
     "text": [
      "(124, 46, 27)\n",
      "(124, 45, 27)\n",
      "Exemplars  (124, 3645)\n",
      "124 47 128\n"
     ]
    },
    {
     "name": "stderr",
     "output_type": "stream",
     "text": [
      "C:\\Users\\hlw69\\Anaconda3\\lib\\site-packages\\scipy\\signal\\_spectral_py.py:1999: UserWarning: nperseg = 256 is greater than input length  = 128, using nperseg = 128\n",
      "  warnings.warn('nperseg = {0:d} is greater than input length '\n",
      " 98%|██████████████████████████████████████████████████████████████████████████████▌ | 216/220 [38:50<00:41, 10.37s/it]"
     ]
    },
    {
     "name": "stdout",
     "output_type": "stream",
     "text": [
      "(124, 46, 27)\n",
      "(124, 45, 27)\n",
      "Exemplars  (124, 3645)\n",
      "124 47 128\n"
     ]
    },
    {
     "name": "stderr",
     "output_type": "stream",
     "text": [
      "C:\\Users\\hlw69\\Anaconda3\\lib\\site-packages\\scipy\\signal\\_spectral_py.py:1999: UserWarning: nperseg = 256 is greater than input length  = 128, using nperseg = 128\n",
      "  warnings.warn('nperseg = {0:d} is greater than input length '\n",
      " 99%|██████████████████████████████████████████████████████████████████████████████▉ | 217/220 [39:01<00:31, 10.42s/it]"
     ]
    },
    {
     "name": "stdout",
     "output_type": "stream",
     "text": [
      "(124, 46, 27)\n",
      "(124, 45, 27)\n",
      "Exemplars  (124, 3645)\n",
      "124 47 128\n"
     ]
    },
    {
     "name": "stderr",
     "output_type": "stream",
     "text": [
      "C:\\Users\\hlw69\\Anaconda3\\lib\\site-packages\\scipy\\signal\\_spectral_py.py:1999: UserWarning: nperseg = 256 is greater than input length  = 128, using nperseg = 128\n",
      "  warnings.warn('nperseg = {0:d} is greater than input length '\n",
      " 99%|███████████████████████████████████████████████████████████████████████████████▎| 218/220 [39:11<00:20, 10.47s/it]"
     ]
    },
    {
     "name": "stdout",
     "output_type": "stream",
     "text": [
      "(124, 46, 27)\n",
      "(124, 45, 27)\n",
      "Exemplars  (124, 3645)\n",
      "124 47 128\n"
     ]
    },
    {
     "name": "stderr",
     "output_type": "stream",
     "text": [
      "C:\\Users\\hlw69\\Anaconda3\\lib\\site-packages\\scipy\\signal\\_spectral_py.py:1999: UserWarning: nperseg = 256 is greater than input length  = 128, using nperseg = 128\n",
      "  warnings.warn('nperseg = {0:d} is greater than input length '\n",
      "100%|███████████████████████████████████████████████████████████████████████████████▋| 219/220 [39:22<00:10, 10.79s/it]"
     ]
    },
    {
     "name": "stdout",
     "output_type": "stream",
     "text": [
      "(124, 46, 27)\n",
      "(124, 45, 27)\n",
      "Exemplars  (124, 3645)\n"
     ]
    },
    {
     "name": "stderr",
     "output_type": "stream",
     "text": [
      "\n"
     ]
    },
    {
     "ename": "StopIteration",
     "evalue": "",
     "output_type": "error",
     "traceback": [
      "\u001b[1;31m---------------------------------------------------------------------------\u001b[0m",
      "\u001b[1;31mStopIteration\u001b[0m                             Traceback (most recent call last)",
      "Cell \u001b[1;32mIn [51], line 16\u001b[0m\n\u001b[0;32m     14\u001b[0m \u001b[38;5;28;01mfor\u001b[39;00m i \u001b[38;5;129;01min\u001b[39;00m tqdm(\u001b[38;5;28mrange\u001b[39m(exemplars)):\n\u001b[0;32m     15\u001b[0m     \u001b[38;5;28mprint\u001b[39m(\u001b[38;5;124m\"\u001b[39m\u001b[38;5;124mExemplars \u001b[39m\u001b[38;5;124m\"\u001b[39m,  decomposed_data[i]\u001b[38;5;241m.\u001b[39mshape)\n\u001b[1;32m---> 16\u001b[0m     decomposed_data[i] \u001b[38;5;241m=\u001b[39m sd\u001b[38;5;241m.\u001b[39mprocess_epochs(\u001b[43mepochs\u001b[49m\u001b[38;5;241;43m.\u001b[39;49m\u001b[43mnext\u001b[49m\u001b[43m(\u001b[49m\u001b[43m)\u001b[49m)\n\u001b[0;32m     18\u001b[0m decomposed_data \u001b[38;5;241m=\u001b[39m decomposed_data\u001b[38;5;241m.\u001b[39mreshape(decomposed_data\u001b[38;5;241m.\u001b[39mshape[\u001b[38;5;241m0\u001b[39m],\u001b[38;5;241m-\u001b[39m\u001b[38;5;241m1\u001b[39m)\n",
      "File \u001b[1;32m~\\Anaconda3\\lib\\site-packages\\mne\\utils\\mixin.py:342\u001b[0m, in \u001b[0;36mGetEpochsMixin.__next__\u001b[1;34m(self, return_event_id)\u001b[0m\n\u001b[0;32m    340\u001b[0m \u001b[38;5;28;01mif\u001b[39;00m \u001b[38;5;28mself\u001b[39m\u001b[38;5;241m.\u001b[39mpreload:\n\u001b[0;32m    341\u001b[0m     \u001b[38;5;28;01mif\u001b[39;00m \u001b[38;5;28mself\u001b[39m\u001b[38;5;241m.\u001b[39m_current \u001b[38;5;241m>\u001b[39m\u001b[38;5;241m=\u001b[39m \u001b[38;5;28mlen\u001b[39m(\u001b[38;5;28mself\u001b[39m\u001b[38;5;241m.\u001b[39m_data):\n\u001b[1;32m--> 342\u001b[0m         \u001b[38;5;28;43mself\u001b[39;49m\u001b[38;5;241;43m.\u001b[39;49m\u001b[43m_stop_iter\u001b[49m\u001b[43m(\u001b[49m\u001b[43m)\u001b[49m\n\u001b[0;32m    343\u001b[0m     epoch \u001b[38;5;241m=\u001b[39m \u001b[38;5;28mself\u001b[39m\u001b[38;5;241m.\u001b[39m_data[\u001b[38;5;28mself\u001b[39m\u001b[38;5;241m.\u001b[39m_current]\n\u001b[0;32m    344\u001b[0m     \u001b[38;5;28mself\u001b[39m\u001b[38;5;241m.\u001b[39m_current \u001b[38;5;241m+\u001b[39m\u001b[38;5;241m=\u001b[39m \u001b[38;5;241m1\u001b[39m\n",
      "File \u001b[1;32m~\\Anaconda3\\lib\\site-packages\\mne\\utils\\mixin.py:368\u001b[0m, in \u001b[0;36mGetEpochsMixin._stop_iter\u001b[1;34m(self)\u001b[0m\n\u001b[0;32m    366\u001b[0m \u001b[38;5;28;01mdel\u001b[39;00m \u001b[38;5;28mself\u001b[39m\u001b[38;5;241m.\u001b[39m_current\n\u001b[0;32m    367\u001b[0m \u001b[38;5;28;01mdel\u001b[39;00m \u001b[38;5;28mself\u001b[39m\u001b[38;5;241m.\u001b[39m_current_detrend_picks\n\u001b[1;32m--> 368\u001b[0m \u001b[38;5;28;01mraise\u001b[39;00m \u001b[38;5;167;01mStopIteration\u001b[39;00m\n",
      "\u001b[1;31mStopIteration\u001b[0m: "
     ]
    }
   ],
   "source": [
    "sd = StatisticalDecomposition()\n",
    "\n",
    "fs = epochs.info['sfreq']\n",
    "\n",
    "          #  num_feats = num_feats#27*4*3*5 # this needs automating (feats*d+dd*windows)\n",
    "X = epochs.get_data()\n",
    "            \n",
    "    \n",
    "exemplars, channels, time = epochs.get_data().shape\n",
    "tup = (exemplars, channels,3645)#,2349) #3645)\n",
    "print(tup)\n",
    "decomposed_data = np.empty(tup)\n",
    "            \n",
    "for i in tqdm(range(exemplars)):\n",
    "    print(\"Exemplars \",  decomposed_data[i].shape)\n",
    "    decomposed_data[i] = sd.process_epochs(epochs.next())\n",
    "\n",
    "decomposed_data = decomposed_data.reshape(decomposed_data.shape[0],-1)\n",
    "#warnings.simplefilter(\"default\")\n",
    "            \n",
    "           # labels = np.array([i for i in epochs._metadata['event_name']])\n",
    "\n",
    "            #if self.args['save']:\n",
    "             #   np.save(X, decomposed_data)\n",
    "            #    np.save(y, labels)\n",
    "\n"
   ]
  },
  {
   "cell_type": "code",
   "execution_count": 52,
   "id": "df325911",
   "metadata": {},
   "outputs": [
    {
     "name": "stdout",
     "output_type": "stream",
     "text": [
      "(220, 451980)\n"
     ]
    }
   ],
   "source": [
    "decomposed_data = decomposed_data.reshape(decomposed_data.shape[0],-1)\n",
    "print(decomposed_data.shape)"
   ]
  },
  {
   "cell_type": "markdown",
   "id": "c4f6a45b",
   "metadata": {},
   "source": [
    "### We create the labels for classification\n",
    "#### 1 = perception\n",
    "#### 0 = imagination"
   ]
  },
  {
   "cell_type": "code",
   "execution_count": 53,
   "id": "0b0c323f",
   "metadata": {
    "scrolled": true
   },
   "outputs": [
    {
     "name": "stdout",
     "output_type": "stream",
     "text": [
      "Labels [1 1 1 1 1 1 1 1 1 1 1 1 1 1 1 1 1 1 1 1 1 1 1 1 1 1 1 1 1 1 1 1 1 1 1 1 1\n",
      " 1 1 1 1 1 1 1 1 1 1 1 1 1 1 1 1 1 1 1 1 1 1 1 1 1 1 1 1 1 1 1 1 1 1 1 1 1\n",
      " 1 1 1 1 1 1 1 1 1 1 1 1 1 1 1 1 1 1 1 1 1 1 1 1 1 1 1 1 1 1 1 1 1 1 1 0 0\n",
      " 0 0 0 0 0 0 0 0 0 0 0 0 0 0 0 0 0 0 0 0 0 0 0 0 0 0 0 0 0 0 0 0 0 0 0 0 0\n",
      " 0 0 0 0 0 0 0 0 0 0 0 0 0 0 0 0 0 0 0 0 0 0 0 0 0 0 0 0 0 0 0 0 0 0 0 0 0\n",
      " 0 0 0 0 0 0 0 0 0 0 0 0 0 0 0 0 0 0 0 0 0 0 0 0 0 0 0 0 0 0 0 0 0 0 0]\n",
      "Shape of epoch data  (220, 124, 3073)\n"
     ]
    }
   ],
   "source": [
    "labels = epochs.events[:, -1]\n",
    "print(\"Labels\", labels)\n",
    "print(\"Shape of epoch data \", epochs.get_data().shape)\n",
    "\n"
   ]
  },
  {
   "cell_type": "markdown",
   "id": "383f63fd",
   "metadata": {},
   "source": [
    "## Classification\n",
    "Here, stratified cross validation is implemented with 5 fold. 50 iterations are set. However, the amount of iterations can be edited in the parameter settings."
   ]
  },
  {
   "cell_type": "code",
   "execution_count": null,
   "id": "94a33fed",
   "metadata": {},
   "outputs": [
    {
     "name": "stdout",
     "output_type": "stream",
     "text": [
      "Classifier = [0.75       0.72727273 0.75       0.79545455 0.79545455]. Mean accuracy = 0.7636363636363637\n",
      "Classifier = [0.75       0.72727273 0.75       0.79545455 0.79545455]. Mean accuracy = 0.7636363636363637\n",
      "Classifier = [0.75       0.72727273 0.75       0.79545455 0.79545455]. Mean accuracy = 0.7636363636363637\n",
      "Classifier = [0.75       0.72727273 0.75       0.79545455 0.79545455]. Mean accuracy = 0.7636363636363637\n",
      "Classifier = [0.75       0.72727273 0.75       0.79545455 0.79545455]. Mean accuracy = 0.7636363636363637\n",
      "Classifier = [0.75       0.72727273 0.75       0.79545455 0.79545455]. Mean accuracy = 0.7636363636363637\n",
      "Classifier = [0.75       0.72727273 0.75       0.79545455 0.79545455]. Mean accuracy = 0.7636363636363637\n"
     ]
    }
   ],
   "source": [
    "from sklearn.model_selection import cross_val_score\n",
    "from sklearn.ensemble import AdaBoostClassifier\n",
    "from sklearn.linear_model import LogisticRegression\n",
    "\n",
    "\n",
    "data = decomposed_data\n",
    "#data = epochs.get_data()\n",
    "clf = make_pipeline(\n",
    "  #  model\n",
    "    Scaler(epochs.info),\n",
    "  #  psd,\n",
    " #   UnsupervisedSpatialFilter(PCA(124), average=False),  # this has to be done due to this error: https://github.com/mne-tools/mne-python/issues/9094\n",
    "#    csp,\n",
    "    Vectorizer(),\n",
    "   # svm.SVC()\n",
    "  #  LogisticRegression(solver='liblinear')  # liblinear is faster than lbfgs\n",
    ")\n",
    "\n",
    "clf = AdaBoostClassifier(n_estimators=100)\n",
    "#clf =  LogisticRegression(solver='liblinear') \n",
    "\n",
    "\n",
    "accuracies = []\n",
    "from random import randint # ensure that different random_state each time\n",
    "for i in range(iterations):\n",
    "    scores = cross_val_score(clf, data, labels, cv=5)\n",
    "    print(f\"Classifier = {scores}. Mean accuracy = {scores.mean()}\")\n",
    "    accuracies.append(scores)\n",
    "\n",
    "#scores = cross_val_score(clf, data, labels, cv=5)\n",
    "#print(f\"AdaBoost = {scores}. Mean accuracy = {scores.mean()}\")"
   ]
  },
  {
   "cell_type": "code",
   "execution_count": 13,
   "id": "eff6b16e",
   "metadata": {},
   "outputs": [
    {
     "name": "stdout",
     "output_type": "stream",
     "text": [
      "psd created\n"
     ]
    },
    {
     "ename": "ValueError",
     "evalue": "info had 124 data channels but X has 176 channels",
     "output_type": "error",
     "traceback": [
      "\u001b[1;31m---------------------------------------------------------------------------\u001b[0m",
      "\u001b[1;31mValueError\u001b[0m                                Traceback (most recent call last)",
      "Cell \u001b[1;32mIn [13], line 53\u001b[0m\n\u001b[0;32m     51\u001b[0m preds \u001b[38;5;241m=\u001b[39m np\u001b[38;5;241m.\u001b[39mempty(\u001b[38;5;28mlen\u001b[39m(labels))\n\u001b[0;32m     52\u001b[0m \u001b[38;5;28;01mfor\u001b[39;00m train, test \u001b[38;5;129;01min\u001b[39;00m cv\u001b[38;5;241m.\u001b[39msplit(data, labels):\n\u001b[1;32m---> 53\u001b[0m     \u001b[43mclf\u001b[49m\u001b[38;5;241;43m.\u001b[39;49m\u001b[43mfit\u001b[49m\u001b[43m(\u001b[49m\u001b[43mdata\u001b[49m\u001b[43m[\u001b[49m\u001b[43mtrain\u001b[49m\u001b[43m]\u001b[49m\u001b[43m,\u001b[49m\u001b[43m \u001b[49m\u001b[43mlabels\u001b[49m\u001b[43m[\u001b[49m\u001b[43mtrain\u001b[49m\u001b[43m]\u001b[49m\u001b[43m)\u001b[49m\n\u001b[0;32m     54\u001b[0m     preds[test] \u001b[38;5;241m=\u001b[39m clf\u001b[38;5;241m.\u001b[39mpredict(data[test])\n\u001b[0;32m     55\u001b[0m    \u001b[38;5;66;03m# report = classification_report(labels[test], preds[test], target_names=target_names)\u001b[39;00m\n\u001b[0;32m     56\u001b[0m   \u001b[38;5;66;03m#  print(\"Results for training data : \\n \", report)\u001b[39;00m\n\u001b[0;32m     57\u001b[0m  \u001b[38;5;66;03m#   plot_confusion_matrix(clf, data[test], labels[test])  \u001b[39;00m\n\u001b[0;32m     58\u001b[0m   \u001b[38;5;66;03m#  plt.show()\u001b[39;00m\n",
      "File \u001b[1;32m~\\Anaconda3\\lib\\site-packages\\sklearn\\pipeline.py:378\u001b[0m, in \u001b[0;36mPipeline.fit\u001b[1;34m(self, X, y, **fit_params)\u001b[0m\n\u001b[0;32m    352\u001b[0m \u001b[38;5;124;03m\"\"\"Fit the model.\u001b[39;00m\n\u001b[0;32m    353\u001b[0m \n\u001b[0;32m    354\u001b[0m \u001b[38;5;124;03mFit all the transformers one after the other and transform the\u001b[39;00m\n\u001b[1;32m   (...)\u001b[0m\n\u001b[0;32m    375\u001b[0m \u001b[38;5;124;03m    Pipeline with fitted steps.\u001b[39;00m\n\u001b[0;32m    376\u001b[0m \u001b[38;5;124;03m\"\"\"\u001b[39;00m\n\u001b[0;32m    377\u001b[0m fit_params_steps \u001b[38;5;241m=\u001b[39m \u001b[38;5;28mself\u001b[39m\u001b[38;5;241m.\u001b[39m_check_fit_params(\u001b[38;5;241m*\u001b[39m\u001b[38;5;241m*\u001b[39mfit_params)\n\u001b[1;32m--> 378\u001b[0m Xt \u001b[38;5;241m=\u001b[39m \u001b[38;5;28mself\u001b[39m\u001b[38;5;241m.\u001b[39m_fit(X, y, \u001b[38;5;241m*\u001b[39m\u001b[38;5;241m*\u001b[39mfit_params_steps)\n\u001b[0;32m    379\u001b[0m \u001b[38;5;28;01mwith\u001b[39;00m _print_elapsed_time(\u001b[38;5;124m\"\u001b[39m\u001b[38;5;124mPipeline\u001b[39m\u001b[38;5;124m\"\u001b[39m, \u001b[38;5;28mself\u001b[39m\u001b[38;5;241m.\u001b[39m_log_message(\u001b[38;5;28mlen\u001b[39m(\u001b[38;5;28mself\u001b[39m\u001b[38;5;241m.\u001b[39msteps) \u001b[38;5;241m-\u001b[39m \u001b[38;5;241m1\u001b[39m)):\n\u001b[0;32m    380\u001b[0m     \u001b[38;5;28;01mif\u001b[39;00m \u001b[38;5;28mself\u001b[39m\u001b[38;5;241m.\u001b[39m_final_estimator \u001b[38;5;241m!=\u001b[39m \u001b[38;5;124m\"\u001b[39m\u001b[38;5;124mpassthrough\u001b[39m\u001b[38;5;124m\"\u001b[39m:\n",
      "File \u001b[1;32m~\\Anaconda3\\lib\\site-packages\\sklearn\\pipeline.py:336\u001b[0m, in \u001b[0;36mPipeline._fit\u001b[1;34m(self, X, y, **fit_params_steps)\u001b[0m\n\u001b[0;32m    334\u001b[0m     cloned_transformer \u001b[38;5;241m=\u001b[39m clone(transformer)\n\u001b[0;32m    335\u001b[0m \u001b[38;5;66;03m# Fit or load from cache the current transformer\u001b[39;00m\n\u001b[1;32m--> 336\u001b[0m X, fitted_transformer \u001b[38;5;241m=\u001b[39m fit_transform_one_cached(\n\u001b[0;32m    337\u001b[0m     cloned_transformer,\n\u001b[0;32m    338\u001b[0m     X,\n\u001b[0;32m    339\u001b[0m     y,\n\u001b[0;32m    340\u001b[0m     \u001b[38;5;28;01mNone\u001b[39;00m,\n\u001b[0;32m    341\u001b[0m     message_clsname\u001b[38;5;241m=\u001b[39m\u001b[38;5;124m\"\u001b[39m\u001b[38;5;124mPipeline\u001b[39m\u001b[38;5;124m\"\u001b[39m,\n\u001b[0;32m    342\u001b[0m     message\u001b[38;5;241m=\u001b[39m\u001b[38;5;28mself\u001b[39m\u001b[38;5;241m.\u001b[39m_log_message(step_idx),\n\u001b[0;32m    343\u001b[0m     \u001b[38;5;241m*\u001b[39m\u001b[38;5;241m*\u001b[39mfit_params_steps[name],\n\u001b[0;32m    344\u001b[0m )\n\u001b[0;32m    345\u001b[0m \u001b[38;5;66;03m# Replace the transformer of the step with the fitted\u001b[39;00m\n\u001b[0;32m    346\u001b[0m \u001b[38;5;66;03m# transformer. This is necessary when loading the transformer\u001b[39;00m\n\u001b[0;32m    347\u001b[0m \u001b[38;5;66;03m# from the cache.\u001b[39;00m\n\u001b[0;32m    348\u001b[0m \u001b[38;5;28mself\u001b[39m\u001b[38;5;241m.\u001b[39msteps[step_idx] \u001b[38;5;241m=\u001b[39m (name, fitted_transformer)\n",
      "File \u001b[1;32m~\\Anaconda3\\lib\\site-packages\\joblib\\memory.py:349\u001b[0m, in \u001b[0;36mNotMemorizedFunc.__call__\u001b[1;34m(self, *args, **kwargs)\u001b[0m\n\u001b[0;32m    348\u001b[0m \u001b[38;5;28;01mdef\u001b[39;00m \u001b[38;5;21m__call__\u001b[39m(\u001b[38;5;28mself\u001b[39m, \u001b[38;5;241m*\u001b[39margs, \u001b[38;5;241m*\u001b[39m\u001b[38;5;241m*\u001b[39mkwargs):\n\u001b[1;32m--> 349\u001b[0m     \u001b[38;5;28;01mreturn\u001b[39;00m \u001b[38;5;28mself\u001b[39m\u001b[38;5;241m.\u001b[39mfunc(\u001b[38;5;241m*\u001b[39margs, \u001b[38;5;241m*\u001b[39m\u001b[38;5;241m*\u001b[39mkwargs)\n",
      "File \u001b[1;32m~\\Anaconda3\\lib\\site-packages\\sklearn\\pipeline.py:870\u001b[0m, in \u001b[0;36m_fit_transform_one\u001b[1;34m(transformer, X, y, weight, message_clsname, message, **fit_params)\u001b[0m\n\u001b[0;32m    868\u001b[0m \u001b[38;5;28;01mwith\u001b[39;00m _print_elapsed_time(message_clsname, message):\n\u001b[0;32m    869\u001b[0m     \u001b[38;5;28;01mif\u001b[39;00m \u001b[38;5;28mhasattr\u001b[39m(transformer, \u001b[38;5;124m\"\u001b[39m\u001b[38;5;124mfit_transform\u001b[39m\u001b[38;5;124m\"\u001b[39m):\n\u001b[1;32m--> 870\u001b[0m         res \u001b[38;5;241m=\u001b[39m transformer\u001b[38;5;241m.\u001b[39mfit_transform(X, y, \u001b[38;5;241m*\u001b[39m\u001b[38;5;241m*\u001b[39mfit_params)\n\u001b[0;32m    871\u001b[0m     \u001b[38;5;28;01melse\u001b[39;00m:\n\u001b[0;32m    872\u001b[0m         res \u001b[38;5;241m=\u001b[39m transformer\u001b[38;5;241m.\u001b[39mfit(X, y, \u001b[38;5;241m*\u001b[39m\u001b[38;5;241m*\u001b[39mfit_params)\u001b[38;5;241m.\u001b[39mtransform(X)\n",
      "File \u001b[1;32m~\\Anaconda3\\lib\\site-packages\\mne\\decoding\\transformer.py:204\u001b[0m, in \u001b[0;36mScaler.fit_transform\u001b[1;34m(self, epochs_data, y)\u001b[0m\n\u001b[0;32m    180\u001b[0m \u001b[38;5;28;01mdef\u001b[39;00m \u001b[38;5;21mfit_transform\u001b[39m(\u001b[38;5;28mself\u001b[39m, epochs_data, y\u001b[38;5;241m=\u001b[39m\u001b[38;5;28;01mNone\u001b[39;00m):\n\u001b[0;32m    181\u001b[0m     \u001b[38;5;124;03m\"\"\"Fit to data, then transform it.\u001b[39;00m\n\u001b[0;32m    182\u001b[0m \n\u001b[0;32m    183\u001b[0m \u001b[38;5;124;03m    Fits transformer to epochs_data and y and returns a transformed version\u001b[39;00m\n\u001b[1;32m   (...)\u001b[0m\n\u001b[0;32m    202\u001b[0m \u001b[38;5;124;03m    memory usage may be large with big data.\u001b[39;00m\n\u001b[0;32m    203\u001b[0m \u001b[38;5;124;03m    \"\"\"\u001b[39;00m\n\u001b[1;32m--> 204\u001b[0m     \u001b[38;5;28;01mreturn\u001b[39;00m \u001b[38;5;28;43mself\u001b[39;49m\u001b[38;5;241;43m.\u001b[39;49m\u001b[43mfit\u001b[49m\u001b[43m(\u001b[49m\u001b[43mepochs_data\u001b[49m\u001b[43m,\u001b[49m\u001b[43m \u001b[49m\u001b[43my\u001b[49m\u001b[43m)\u001b[49m\u001b[38;5;241m.\u001b[39mtransform(epochs_data)\n",
      "File \u001b[1;32m~\\Anaconda3\\lib\\site-packages\\mne\\decoding\\transformer.py:150\u001b[0m, in \u001b[0;36mScaler.fit\u001b[1;34m(self, epochs_data, y)\u001b[0m\n\u001b[0;32m    148\u001b[0m     epochs_data \u001b[38;5;241m=\u001b[39m epochs_data[\u001b[38;5;241m.\u001b[39m\u001b[38;5;241m.\u001b[39m\u001b[38;5;241m.\u001b[39m, np\u001b[38;5;241m.\u001b[39mnewaxis]\n\u001b[0;32m    149\u001b[0m \u001b[38;5;28;01massert\u001b[39;00m epochs_data\u001b[38;5;241m.\u001b[39mndim \u001b[38;5;241m==\u001b[39m \u001b[38;5;241m3\u001b[39m, epochs_data\u001b[38;5;241m.\u001b[39mshape\n\u001b[1;32m--> 150\u001b[0m \u001b[43m_sklearn_reshape_apply\u001b[49m\u001b[43m(\u001b[49m\u001b[38;5;28;43mself\u001b[39;49m\u001b[38;5;241;43m.\u001b[39;49m\u001b[43m_scaler\u001b[49m\u001b[38;5;241;43m.\u001b[39;49m\u001b[43mfit\u001b[49m\u001b[43m,\u001b[49m\u001b[43m \u001b[49m\u001b[38;5;28;43;01mFalse\u001b[39;49;00m\u001b[43m,\u001b[49m\u001b[43m \u001b[49m\u001b[43mepochs_data\u001b[49m\u001b[43m,\u001b[49m\u001b[43m \u001b[49m\u001b[43my\u001b[49m\u001b[38;5;241;43m=\u001b[39;49m\u001b[43my\u001b[49m\u001b[43m)\u001b[49m\n\u001b[0;32m    151\u001b[0m \u001b[38;5;28;01mreturn\u001b[39;00m \u001b[38;5;28mself\u001b[39m\n",
      "File \u001b[1;32m~\\Anaconda3\\lib\\site-packages\\mne\\decoding\\transformer.py:61\u001b[0m, in \u001b[0;36m_sklearn_reshape_apply\u001b[1;34m(func, return_result, X, *args, **kwargs)\u001b[0m\n\u001b[0;32m     59\u001b[0m orig_shape \u001b[38;5;241m=\u001b[39m X\u001b[38;5;241m.\u001b[39mshape\n\u001b[0;32m     60\u001b[0m X \u001b[38;5;241m=\u001b[39m np\u001b[38;5;241m.\u001b[39mreshape(X\u001b[38;5;241m.\u001b[39mtranspose(\u001b[38;5;241m0\u001b[39m, \u001b[38;5;241m2\u001b[39m, \u001b[38;5;241m1\u001b[39m), (\u001b[38;5;241m-\u001b[39m\u001b[38;5;241m1\u001b[39m, orig_shape[\u001b[38;5;241m1\u001b[39m]))\n\u001b[1;32m---> 61\u001b[0m X \u001b[38;5;241m=\u001b[39m func(X, \u001b[38;5;241m*\u001b[39margs, \u001b[38;5;241m*\u001b[39m\u001b[38;5;241m*\u001b[39mkwargs)\n\u001b[0;32m     62\u001b[0m \u001b[38;5;28;01mif\u001b[39;00m return_result:\n\u001b[0;32m     63\u001b[0m     X\u001b[38;5;241m.\u001b[39mshape \u001b[38;5;241m=\u001b[39m (orig_shape[\u001b[38;5;241m0\u001b[39m], orig_shape[\u001b[38;5;241m2\u001b[39m], orig_shape[\u001b[38;5;241m1\u001b[39m])\n",
      "File \u001b[1;32m~\\Anaconda3\\lib\\site-packages\\mne\\decoding\\transformer.py:36\u001b[0m, in \u001b[0;36m_ConstantScaler.fit\u001b[1;34m(self, X, y)\u001b[0m\n\u001b[0;32m     34\u001b[0m std \u001b[38;5;241m=\u001b[39m np\u001b[38;5;241m.\u001b[39mones(\u001b[38;5;28msum\u001b[39m(\u001b[38;5;28mlen\u001b[39m(p[\u001b[38;5;241m1\u001b[39m]) \u001b[38;5;28;01mfor\u001b[39;00m p \u001b[38;5;129;01min\u001b[39;00m picks_by_type))\n\u001b[0;32m     35\u001b[0m \u001b[38;5;28;01mif\u001b[39;00m X\u001b[38;5;241m.\u001b[39mshape[\u001b[38;5;241m1\u001b[39m] \u001b[38;5;241m!=\u001b[39m \u001b[38;5;28mlen\u001b[39m(std):\n\u001b[1;32m---> 36\u001b[0m     \u001b[38;5;28;01mraise\u001b[39;00m \u001b[38;5;167;01mValueError\u001b[39;00m(\u001b[38;5;124m'\u001b[39m\u001b[38;5;124minfo had \u001b[39m\u001b[38;5;132;01m%d\u001b[39;00m\u001b[38;5;124m data channels but X has \u001b[39m\u001b[38;5;132;01m%d\u001b[39;00m\u001b[38;5;124m channels\u001b[39m\u001b[38;5;124m'\u001b[39m\n\u001b[0;32m     37\u001b[0m                      \u001b[38;5;241m%\u001b[39m (\u001b[38;5;28mlen\u001b[39m(std), \u001b[38;5;28mlen\u001b[39m(X)))\n\u001b[0;32m     38\u001b[0m \u001b[38;5;28;01mif\u001b[39;00m \u001b[38;5;28mself\u001b[39m\u001b[38;5;241m.\u001b[39m_do_scaling:  \u001b[38;5;66;03m# this is silly, but necessary for completeness\u001b[39;00m\n\u001b[0;32m     39\u001b[0m     \u001b[38;5;28;01mfor\u001b[39;00m kind, picks \u001b[38;5;129;01min\u001b[39;00m picks_by_type:\n",
      "\u001b[1;31mValueError\u001b[0m: info had 124 data channels but X has 176 channels"
     ]
    }
   ],
   "source": [
    "from xgboost import XGBClassifier\n",
    "from sklearn import svm\n",
    "from sklearn.discriminant_analysis import LinearDiscriminantAnalysis\n",
    "from sklearn.linear_model import LogisticRegression\n",
    "from sklearn.preprocessing import RobustScaler, StandardScaler\n",
    "from sklearn.pipeline import make_pipeline\n",
    "from mne.decoding import CSP, Scaler, Vectorizer, cross_val_multiscore,PSDEstimator,UnsupervisedSpatialFilter\n",
    "from sklearn.model_selection import train_test_split\n",
    "from sklearn.model_selection import StratifiedKFold\n",
    "from sklearn.metrics import classification_report, confusion_matrix\n",
    "from sklearn.decomposition import PCA\n",
    "from sklearn import svm\n",
    "from sklearn.metrics import plot_confusion_matrix, accuracy_score\n",
    "import matplotlib.pyplot as plt\n",
    "\n",
    "\n",
    "\n",
    "data = decomposed_data\n",
    "#data =  epochs.get_data()\n",
    "#data = data.reshape(data.shape[0],data.shape[1]*data.shape[2])\n",
    "#print(\"Should be 2D if using XGBoost \", data.shape)\n",
    "#X_train, X_test, y_train, y_test = train_test_split(data, labels, test_size=0.2, random_state=42)\n",
    "\n",
    "#psd = mne.decoding.PSDEstimator()\n",
    "\n",
    "csp = CSP(n_components=4, norm_trace=False, reg = 'empirical')\n",
    "print(\"psd created\")\n",
    "\n",
    "#model = XGBClassifier(use_label_encoder=False, eval_metric='mlogloss')\n",
    "\n",
    "clf = make_pipeline(\n",
    "  #  model\n",
    "    Scaler(epochs.info),\n",
    "  #  psd,\n",
    " #   UnsupervisedSpatialFilter(PCA(124), average=False),  # this has to be done due to this error: https://github.com/mne-tools/mne-python/issues/9094\n",
    "#    csp,\n",
    "    Vectorizer(),\n",
    "   # svm.SVC()\n",
    "    LogisticRegression(solver='liblinear')  # liblinear is faster than lbfgs\n",
    ")\n",
    "\n",
    "target_names = ['perception', 'imagination']\n",
    "#linscores = cross_validate(linreg, X_train, y_train, scoring=scoring, return_estimator=True)\n",
    "\n",
    "# Cross validator\n",
    "accuracies = []\n",
    "from random import randint # ensure that different random_state each  time\n",
    "for i in range(iterations):\n",
    "    scores = cross_val_score(clf, data, labels, cv=5)\n",
    "    print(f\"Classifier = {scores}. Mean accuracy = {scores.mean()}\")\n",
    "    accuracies.append(scores)\n",
    "   # print(i)\n",
    "   # cv = StratifiedKFold(n_splits=5, shuffle=True, random_state=randint(1,50))\n",
    "   # preds = np.empty(len(labels))\n",
    "   # for train, test in cv.split(data, labels):\n",
    "   #     clf.fit(data[train], labels[train])\n",
    "   #     preds[test] = clf.predict(data[test])\n",
    "       # report = classification_report(labels[test], preds[test], target_names=target_names)\n",
    "      #  print(\"Results for training data : \\n \", report)\n",
    "     #   plot_confusion_matrix(clf, data[test], labels[test])  \n",
    "      #  plt.show()\n",
    "    #    acc = accuracy_score(preds[test], labels[test])\n",
    "     #   print(acc)\n",
    "      #  accuracies.append(acc)\n",
    "\n",
    "print(\"Classification accuracy: %f \" % (np.mean(accuracies)))"
   ]
  },
  {
   "cell_type": "code",
   "execution_count": null,
   "id": "b4086a1d",
   "metadata": {},
   "outputs": [],
   "source": [
    "id = subject+'_'+session\n",
    "pipe = clf.steps[1:]\n",
    "std = str(np.std(accuracies))\n",
    "mean = str(np.mean(accuracies))\n",
    "print(\"results for \", id, \"using \", pipe, \" are mean and std \", mean, std)\n",
    "with open('perception_vs_imagination_'+task+'.csv','a') as fd:\n",
    "  #  fd.write(str(np.mean(accuracies)))\n",
    "    fd.write(f\"{id}, {pipe},{mean}, {std}, {iterations}\\n\")"
   ]
  },
  {
   "cell_type": "code",
   "execution_count": null,
   "id": "26e4bef9",
   "metadata": {},
   "outputs": [],
   "source": [
    "#print(clf)"
   ]
  },
  {
   "cell_type": "code",
   "execution_count": null,
   "id": "1f3d2e74",
   "metadata": {
    "scrolled": true
   },
   "outputs": [],
   "source": [
    "#target_names = ['perception', 'imagination']\n",
    "# Classification report\n",
    "#report = classification_report(y_train, preds, target_names=target_names)\n",
    "#print(\"Results for training data : \\n \", report)\n",
    "\n",
    "# test on unseen data\n",
    "#unseen_preds = np.empty(len(y_test))\n",
    "#unseen_preds = clf.predict(X_test)\n",
    "\n",
    "#clsf_report = pd.DataFrame(classification_report(y_test, unseen_preds, target_names=target_names, output_dict=True)).transpose()\n",
    "#clsf_report.to_csv(subject+'_'+session+'_ClassificationReport.csv', index= True)\n",
    "#print(\"Results for unseen test data : \\n \", clsf_report)\n"
   ]
  },
  {
   "cell_type": "code",
   "execution_count": null,
   "id": "c35106da",
   "metadata": {},
   "outputs": [],
   "source": [
    "#clsf_report"
   ]
  },
  {
   "cell_type": "code",
   "execution_count": null,
   "id": "9c3d3820",
   "metadata": {},
   "outputs": [],
   "source": [
    "vviq = [4.25, 3.1, 4.9,  3.3, 3.2, 4.2, 4.1, 3.5, 3.6, 3.1]\n",
    "bais = [4.8,  4.2, 6.33, 4,   3.8, 5,  5.7, 4,    5.6, 3.8]\n",
    "\n",
    "from scipy import stats\n",
    "# check to see whether they violate assumptions of normality\n",
    "print(stats.shapiro(vviq))\n",
    "print(stats.shapiro(bais))\n",
    "\n",
    "#print(stats.ttest_rel(vviq, bais))\n",
    "\n",
    "from scipy.stats.stats import pearsonr, spearmanr\n",
    "print(spearmanr(vviq,bais))"
   ]
  },
  {
   "cell_type": "code",
   "execution_count": null,
   "id": "a2bafc5e",
   "metadata": {},
   "outputs": [],
   "source": []
  }
 ],
 "metadata": {
  "celltoolbar": "Tags",
  "kernelspec": {
   "display_name": "Python 3 (ipykernel)",
   "language": "python",
   "name": "python3"
  },
  "language_info": {
   "codemirror_mode": {
    "name": "ipython",
    "version": 3
   },
   "file_extension": ".py",
   "mimetype": "text/x-python",
   "name": "python",
   "nbconvert_exporter": "python",
   "pygments_lexer": "ipython3",
   "version": "3.9.15"
  }
 },
 "nbformat": 4,
 "nbformat_minor": 5
}
